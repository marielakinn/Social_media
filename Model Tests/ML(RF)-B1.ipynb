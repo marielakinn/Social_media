{
 "cells": [
  {
   "cell_type": "markdown",
   "id": "f0bf2a0c",
   "metadata": {},
   "source": [
    "### RF - Binary Classifier"
   ]
  },
  {
   "cell_type": "code",
   "execution_count": 1,
   "id": "24393ae9",
   "metadata": {},
   "outputs": [
    {
     "data": {
      "text/html": [
       "<div>\n",
       "<style scoped>\n",
       "    .dataframe tbody tr th:only-of-type {\n",
       "        vertical-align: middle;\n",
       "    }\n",
       "\n",
       "    .dataframe tbody tr th {\n",
       "        vertical-align: top;\n",
       "    }\n",
       "\n",
       "    .dataframe thead th {\n",
       "        text-align: right;\n",
       "    }\n",
       "</style>\n",
       "<table border=\"1\" class=\"dataframe\">\n",
       "  <thead>\n",
       "    <tr style=\"text-align: right;\">\n",
       "      <th></th>\n",
       "      <th>state</th>\n",
       "      <th>spend</th>\n",
       "      <th>Impressions</th>\n",
       "      <th>leads</th>\n",
       "      <th>link_clicks</th>\n",
       "      <th>reach</th>\n",
       "      <th>Agency Tiers</th>\n",
       "    </tr>\n",
       "  </thead>\n",
       "  <tbody>\n",
       "    <tr>\n",
       "      <th>0</th>\n",
       "      <td>TN</td>\n",
       "      <td>8.96</td>\n",
       "      <td>492</td>\n",
       "      <td>0</td>\n",
       "      <td>0</td>\n",
       "      <td>483</td>\n",
       "      <td>NaN</td>\n",
       "    </tr>\n",
       "    <tr>\n",
       "      <th>1</th>\n",
       "      <td>GA</td>\n",
       "      <td>15.92</td>\n",
       "      <td>797</td>\n",
       "      <td>0</td>\n",
       "      <td>3</td>\n",
       "      <td>773</td>\n",
       "      <td>NaN</td>\n",
       "    </tr>\n",
       "    <tr>\n",
       "      <th>2</th>\n",
       "      <td>MO</td>\n",
       "      <td>11.16</td>\n",
       "      <td>836</td>\n",
       "      <td>1</td>\n",
       "      <td>2</td>\n",
       "      <td>798</td>\n",
       "      <td>NaN</td>\n",
       "    </tr>\n",
       "    <tr>\n",
       "      <th>3</th>\n",
       "      <td>RI</td>\n",
       "      <td>8.80</td>\n",
       "      <td>759</td>\n",
       "      <td>0</td>\n",
       "      <td>2</td>\n",
       "      <td>729</td>\n",
       "      <td>NaN</td>\n",
       "    </tr>\n",
       "    <tr>\n",
       "      <th>4</th>\n",
       "      <td>CA</td>\n",
       "      <td>5.83</td>\n",
       "      <td>500</td>\n",
       "      <td>0</td>\n",
       "      <td>0</td>\n",
       "      <td>476</td>\n",
       "      <td>NaN</td>\n",
       "    </tr>\n",
       "  </tbody>\n",
       "</table>\n",
       "</div>"
      ],
      "text/plain": [
       "  state  spend  Impressions  leads  link_clicks  reach  Agency Tiers\n",
       "0    TN   8.96          492      0            0    483           NaN\n",
       "1    GA  15.92          797      0            3    773           NaN\n",
       "2    MO  11.16          836      1            2    798           NaN\n",
       "3    RI   8.80          759      0            2    729           NaN\n",
       "4    CA   5.83          500      0            0    476           NaN"
      ]
     },
     "execution_count": 1,
     "metadata": {},
     "output_type": "execute_result"
    }
   ],
   "source": [
    "# Import our dependencies\n",
    "from sklearn.model_selection import train_test_split\n",
    "from sklearn.preprocessing import StandardScaler,OneHotEncoder\n",
    "import pandas as pd\n",
    "import tensorflow as tf\n",
    "import pandas as pd\n",
    "from sklearn.ensemble import RandomForestClassifier\n",
    "from sklearn.metrics import confusion_matrix, accuracy_score, classification_report\n",
    "# Import and read the csv.\n",
    "# # b1 view\n",
    "df = pd.read_csv(\"../ML_Data_&_Preprocessing/b1_df_nonEncoded.csv\", index_col=[0])\n",
    "df.head()"
   ]
  },
  {
   "cell_type": "code",
   "execution_count": null,
   "id": "2f928ef9",
   "metadata": {},
   "outputs": [],
   "source": [
    "# add date start \n",
    "# time series analysis preferred \n"
   ]
  },
  {
   "cell_type": "code",
   "execution_count": 2,
   "id": "e4d484e3",
   "metadata": {},
   "outputs": [
    {
     "data": {
      "text/plain": [
       "0    57153\n",
       "1    45676\n",
       "Name: leads, dtype: int64"
      ]
     },
     "execution_count": 2,
     "metadata": {},
     "output_type": "execute_result"
    }
   ],
   "source": [
    "df['leads'].value_counts()"
   ]
  },
  {
   "cell_type": "code",
   "execution_count": 3,
   "id": "0029bb1a",
   "metadata": {},
   "outputs": [
    {
     "data": {
      "text/plain": [
       "TX    12200\n",
       "CA     9216\n",
       "OH     7480\n",
       "TN     5689\n",
       "FL     4675\n",
       "CO     4518\n",
       "IL     4425\n",
       "PA     4360\n",
       "MO     4318\n",
       "NJ     3974\n",
       "NC     3823\n",
       "MI     3791\n",
       "AZ     3660\n",
       "GA     2751\n",
       "MN     2409\n",
       "WA     2303\n",
       "WI     2004\n",
       "NY     1978\n",
       "OR     1800\n",
       "MA     1737\n",
       "LA     1603\n",
       "CT     1491\n",
       "IN     1310\n",
       "KY     1242\n",
       "VA     1148\n",
       "KS     1098\n",
       "IA      927\n",
       "RI      908\n",
       "MS      873\n",
       "ME      747\n",
       "NM      707\n",
       "OK      613\n",
       "SC      565\n",
       "UT      451\n",
       "ID      392\n",
       "ND      387\n",
       "AR      368\n",
       "NV      338\n",
       "AL      290\n",
       "NE      260\n",
       "Name: state, dtype: int64"
      ]
     },
     "execution_count": 3,
     "metadata": {},
     "output_type": "execute_result"
    }
   ],
   "source": [
    "# check on different state values for testing \n",
    "df['state'].value_counts()"
   ]
  },
  {
   "cell_type": "code",
   "execution_count": 4,
   "id": "b73e0f28",
   "metadata": {},
   "outputs": [
    {
     "data": {
      "text/html": [
       "<div>\n",
       "<style scoped>\n",
       "    .dataframe tbody tr th:only-of-type {\n",
       "        vertical-align: middle;\n",
       "    }\n",
       "\n",
       "    .dataframe tbody tr th {\n",
       "        vertical-align: top;\n",
       "    }\n",
       "\n",
       "    .dataframe thead th {\n",
       "        text-align: right;\n",
       "    }\n",
       "</style>\n",
       "<table border=\"1\" class=\"dataframe\">\n",
       "  <thead>\n",
       "    <tr style=\"text-align: right;\">\n",
       "      <th></th>\n",
       "      <th>state</th>\n",
       "      <th>spend</th>\n",
       "      <th>Impressions</th>\n",
       "      <th>leads</th>\n",
       "      <th>link_clicks</th>\n",
       "      <th>reach</th>\n",
       "      <th>Agency Tiers</th>\n",
       "    </tr>\n",
       "  </thead>\n",
       "  <tbody>\n",
       "    <tr>\n",
       "      <th>42405</th>\n",
       "      <td>NE</td>\n",
       "      <td>31.53</td>\n",
       "      <td>1552</td>\n",
       "      <td>1</td>\n",
       "      <td>12</td>\n",
       "      <td>1425</td>\n",
       "      <td>NaN</td>\n",
       "    </tr>\n",
       "    <tr>\n",
       "      <th>42773</th>\n",
       "      <td>NE</td>\n",
       "      <td>32.75</td>\n",
       "      <td>1587</td>\n",
       "      <td>1</td>\n",
       "      <td>4</td>\n",
       "      <td>1477</td>\n",
       "      <td>NaN</td>\n",
       "    </tr>\n",
       "    <tr>\n",
       "      <th>43645</th>\n",
       "      <td>NE</td>\n",
       "      <td>32.21</td>\n",
       "      <td>1740</td>\n",
       "      <td>0</td>\n",
       "      <td>5</td>\n",
       "      <td>1628</td>\n",
       "      <td>NaN</td>\n",
       "    </tr>\n",
       "    <tr>\n",
       "      <th>43857</th>\n",
       "      <td>NE</td>\n",
       "      <td>32.17</td>\n",
       "      <td>1655</td>\n",
       "      <td>1</td>\n",
       "      <td>13</td>\n",
       "      <td>1542</td>\n",
       "      <td>NaN</td>\n",
       "    </tr>\n",
       "    <tr>\n",
       "      <th>44050</th>\n",
       "      <td>NE</td>\n",
       "      <td>31.85</td>\n",
       "      <td>1570</td>\n",
       "      <td>1</td>\n",
       "      <td>8</td>\n",
       "      <td>1512</td>\n",
       "      <td>NaN</td>\n",
       "    </tr>\n",
       "    <tr>\n",
       "      <th>...</th>\n",
       "      <td>...</td>\n",
       "      <td>...</td>\n",
       "      <td>...</td>\n",
       "      <td>...</td>\n",
       "      <td>...</td>\n",
       "      <td>...</td>\n",
       "      <td>...</td>\n",
       "    </tr>\n",
       "    <tr>\n",
       "      <th>99048</th>\n",
       "      <td>NE</td>\n",
       "      <td>37.72</td>\n",
       "      <td>2418</td>\n",
       "      <td>0</td>\n",
       "      <td>32</td>\n",
       "      <td>2130</td>\n",
       "      <td>NaN</td>\n",
       "    </tr>\n",
       "    <tr>\n",
       "      <th>99066</th>\n",
       "      <td>NE</td>\n",
       "      <td>20.37</td>\n",
       "      <td>2170</td>\n",
       "      <td>0</td>\n",
       "      <td>8</td>\n",
       "      <td>1540</td>\n",
       "      <td>NaN</td>\n",
       "    </tr>\n",
       "    <tr>\n",
       "      <th>99119</th>\n",
       "      <td>NE</td>\n",
       "      <td>31.31</td>\n",
       "      <td>2449</td>\n",
       "      <td>0</td>\n",
       "      <td>8</td>\n",
       "      <td>1727</td>\n",
       "      <td>NaN</td>\n",
       "    </tr>\n",
       "    <tr>\n",
       "      <th>99121</th>\n",
       "      <td>NE</td>\n",
       "      <td>30.07</td>\n",
       "      <td>3100</td>\n",
       "      <td>0</td>\n",
       "      <td>8</td>\n",
       "      <td>1853</td>\n",
       "      <td>NaN</td>\n",
       "    </tr>\n",
       "    <tr>\n",
       "      <th>99155</th>\n",
       "      <td>NE</td>\n",
       "      <td>21.14</td>\n",
       "      <td>1676</td>\n",
       "      <td>0</td>\n",
       "      <td>2</td>\n",
       "      <td>1452</td>\n",
       "      <td>NaN</td>\n",
       "    </tr>\n",
       "  </tbody>\n",
       "</table>\n",
       "<p>260 rows × 7 columns</p>\n",
       "</div>"
      ],
      "text/plain": [
       "      state  spend  Impressions  leads  link_clicks  reach  Agency Tiers\n",
       "42405    NE  31.53         1552      1           12   1425           NaN\n",
       "42773    NE  32.75         1587      1            4   1477           NaN\n",
       "43645    NE  32.21         1740      0            5   1628           NaN\n",
       "43857    NE  32.17         1655      1           13   1542           NaN\n",
       "44050    NE  31.85         1570      1            8   1512           NaN\n",
       "...     ...    ...          ...    ...          ...    ...           ...\n",
       "99048    NE  37.72         2418      0           32   2130           NaN\n",
       "99066    NE  20.37         2170      0            8   1540           NaN\n",
       "99119    NE  31.31         2449      0            8   1727           NaN\n",
       "99121    NE  30.07         3100      0            8   1853           NaN\n",
       "99155    NE  21.14         1676      0            2   1452           NaN\n",
       "\n",
       "[260 rows x 7 columns]"
      ]
     },
     "execution_count": 4,
     "metadata": {},
     "output_type": "execute_result"
    }
   ],
   "source": [
    "df2 = df.loc[df['state']== 'NE']\n",
    "df2"
   ]
  },
  {
   "cell_type": "code",
   "execution_count": 5,
   "id": "6ee30b20",
   "metadata": {},
   "outputs": [
    {
     "name": "stdout",
     "output_type": "stream",
     "text": [
      "<class 'pandas.core.frame.DataFrame'>\n",
      "Int64Index: 260 entries, 42405 to 99155\n",
      "Data columns (total 7 columns):\n",
      " #   Column        Non-Null Count  Dtype  \n",
      "---  ------        --------------  -----  \n",
      " 0   state         260 non-null    object \n",
      " 1   spend         260 non-null    float64\n",
      " 2   Impressions   260 non-null    int64  \n",
      " 3   leads         260 non-null    int64  \n",
      " 4   link_clicks   260 non-null    int64  \n",
      " 5   reach         260 non-null    int64  \n",
      " 6   Agency Tiers  0 non-null      float64\n",
      "dtypes: float64(2), int64(4), object(1)\n",
      "memory usage: 16.2+ KB\n"
     ]
    }
   ],
   "source": [
    "df2.info()"
   ]
  },
  {
   "cell_type": "code",
   "execution_count": 6,
   "id": "8ebc5e66",
   "metadata": {},
   "outputs": [],
   "source": [
    "df3 = df2.drop(df2.columns[[0,6]], axis=1)"
   ]
  },
  {
   "cell_type": "code",
   "execution_count": 7,
   "id": "45c4cd95",
   "metadata": {},
   "outputs": [
    {
     "name": "stdout",
     "output_type": "stream",
     "text": [
      "<class 'pandas.core.frame.DataFrame'>\n",
      "Int64Index: 260 entries, 42405 to 99155\n",
      "Data columns (total 5 columns):\n",
      " #   Column       Non-Null Count  Dtype  \n",
      "---  ------       --------------  -----  \n",
      " 0   spend        260 non-null    float64\n",
      " 1   Impressions  260 non-null    int64  \n",
      " 2   leads        260 non-null    int64  \n",
      " 3   link_clicks  260 non-null    int64  \n",
      " 4   reach        260 non-null    int64  \n",
      "dtypes: float64(1), int64(4)\n",
      "memory usage: 12.2 KB\n"
     ]
    }
   ],
   "source": [
    "df3.info()"
   ]
  },
  {
   "cell_type": "markdown",
   "id": "74950ca5",
   "metadata": {},
   "source": [
    "### Seperate features, x and target, y"
   ]
  },
  {
   "cell_type": "code",
   "execution_count": 8,
   "id": "9bce014b",
   "metadata": {},
   "outputs": [],
   "source": [
    "y = df3[\"leads\"]\n",
    "X = df3.drop(columns=\"leads\")"
   ]
  },
  {
   "cell_type": "markdown",
   "id": "f7ddd945",
   "metadata": {},
   "source": [
    "### Split into train and test features"
   ]
  },
  {
   "cell_type": "code",
   "execution_count": 9,
   "id": "d66990c2",
   "metadata": {},
   "outputs": [],
   "source": [
    "# Splitting into Train and Test sets.\n",
    "X_train, X_test, y_train, y_test = train_test_split(X, y, random_state=78)"
   ]
  },
  {
   "cell_type": "markdown",
   "id": "017a5971",
   "metadata": {},
   "source": [
    "### Create scaler instance "
   ]
  },
  {
   "cell_type": "code",
   "execution_count": 10,
   "id": "a926dd8c",
   "metadata": {},
   "outputs": [],
   "source": [
    "# Creating a StandardScaler instance.\n",
    "scaler = StandardScaler()\n",
    "# Fitting the Standard Scaler with the training data.\n",
    "X_scaler = scaler.fit(X_train)\n",
    "\n",
    "# Scaling the data.\n",
    "X_train_scaled = X_scaler.transform(X_train)\n",
    "X_test_scaled = X_scaler.transform(X_test)"
   ]
  },
  {
   "cell_type": "markdown",
   "id": "d6a8807a",
   "metadata": {},
   "source": [
    "### Boosting"
   ]
  },
  {
   "cell_type": "code",
   "execution_count": 11,
   "id": "30240f6a",
   "metadata": {},
   "outputs": [],
   "source": [
    "# from sklearn.ensemble import GradientBoostingClassifier\n",
    "# learning_rates = [0.05, 0.1, 0.25, 0.5, 0.75, 1]\n",
    "# for learning_rate in learning_rates:\n",
    "#    classifier = GradientBoostingClassifier(n_estimators=20,\n",
    "#    learning_rate=learning_rate,\n",
    "#    max_features=5,\n",
    "#    max_depth=3,\n",
    "#    random_state=0)\n",
    "#    classifier.fit(X_train_scaled, y_train.ravel)"
   ]
  },
  {
   "cell_type": "markdown",
   "id": "c5daa69d",
   "metadata": {},
   "source": [
    "### Fit/train or model using training data"
   ]
  },
  {
   "cell_type": "code",
   "execution_count": 12,
   "id": "1d469293",
   "metadata": {},
   "outputs": [],
   "source": [
    "# Create a random forest classifier.\n",
    "rf_model = RandomForestClassifier(n_estimators=128, random_state=78) "
   ]
  },
  {
   "cell_type": "code",
   "execution_count": 13,
   "id": "3dabc732",
   "metadata": {},
   "outputs": [],
   "source": [
    "# Fitting the model\n",
    "rf_model = rf_model.fit(X_train_scaled, y_train)"
   ]
  },
  {
   "cell_type": "markdown",
   "id": "448f832d",
   "metadata": {},
   "source": [
    "### Make predictions"
   ]
  },
  {
   "cell_type": "code",
   "execution_count": 14,
   "id": "bc21252c",
   "metadata": {},
   "outputs": [],
   "source": [
    "# Making predictions using the testing data.\n",
    "predictions = rf_model.predict(X_test_scaled)"
   ]
  },
  {
   "cell_type": "markdown",
   "id": "4cf98864",
   "metadata": {},
   "source": [
    "### Validate"
   ]
  },
  {
   "cell_type": "code",
   "execution_count": 15,
   "id": "f8845d7b",
   "metadata": {},
   "outputs": [
    {
     "data": {
      "text/html": [
       "<div>\n",
       "<style scoped>\n",
       "    .dataframe tbody tr th:only-of-type {\n",
       "        vertical-align: middle;\n",
       "    }\n",
       "\n",
       "    .dataframe tbody tr th {\n",
       "        vertical-align: top;\n",
       "    }\n",
       "\n",
       "    .dataframe thead th {\n",
       "        text-align: right;\n",
       "    }\n",
       "</style>\n",
       "<table border=\"1\" class=\"dataframe\">\n",
       "  <thead>\n",
       "    <tr style=\"text-align: right;\">\n",
       "      <th></th>\n",
       "      <th>Predicted 0</th>\n",
       "      <th>Predicted 1</th>\n",
       "    </tr>\n",
       "  </thead>\n",
       "  <tbody>\n",
       "    <tr>\n",
       "      <th>Actual 0</th>\n",
       "      <td>58</td>\n",
       "      <td>0</td>\n",
       "    </tr>\n",
       "    <tr>\n",
       "      <th>Actual 1</th>\n",
       "      <td>5</td>\n",
       "      <td>2</td>\n",
       "    </tr>\n",
       "  </tbody>\n",
       "</table>\n",
       "</div>"
      ],
      "text/plain": [
       "          Predicted 0  Predicted 1\n",
       "Actual 0           58            0\n",
       "Actual 1            5            2"
      ]
     },
     "execution_count": 15,
     "metadata": {},
     "output_type": "execute_result"
    }
   ],
   "source": [
    "# Calculating the confusion matrix.\n",
    "cm = confusion_matrix(y_test, predictions)\n",
    "\n",
    "# Create a DataFrame from the confusion matrix.\n",
    "cm_df = pd.DataFrame(\n",
    "    cm, index=[\"Actual 0\", \"Actual 1\"], columns=[\"Predicted 0\", \"Predicted 1\"])\n",
    "\n",
    "cm_df"
   ]
  },
  {
   "cell_type": "code",
   "execution_count": 16,
   "id": "1524399c",
   "metadata": {},
   "outputs": [],
   "source": [
    "# Calculating the accuracy score.\n",
    "acc_score = accuracy_score(y_test, predictions)"
   ]
  },
  {
   "cell_type": "code",
   "execution_count": 17,
   "id": "c297cedc",
   "metadata": {},
   "outputs": [
    {
     "name": "stdout",
     "output_type": "stream",
     "text": [
      "Confusion Matrix\n"
     ]
    },
    {
     "data": {
      "text/html": [
       "<div>\n",
       "<style scoped>\n",
       "    .dataframe tbody tr th:only-of-type {\n",
       "        vertical-align: middle;\n",
       "    }\n",
       "\n",
       "    .dataframe tbody tr th {\n",
       "        vertical-align: top;\n",
       "    }\n",
       "\n",
       "    .dataframe thead th {\n",
       "        text-align: right;\n",
       "    }\n",
       "</style>\n",
       "<table border=\"1\" class=\"dataframe\">\n",
       "  <thead>\n",
       "    <tr style=\"text-align: right;\">\n",
       "      <th></th>\n",
       "      <th>Predicted 0</th>\n",
       "      <th>Predicted 1</th>\n",
       "    </tr>\n",
       "  </thead>\n",
       "  <tbody>\n",
       "    <tr>\n",
       "      <th>Actual 0</th>\n",
       "      <td>58</td>\n",
       "      <td>0</td>\n",
       "    </tr>\n",
       "    <tr>\n",
       "      <th>Actual 1</th>\n",
       "      <td>5</td>\n",
       "      <td>2</td>\n",
       "    </tr>\n",
       "  </tbody>\n",
       "</table>\n",
       "</div>"
      ],
      "text/plain": [
       "          Predicted 0  Predicted 1\n",
       "Actual 0           58            0\n",
       "Actual 1            5            2"
      ]
     },
     "metadata": {},
     "output_type": "display_data"
    },
    {
     "name": "stdout",
     "output_type": "stream",
     "text": [
      "Accuracy Score : 0.9230769230769231\n",
      "Classification Report\n",
      "              precision    recall  f1-score   support\n",
      "\n",
      "           0       0.92      1.00      0.96        58\n",
      "           1       1.00      0.29      0.44         7\n",
      "\n",
      "    accuracy                           0.92        65\n",
      "   macro avg       0.96      0.64      0.70        65\n",
      "weighted avg       0.93      0.92      0.90        65\n",
      "\n"
     ]
    }
   ],
   "source": [
    "# Displaying results\n",
    "print(\"Confusion Matrix\")\n",
    "display(cm_df)\n",
    "print(f\"Accuracy Score : {acc_score}\")\n",
    "print(\"Classification Report\")\n",
    "print(classification_report(y_test, predictions))"
   ]
  },
  {
   "cell_type": "markdown",
   "id": "87ef5bbd",
   "metadata": {},
   "source": [
    "### Rank Importances, unique to RF Algo"
   ]
  },
  {
   "cell_type": "code",
   "execution_count": 18,
   "id": "a6202548",
   "metadata": {},
   "outputs": [
    {
     "data": {
      "text/plain": [
       "array([0.34859005, 0.24972721, 0.10428099, 0.29740174])"
      ]
     },
     "execution_count": 18,
     "metadata": {},
     "output_type": "execute_result"
    }
   ],
   "source": [
    "# Calculate feature importance in the Random Forest model.\n",
    "importances = rf_model.feature_importances_\n",
    "importances"
   ]
  },
  {
   "cell_type": "code",
   "execution_count": 19,
   "id": "c1cbc6f8",
   "metadata": {},
   "outputs": [
    {
     "data": {
      "text/plain": [
       "[(0.3485900490545146, 'spend'),\n",
       " (0.29740174399096975, 'reach'),\n",
       " (0.24972721235455467, 'Impressions'),\n",
       " (0.104280994599961, 'link_clicks')]"
      ]
     },
     "execution_count": 19,
     "metadata": {},
     "output_type": "execute_result"
    }
   ],
   "source": [
    "# We can sort the features by their importance.\n",
    "sorted(zip(rf_model.feature_importances_, X.columns), reverse=True)"
   ]
  },
  {
   "cell_type": "code",
   "execution_count": 20,
   "id": "a44c8ab0",
   "metadata": {},
   "outputs": [
    {
     "data": {
      "text/plain": [
       "{'State': ['KY', 'OH', 'MO', 'NE'],\n",
       " 'Predictive Accuracy': [0.92, 0.91, 0.75, 0.92],\n",
       " 'Tier': ['T2', 'T1', 'T3', 'T4']}"
      ]
     },
     "execution_count": 20,
     "metadata": {},
     "output_type": "execute_result"
    }
   ],
   "source": [
    "data_results_b1 = {\n",
    "        'State': ['KY', 'OH', 'MO', 'NE'],\n",
    "        'Predictive Accuracy': [.92, .91, .75, .92],\n",
    "        'Tier': ['T2', 'T1', 'T3', 'T4']}\n",
    "data_results_b1"
   ]
  },
  {
   "cell_type": "code",
   "execution_count": 21,
   "id": "66385be5",
   "metadata": {},
   "outputs": [
    {
     "data": {
      "text/html": [
       "<div>\n",
       "<style scoped>\n",
       "    .dataframe tbody tr th:only-of-type {\n",
       "        vertical-align: middle;\n",
       "    }\n",
       "\n",
       "    .dataframe tbody tr th {\n",
       "        vertical-align: top;\n",
       "    }\n",
       "\n",
       "    .dataframe thead th {\n",
       "        text-align: right;\n",
       "    }\n",
       "</style>\n",
       "<table border=\"1\" class=\"dataframe\">\n",
       "  <thead>\n",
       "    <tr style=\"text-align: right;\">\n",
       "      <th></th>\n",
       "      <th>State</th>\n",
       "      <th>Predictive Accuracy</th>\n",
       "      <th>Tier</th>\n",
       "    </tr>\n",
       "  </thead>\n",
       "  <tbody>\n",
       "    <tr>\n",
       "      <th>0</th>\n",
       "      <td>KY</td>\n",
       "      <td>0.92</td>\n",
       "      <td>T2</td>\n",
       "    </tr>\n",
       "    <tr>\n",
       "      <th>1</th>\n",
       "      <td>OH</td>\n",
       "      <td>0.91</td>\n",
       "      <td>T1</td>\n",
       "    </tr>\n",
       "    <tr>\n",
       "      <th>2</th>\n",
       "      <td>MO</td>\n",
       "      <td>0.75</td>\n",
       "      <td>T3</td>\n",
       "    </tr>\n",
       "    <tr>\n",
       "      <th>3</th>\n",
       "      <td>NE</td>\n",
       "      <td>0.92</td>\n",
       "      <td>T4</td>\n",
       "    </tr>\n",
       "  </tbody>\n",
       "</table>\n",
       "</div>"
      ],
      "text/plain": [
       "  State  Predictive Accuracy Tier\n",
       "0    KY                 0.92   T2\n",
       "1    OH                 0.91   T1\n",
       "2    MO                 0.75   T3\n",
       "3    NE                 0.92   T4"
      ]
     },
     "execution_count": 21,
     "metadata": {},
     "output_type": "execute_result"
    }
   ],
   "source": [
    "# create the new df to display brand, state, and model accuracy \n",
    "df_results_b1 = pd.DataFrame(data_results_b1)\n",
    "df_results_b1"
   ]
  },
  {
   "cell_type": "code",
   "execution_count": 22,
   "id": "db303f24",
   "metadata": {},
   "outputs": [],
   "source": [
    "df_results_b1.to_csv('b1_resultsRF.csv')"
   ]
  }
 ],
 "metadata": {
  "kernelspec": {
   "display_name": "PythonData",
   "language": "python",
   "name": "pythondata"
  },
  "language_info": {
   "codemirror_mode": {
    "name": "ipython",
    "version": 3
   },
   "file_extension": ".py",
   "mimetype": "text/x-python",
   "name": "python",
   "nbconvert_exporter": "python",
   "pygments_lexer": "ipython3",
   "version": "3.7.11"
  }
 },
 "nbformat": 4,
 "nbformat_minor": 5
}
