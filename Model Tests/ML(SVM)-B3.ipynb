{
 "cells": [
  {
   "cell_type": "markdown",
   "id": "f0bf2a0c",
   "metadata": {},
   "source": [
    "### SVM - Binary Classifier"
   ]
  },
  {
   "cell_type": "code",
   "execution_count": null,
   "id": "63c9cd43",
   "metadata": {},
   "outputs": [],
   "source": [
    "# svm can categorize our leads target into 2 classes of yes or no leads\n",
    "# how do we draw our boundary line? \n",
    "# soft margins for errors in classifying as yes/no lead?\n"
   ]
  },
  {
   "cell_type": "code",
   "execution_count": 1,
   "id": "24393ae9",
   "metadata": {},
   "outputs": [
    {
     "data": {
      "text/html": [
       "<div>\n",
       "<style scoped>\n",
       "    .dataframe tbody tr th:only-of-type {\n",
       "        vertical-align: middle;\n",
       "    }\n",
       "\n",
       "    .dataframe tbody tr th {\n",
       "        vertical-align: top;\n",
       "    }\n",
       "\n",
       "    .dataframe thead th {\n",
       "        text-align: right;\n",
       "    }\n",
       "</style>\n",
       "<table border=\"1\" class=\"dataframe\">\n",
       "  <thead>\n",
       "    <tr style=\"text-align: right;\">\n",
       "      <th></th>\n",
       "      <th>state</th>\n",
       "      <th>spend</th>\n",
       "      <th>Impressions</th>\n",
       "      <th>leads</th>\n",
       "      <th>link_clicks</th>\n",
       "      <th>reach</th>\n",
       "      <th>Agency Tiers</th>\n",
       "    </tr>\n",
       "  </thead>\n",
       "  <tbody>\n",
       "    <tr>\n",
       "      <th>0</th>\n",
       "      <td>IL</td>\n",
       "      <td>47.33</td>\n",
       "      <td>1780</td>\n",
       "      <td>0</td>\n",
       "      <td>7</td>\n",
       "      <td>1689</td>\n",
       "      <td>4.0</td>\n",
       "    </tr>\n",
       "    <tr>\n",
       "      <th>1</th>\n",
       "      <td>NY</td>\n",
       "      <td>63.65</td>\n",
       "      <td>1857</td>\n",
       "      <td>1</td>\n",
       "      <td>10</td>\n",
       "      <td>1737</td>\n",
       "      <td>4.0</td>\n",
       "    </tr>\n",
       "    <tr>\n",
       "      <th>2</th>\n",
       "      <td>OK</td>\n",
       "      <td>32.53</td>\n",
       "      <td>1718</td>\n",
       "      <td>0</td>\n",
       "      <td>7</td>\n",
       "      <td>1527</td>\n",
       "      <td>4.0</td>\n",
       "    </tr>\n",
       "    <tr>\n",
       "      <th>3</th>\n",
       "      <td>SC</td>\n",
       "      <td>32.31</td>\n",
       "      <td>1725</td>\n",
       "      <td>1</td>\n",
       "      <td>14</td>\n",
       "      <td>1645</td>\n",
       "      <td>4.0</td>\n",
       "    </tr>\n",
       "    <tr>\n",
       "      <th>4</th>\n",
       "      <td>CA</td>\n",
       "      <td>101.13</td>\n",
       "      <td>3745</td>\n",
       "      <td>1</td>\n",
       "      <td>28</td>\n",
       "      <td>3513</td>\n",
       "      <td>4.0</td>\n",
       "    </tr>\n",
       "  </tbody>\n",
       "</table>\n",
       "</div>"
      ],
      "text/plain": [
       "  state   spend  Impressions  leads  link_clicks  reach  Agency Tiers\n",
       "0    IL   47.33         1780      0            7   1689           4.0\n",
       "1    NY   63.65         1857      1           10   1737           4.0\n",
       "2    OK   32.53         1718      0            7   1527           4.0\n",
       "3    SC   32.31         1725      1           14   1645           4.0\n",
       "4    CA  101.13         3745      1           28   3513           4.0"
      ]
     },
     "execution_count": 1,
     "metadata": {},
     "output_type": "execute_result"
    }
   ],
   "source": [
    "# Import our dependencies\n",
    "from sklearn.model_selection import train_test_split\n",
    "from sklearn.preprocessing import StandardScaler,OneHotEncoder\n",
    "import pandas as pd\n",
    "import tensorflow as tf\n",
    "import pandas as pd\n",
    "\n",
    "# Import and read the csv.\n",
    "df = pd.read_csv(\"../ML_Data_&_Preprocessing/b3_df_nonEncoded.csv\", index_col=[0])\n",
    "df.head()"
   ]
  },
  {
   "cell_type": "code",
   "execution_count": 2,
   "id": "39a203de",
   "metadata": {},
   "outputs": [
    {
     "data": {
      "text/plain": [
       "1    21698\n",
       "0    12272\n",
       "Name: leads, dtype: int64"
      ]
     },
     "execution_count": 2,
     "metadata": {},
     "output_type": "execute_result"
    }
   ],
   "source": [
    "df['leads'].value_counts()"
   ]
  },
  {
   "cell_type": "code",
   "execution_count": 3,
   "id": "0029bb1a",
   "metadata": {},
   "outputs": [
    {
     "data": {
      "text/plain": [
       "CA    7685\n",
       "TX    4254\n",
       "VA    3239\n",
       "CO    2386\n",
       "FL    1758\n",
       "MI    1655\n",
       "GA    1620\n",
       "NY    1486\n",
       "NC    1050\n",
       "TN     970\n",
       "WA     960\n",
       "NJ     919\n",
       "CT     893\n",
       "OH     842\n",
       "MO     777\n",
       "MN     628\n",
       "IL     605\n",
       "MA     454\n",
       "SC     365\n",
       "OK     365\n",
       "MD     357\n",
       "DC     250\n",
       "SD     246\n",
       "NE     173\n",
       "PA      33\n",
       "Name: state, dtype: int64"
      ]
     },
     "execution_count": 3,
     "metadata": {},
     "output_type": "execute_result"
    }
   ],
   "source": [
    "# check on different state values for testing \n",
    "df['state'].value_counts()"
   ]
  },
  {
   "cell_type": "code",
   "execution_count": 47,
   "id": "1b9d7187",
   "metadata": {},
   "outputs": [
    {
     "data": {
      "text/html": [
       "<div>\n",
       "<style scoped>\n",
       "    .dataframe tbody tr th:only-of-type {\n",
       "        vertical-align: middle;\n",
       "    }\n",
       "\n",
       "    .dataframe tbody tr th {\n",
       "        vertical-align: top;\n",
       "    }\n",
       "\n",
       "    .dataframe thead th {\n",
       "        text-align: right;\n",
       "    }\n",
       "</style>\n",
       "<table border=\"1\" class=\"dataframe\">\n",
       "  <thead>\n",
       "    <tr style=\"text-align: right;\">\n",
       "      <th></th>\n",
       "      <th>state</th>\n",
       "      <th>spend</th>\n",
       "      <th>Impressions</th>\n",
       "      <th>leads</th>\n",
       "      <th>link_clicks</th>\n",
       "      <th>reach</th>\n",
       "      <th>Agency Tiers</th>\n",
       "    </tr>\n",
       "  </thead>\n",
       "  <tbody>\n",
       "    <tr>\n",
       "      <th>10533</th>\n",
       "      <td>DC</td>\n",
       "      <td>33.91</td>\n",
       "      <td>1532</td>\n",
       "      <td>0</td>\n",
       "      <td>15</td>\n",
       "      <td>1458</td>\n",
       "      <td>3.0</td>\n",
       "    </tr>\n",
       "    <tr>\n",
       "      <th>10543</th>\n",
       "      <td>DC</td>\n",
       "      <td>29.54</td>\n",
       "      <td>1625</td>\n",
       "      <td>1</td>\n",
       "      <td>7</td>\n",
       "      <td>1597</td>\n",
       "      <td>3.0</td>\n",
       "    </tr>\n",
       "    <tr>\n",
       "      <th>10546</th>\n",
       "      <td>DC</td>\n",
       "      <td>30.91</td>\n",
       "      <td>1227</td>\n",
       "      <td>0</td>\n",
       "      <td>11</td>\n",
       "      <td>1199</td>\n",
       "      <td>3.0</td>\n",
       "    </tr>\n",
       "    <tr>\n",
       "      <th>10550</th>\n",
       "      <td>DC</td>\n",
       "      <td>32.16</td>\n",
       "      <td>1538</td>\n",
       "      <td>1</td>\n",
       "      <td>8</td>\n",
       "      <td>1488</td>\n",
       "      <td>3.0</td>\n",
       "    </tr>\n",
       "    <tr>\n",
       "      <th>10576</th>\n",
       "      <td>DC</td>\n",
       "      <td>31.76</td>\n",
       "      <td>1542</td>\n",
       "      <td>1</td>\n",
       "      <td>12</td>\n",
       "      <td>1525</td>\n",
       "      <td>3.0</td>\n",
       "    </tr>\n",
       "    <tr>\n",
       "      <th>...</th>\n",
       "      <td>...</td>\n",
       "      <td>...</td>\n",
       "      <td>...</td>\n",
       "      <td>...</td>\n",
       "      <td>...</td>\n",
       "      <td>...</td>\n",
       "      <td>...</td>\n",
       "    </tr>\n",
       "    <tr>\n",
       "      <th>15224</th>\n",
       "      <td>DC</td>\n",
       "      <td>32.42</td>\n",
       "      <td>1310</td>\n",
       "      <td>1</td>\n",
       "      <td>5</td>\n",
       "      <td>1280</td>\n",
       "      <td>3.0</td>\n",
       "    </tr>\n",
       "    <tr>\n",
       "      <th>15226</th>\n",
       "      <td>DC</td>\n",
       "      <td>35.93</td>\n",
       "      <td>1623</td>\n",
       "      <td>1</td>\n",
       "      <td>7</td>\n",
       "      <td>1574</td>\n",
       "      <td>3.0</td>\n",
       "    </tr>\n",
       "    <tr>\n",
       "      <th>15254</th>\n",
       "      <td>DC</td>\n",
       "      <td>31.12</td>\n",
       "      <td>1641</td>\n",
       "      <td>1</td>\n",
       "      <td>11</td>\n",
       "      <td>1600</td>\n",
       "      <td>3.0</td>\n",
       "    </tr>\n",
       "    <tr>\n",
       "      <th>15266</th>\n",
       "      <td>DC</td>\n",
       "      <td>33.87</td>\n",
       "      <td>1303</td>\n",
       "      <td>1</td>\n",
       "      <td>6</td>\n",
       "      <td>1270</td>\n",
       "      <td>3.0</td>\n",
       "    </tr>\n",
       "    <tr>\n",
       "      <th>15275</th>\n",
       "      <td>DC</td>\n",
       "      <td>34.10</td>\n",
       "      <td>1396</td>\n",
       "      <td>1</td>\n",
       "      <td>7</td>\n",
       "      <td>1320</td>\n",
       "      <td>3.0</td>\n",
       "    </tr>\n",
       "  </tbody>\n",
       "</table>\n",
       "<p>250 rows × 7 columns</p>\n",
       "</div>"
      ],
      "text/plain": [
       "      state  spend  Impressions  leads  link_clicks  reach  Agency Tiers\n",
       "10533    DC  33.91         1532      0           15   1458           3.0\n",
       "10543    DC  29.54         1625      1            7   1597           3.0\n",
       "10546    DC  30.91         1227      0           11   1199           3.0\n",
       "10550    DC  32.16         1538      1            8   1488           3.0\n",
       "10576    DC  31.76         1542      1           12   1525           3.0\n",
       "...     ...    ...          ...    ...          ...    ...           ...\n",
       "15224    DC  32.42         1310      1            5   1280           3.0\n",
       "15226    DC  35.93         1623      1            7   1574           3.0\n",
       "15254    DC  31.12         1641      1           11   1600           3.0\n",
       "15266    DC  33.87         1303      1            6   1270           3.0\n",
       "15275    DC  34.10         1396      1            7   1320           3.0\n",
       "\n",
       "[250 rows x 7 columns]"
      ]
     },
     "execution_count": 47,
     "metadata": {},
     "output_type": "execute_result"
    }
   ],
   "source": [
    "df2 = df.loc[df['state']== 'DC']\n",
    "df2"
   ]
  },
  {
   "cell_type": "code",
   "execution_count": 48,
   "id": "2b639259",
   "metadata": {},
   "outputs": [
    {
     "name": "stdout",
     "output_type": "stream",
     "text": [
      "<class 'pandas.core.frame.DataFrame'>\n",
      "Int64Index: 250 entries, 10533 to 15275\n",
      "Data columns (total 7 columns):\n",
      " #   Column        Non-Null Count  Dtype  \n",
      "---  ------        --------------  -----  \n",
      " 0   state         250 non-null    object \n",
      " 1   spend         250 non-null    float64\n",
      " 2   Impressions   250 non-null    int64  \n",
      " 3   leads         250 non-null    int64  \n",
      " 4   link_clicks   250 non-null    int64  \n",
      " 5   reach         250 non-null    int64  \n",
      " 6   Agency Tiers  250 non-null    float64\n",
      "dtypes: float64(2), int64(4), object(1)\n",
      "memory usage: 15.6+ KB\n"
     ]
    }
   ],
   "source": [
    "df2.info()"
   ]
  },
  {
   "cell_type": "code",
   "execution_count": 49,
   "id": "1a06e12b",
   "metadata": {},
   "outputs": [],
   "source": [
    "df3 = df2.drop(df2.columns[[0,6]], axis=1)"
   ]
  },
  {
   "cell_type": "code",
   "execution_count": 50,
   "id": "503f273f",
   "metadata": {},
   "outputs": [
    {
     "name": "stdout",
     "output_type": "stream",
     "text": [
      "<class 'pandas.core.frame.DataFrame'>\n",
      "Int64Index: 250 entries, 10533 to 15275\n",
      "Data columns (total 5 columns):\n",
      " #   Column       Non-Null Count  Dtype  \n",
      "---  ------       --------------  -----  \n",
      " 0   spend        250 non-null    float64\n",
      " 1   Impressions  250 non-null    int64  \n",
      " 2   leads        250 non-null    int64  \n",
      " 3   link_clicks  250 non-null    int64  \n",
      " 4   reach        250 non-null    int64  \n",
      "dtypes: float64(1), int64(4)\n",
      "memory usage: 11.7 KB\n"
     ]
    }
   ],
   "source": [
    "df3.info()"
   ]
  },
  {
   "cell_type": "markdown",
   "id": "74950ca5",
   "metadata": {},
   "source": [
    "### Seperate features, x and target, y"
   ]
  },
  {
   "cell_type": "code",
   "execution_count": 51,
   "id": "9bce014b",
   "metadata": {},
   "outputs": [],
   "source": [
    "# index, with iloc document for only portion of my rows to test\n",
    "y = df3[\"leads\"]\n",
    "X = df3.drop(columns=\"leads\")"
   ]
  },
  {
   "cell_type": "markdown",
   "id": "f7ddd945",
   "metadata": {},
   "source": [
    "### Split into train and test features"
   ]
  },
  {
   "cell_type": "code",
   "execution_count": 52,
   "id": "d66990c2",
   "metadata": {},
   "outputs": [
    {
     "data": {
      "text/plain": [
       "(187, 4)"
      ]
     },
     "execution_count": 52,
     "metadata": {},
     "output_type": "execute_result"
    }
   ],
   "source": [
    "from sklearn.model_selection import train_test_split\n",
    "X_train, X_test, y_train, y_test = train_test_split(X,\n",
    "   y,  random_state=1, stratify=y)\n",
    "X_train.shape"
   ]
  },
  {
   "cell_type": "code",
   "execution_count": 53,
   "id": "e708616b",
   "metadata": {},
   "outputs": [],
   "source": [
    "from sklearn.preprocessing import MinMaxScaler\n",
    "scaling = MinMaxScaler(feature_range=(-1,1)).fit(X_train)\n",
    "X_train = scaling.transform(X_train)\n",
    "X_test = scaling.transform(X_test)"
   ]
  },
  {
   "cell_type": "markdown",
   "id": "017a5971",
   "metadata": {},
   "source": [
    "### Create SVM instance "
   ]
  },
  {
   "cell_type": "code",
   "execution_count": 54,
   "id": "a926dd8c",
   "metadata": {},
   "outputs": [],
   "source": [
    "from sklearn.svm import SVC\n",
    "model = SVC(kernel='linear')"
   ]
  },
  {
   "cell_type": "markdown",
   "id": "c5daa69d",
   "metadata": {},
   "source": [
    "### Fit/train or model using training data"
   ]
  },
  {
   "cell_type": "code",
   "execution_count": 55,
   "id": "1d469293",
   "metadata": {},
   "outputs": [
    {
     "data": {
      "text/plain": [
       "SVC(kernel='linear')"
      ]
     },
     "execution_count": 55,
     "metadata": {},
     "output_type": "execute_result"
    }
   ],
   "source": [
    "model.fit(X_train, y_train)"
   ]
  },
  {
   "cell_type": "markdown",
   "id": "448f832d",
   "metadata": {},
   "source": [
    "### Make predictions"
   ]
  },
  {
   "cell_type": "code",
   "execution_count": 56,
   "id": "bc21252c",
   "metadata": {},
   "outputs": [
    {
     "data": {
      "text/html": [
       "<div>\n",
       "<style scoped>\n",
       "    .dataframe tbody tr th:only-of-type {\n",
       "        vertical-align: middle;\n",
       "    }\n",
       "\n",
       "    .dataframe tbody tr th {\n",
       "        vertical-align: top;\n",
       "    }\n",
       "\n",
       "    .dataframe thead th {\n",
       "        text-align: right;\n",
       "    }\n",
       "</style>\n",
       "<table border=\"1\" class=\"dataframe\">\n",
       "  <thead>\n",
       "    <tr style=\"text-align: right;\">\n",
       "      <th></th>\n",
       "      <th>Prediction</th>\n",
       "      <th>Actual</th>\n",
       "    </tr>\n",
       "  </thead>\n",
       "  <tbody>\n",
       "    <tr>\n",
       "      <th>0</th>\n",
       "      <td>1</td>\n",
       "      <td>1</td>\n",
       "    </tr>\n",
       "    <tr>\n",
       "      <th>1</th>\n",
       "      <td>1</td>\n",
       "      <td>1</td>\n",
       "    </tr>\n",
       "    <tr>\n",
       "      <th>2</th>\n",
       "      <td>1</td>\n",
       "      <td>1</td>\n",
       "    </tr>\n",
       "    <tr>\n",
       "      <th>3</th>\n",
       "      <td>1</td>\n",
       "      <td>1</td>\n",
       "    </tr>\n",
       "    <tr>\n",
       "      <th>4</th>\n",
       "      <td>1</td>\n",
       "      <td>1</td>\n",
       "    </tr>\n",
       "  </tbody>\n",
       "</table>\n",
       "</div>"
      ],
      "text/plain": [
       "   Prediction  Actual\n",
       "0           1       1\n",
       "1           1       1\n",
       "2           1       1\n",
       "3           1       1\n",
       "4           1       1"
      ]
     },
     "execution_count": 56,
     "metadata": {},
     "output_type": "execute_result"
    }
   ],
   "source": [
    "y_pred = model.predict(X_test)\n",
    "results = pd.DataFrame({\n",
    "   \"Prediction\": y_pred,\n",
    "   \"Actual\": y_test\n",
    "}).reset_index(drop=True)\n",
    "results.head()"
   ]
  },
  {
   "cell_type": "markdown",
   "id": "4cf98864",
   "metadata": {},
   "source": [
    "### Validate"
   ]
  },
  {
   "cell_type": "code",
   "execution_count": 57,
   "id": "f8845d7b",
   "metadata": {},
   "outputs": [
    {
     "data": {
      "text/plain": [
       "0.7619047619047619"
      ]
     },
     "execution_count": 57,
     "metadata": {},
     "output_type": "execute_result"
    }
   ],
   "source": [
    "# accuracy score\n",
    "from sklearn.metrics import accuracy_score\n",
    "accuracy_score(y_test, y_pred)"
   ]
  },
  {
   "cell_type": "code",
   "execution_count": 58,
   "id": "1524399c",
   "metadata": {},
   "outputs": [
    {
     "data": {
      "text/plain": [
       "array([[ 0, 15],\n",
       "       [ 0, 48]], dtype=int64)"
      ]
     },
     "execution_count": 58,
     "metadata": {},
     "output_type": "execute_result"
    }
   ],
   "source": [
    "# confusion matrix\n",
    "from sklearn.metrics import confusion_matrix\n",
    "confusion_matrix(y_test, y_pred)"
   ]
  },
  {
   "cell_type": "code",
   "execution_count": 59,
   "id": "c297cedc",
   "metadata": {},
   "outputs": [
    {
     "name": "stdout",
     "output_type": "stream",
     "text": [
      "              precision    recall  f1-score   support\n",
      "\n",
      "           0       0.00      0.00      0.00        15\n",
      "           1       0.76      1.00      0.86        48\n",
      "\n",
      "    accuracy                           0.76        63\n",
      "   macro avg       0.38      0.50      0.43        63\n",
      "weighted avg       0.58      0.76      0.66        63\n",
      "\n"
     ]
    },
    {
     "name": "stderr",
     "output_type": "stream",
     "text": [
      "C:\\Users\\dia78039\\Anaconda3\\envs\\PythonData\\lib\\site-packages\\sklearn\\metrics\\_classification.py:1248: UndefinedMetricWarning: Precision and F-score are ill-defined and being set to 0.0 in labels with no predicted samples. Use `zero_division` parameter to control this behavior.\n",
      "  _warn_prf(average, modifier, msg_start, len(result))\n",
      "C:\\Users\\dia78039\\Anaconda3\\envs\\PythonData\\lib\\site-packages\\sklearn\\metrics\\_classification.py:1248: UndefinedMetricWarning: Precision and F-score are ill-defined and being set to 0.0 in labels with no predicted samples. Use `zero_division` parameter to control this behavior.\n",
      "  _warn_prf(average, modifier, msg_start, len(result))\n",
      "C:\\Users\\dia78039\\Anaconda3\\envs\\PythonData\\lib\\site-packages\\sklearn\\metrics\\_classification.py:1248: UndefinedMetricWarning: Precision and F-score are ill-defined and being set to 0.0 in labels with no predicted samples. Use `zero_division` parameter to control this behavior.\n",
      "  _warn_prf(average, modifier, msg_start, len(result))\n"
     ]
    }
   ],
   "source": [
    "# classification report\n",
    "from sklearn.metrics import classification_report\n",
    "print(classification_report(y_test, y_pred))"
   ]
  },
  {
   "cell_type": "code",
   "execution_count": 62,
   "id": "a44c8ab0",
   "metadata": {},
   "outputs": [
    {
     "data": {
      "text/plain": [
       "{'State': ['CA', 'NY', 'IL', 'DC'],\n",
       " 'Predictive Accuracy': [0.8, 0.85, 0.78, 0.76],\n",
       " 'Tier': ['T1', 'T2', 'T3', 'T4']}"
      ]
     },
     "execution_count": 62,
     "metadata": {},
     "output_type": "execute_result"
    }
   ],
   "source": [
    "data_results_b3 = {\n",
    "        'State': ['CA', 'NY', 'IL', 'DC'],\n",
    "        'Predictive Accuracy': [.80, .85, .78, .76],\n",
    "        'Tier': ['T1', 'T2', 'T3', 'T4']}\n",
    "data_results_b3"
   ]
  },
  {
   "cell_type": "code",
   "execution_count": 63,
   "id": "3171447b",
   "metadata": {},
   "outputs": [
    {
     "data": {
      "text/html": [
       "<div>\n",
       "<style scoped>\n",
       "    .dataframe tbody tr th:only-of-type {\n",
       "        vertical-align: middle;\n",
       "    }\n",
       "\n",
       "    .dataframe tbody tr th {\n",
       "        vertical-align: top;\n",
       "    }\n",
       "\n",
       "    .dataframe thead th {\n",
       "        text-align: right;\n",
       "    }\n",
       "</style>\n",
       "<table border=\"1\" class=\"dataframe\">\n",
       "  <thead>\n",
       "    <tr style=\"text-align: right;\">\n",
       "      <th></th>\n",
       "      <th>State</th>\n",
       "      <th>Predictive Accuracy</th>\n",
       "      <th>Tier</th>\n",
       "    </tr>\n",
       "  </thead>\n",
       "  <tbody>\n",
       "    <tr>\n",
       "      <th>0</th>\n",
       "      <td>CA</td>\n",
       "      <td>0.80</td>\n",
       "      <td>T1</td>\n",
       "    </tr>\n",
       "    <tr>\n",
       "      <th>1</th>\n",
       "      <td>NY</td>\n",
       "      <td>0.85</td>\n",
       "      <td>T2</td>\n",
       "    </tr>\n",
       "    <tr>\n",
       "      <th>2</th>\n",
       "      <td>IL</td>\n",
       "      <td>0.78</td>\n",
       "      <td>T3</td>\n",
       "    </tr>\n",
       "    <tr>\n",
       "      <th>3</th>\n",
       "      <td>DC</td>\n",
       "      <td>0.76</td>\n",
       "      <td>T4</td>\n",
       "    </tr>\n",
       "  </tbody>\n",
       "</table>\n",
       "</div>"
      ],
      "text/plain": [
       "  State  Predictive Accuracy Tier\n",
       "0    CA                 0.80   T1\n",
       "1    NY                 0.85   T2\n",
       "2    IL                 0.78   T3\n",
       "3    DC                 0.76   T4"
      ]
     },
     "execution_count": 63,
     "metadata": {},
     "output_type": "execute_result"
    }
   ],
   "source": [
    "# create the new df to display brand, state, and model accuracy \n",
    "df_results_b3 = pd.DataFrame(data_results_b3)\n",
    "df_results_b3"
   ]
  },
  {
   "cell_type": "code",
   "execution_count": 64,
   "id": "7bc010d8",
   "metadata": {},
   "outputs": [],
   "source": [
    "df_results_b3.to_csv('b3_resultsSVM.csv')"
   ]
  },
  {
   "cell_type": "code",
   "execution_count": null,
   "id": "b4814c07",
   "metadata": {},
   "outputs": [],
   "source": []
  }
 ],
 "metadata": {
  "kernelspec": {
   "display_name": "PythonData",
   "language": "python",
   "name": "pythondata"
  },
  "language_info": {
   "codemirror_mode": {
    "name": "ipython",
    "version": 3
   },
   "file_extension": ".py",
   "mimetype": "text/x-python",
   "name": "python",
   "nbconvert_exporter": "python",
   "pygments_lexer": "ipython3",
   "version": "3.7.11"
  }
 },
 "nbformat": 4,
 "nbformat_minor": 5
}
