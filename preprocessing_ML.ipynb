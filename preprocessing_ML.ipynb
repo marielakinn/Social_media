{
 "cells": [
  {
   "cell_type": "markdown",
   "id": "f0bf2a0c",
   "metadata": {},
   "source": [
    "# Preprocessing the Data for a Neural Network\n"
   ]
  },
  {
   "cell_type": "code",
   "execution_count": 33,
   "id": "24393ae9",
   "metadata": {},
   "outputs": [
    {
     "name": "stderr",
     "output_type": "stream",
     "text": [
      "C:\\Users\\dia78039\\Anaconda3\\envs\\PythonData\\lib\\site-packages\\IPython\\core\\interactiveshell.py:3444: DtypeWarning: Columns (11) have mixed types.Specify dtype option on import or set low_memory=False.\n",
      "  exec(code_obj, self.user_global_ns, self.user_ns)\n"
     ]
    },
    {
     "data": {
      "text/html": [
       "<div>\n",
       "<style scoped>\n",
       "    .dataframe tbody tr th:only-of-type {\n",
       "        vertical-align: middle;\n",
       "    }\n",
       "\n",
       "    .dataframe tbody tr th {\n",
       "        vertical-align: top;\n",
       "    }\n",
       "\n",
       "    .dataframe thead th {\n",
       "        text-align: right;\n",
       "    }\n",
       "</style>\n",
       "<table border=\"1\" class=\"dataframe\">\n",
       "  <thead>\n",
       "    <tr style=\"text-align: right;\">\n",
       "      <th></th>\n",
       "      <th>state</th>\n",
       "      <th>brand</th>\n",
       "      <th>spend</th>\n",
       "      <th>campaign_id</th>\n",
       "      <th>mapped_storeid</th>\n",
       "      <th>platform</th>\n",
       "      <th>date_start</th>\n",
       "      <th>impressions</th>\n",
       "      <th>leads</th>\n",
       "      <th>link_clicks</th>\n",
       "      <th>reach</th>\n",
       "      <th>CAP_name</th>\n",
       "      <th>chainid</th>\n",
       "      <th>is_cap</th>\n",
       "      <th>agency</th>\n",
       "      <th>type</th>\n",
       "      <th>location_name</th>\n",
       "    </tr>\n",
       "  </thead>\n",
       "  <tbody>\n",
       "    <tr>\n",
       "      <th>0</th>\n",
       "      <td>CA</td>\n",
       "      <td>B2</td>\n",
       "      <td>7.39</td>\n",
       "      <td>1.248033e+10</td>\n",
       "      <td>11429.0</td>\n",
       "      <td>Google Ads</td>\n",
       "      <td>10/20/2021</td>\n",
       "      <td>114</td>\n",
       "      <td>1.0</td>\n",
       "      <td>8</td>\n",
       "      <td>NaN</td>\n",
       "      <td>Local Google PPC_Agency 2_CAP</td>\n",
       "      <td>684.0</td>\n",
       "      <td>1.0</td>\n",
       "      <td>Agency 2</td>\n",
       "      <td>Local</td>\n",
       "      <td>B2 Roseville</td>\n",
       "    </tr>\n",
       "    <tr>\n",
       "      <th>1</th>\n",
       "      <td>CA</td>\n",
       "      <td>B1</td>\n",
       "      <td>18.34</td>\n",
       "      <td>1.342492e+10</td>\n",
       "      <td>10922.0</td>\n",
       "      <td>Google Ads</td>\n",
       "      <td>7/26/2021</td>\n",
       "      <td>36</td>\n",
       "      <td>1.0</td>\n",
       "      <td>8</td>\n",
       "      <td>NaN</td>\n",
       "      <td>Local Google PPC_Agency 3_CAP</td>\n",
       "      <td>622.0</td>\n",
       "      <td>1.0</td>\n",
       "      <td>Agency 3</td>\n",
       "      <td>Local</td>\n",
       "      <td>B1 - Redlands</td>\n",
       "    </tr>\n",
       "    <tr>\n",
       "      <th>2</th>\n",
       "      <td>WA</td>\n",
       "      <td>B2</td>\n",
       "      <td>3.42</td>\n",
       "      <td>1.150570e+10</td>\n",
       "      <td>11002.0</td>\n",
       "      <td>Google Ads</td>\n",
       "      <td>8/7/2021</td>\n",
       "      <td>165</td>\n",
       "      <td>1.0</td>\n",
       "      <td>2</td>\n",
       "      <td>NaN</td>\n",
       "      <td>Local Google PPC_Agency 2_CAP</td>\n",
       "      <td>684.0</td>\n",
       "      <td>1.0</td>\n",
       "      <td>Agency 2</td>\n",
       "      <td>Local</td>\n",
       "      <td>B2 Sammamish</td>\n",
       "    </tr>\n",
       "    <tr>\n",
       "      <th>3</th>\n",
       "      <td>CA</td>\n",
       "      <td>B2</td>\n",
       "      <td>20.28</td>\n",
       "      <td>1.426434e+10</td>\n",
       "      <td>8810.0</td>\n",
       "      <td>Google Ads</td>\n",
       "      <td>12/19/2021</td>\n",
       "      <td>161</td>\n",
       "      <td>2.0</td>\n",
       "      <td>10</td>\n",
       "      <td>NaN</td>\n",
       "      <td>Local Google PPC_Agency 2_CAP</td>\n",
       "      <td>684.0</td>\n",
       "      <td>1.0</td>\n",
       "      <td>Agency 2</td>\n",
       "      <td>Local</td>\n",
       "      <td>B2 Irvine</td>\n",
       "    </tr>\n",
       "    <tr>\n",
       "      <th>4</th>\n",
       "      <td>TX</td>\n",
       "      <td>B1</td>\n",
       "      <td>5.56</td>\n",
       "      <td>1.290236e+10</td>\n",
       "      <td>11487.0</td>\n",
       "      <td>Google Ads</td>\n",
       "      <td>8/27/2021</td>\n",
       "      <td>56</td>\n",
       "      <td>1.0</td>\n",
       "      <td>3</td>\n",
       "      <td>NaN</td>\n",
       "      <td>Local Google PPC_Agency 2_CAP</td>\n",
       "      <td>622.0</td>\n",
       "      <td>1.0</td>\n",
       "      <td>Agency 2</td>\n",
       "      <td>Local</td>\n",
       "      <td>B1 - Allen</td>\n",
       "    </tr>\n",
       "  </tbody>\n",
       "</table>\n",
       "</div>"
      ],
      "text/plain": [
       "  state brand  spend   campaign_id  mapped_storeid    platform  date_start  \\\n",
       "0    CA    B2   7.39  1.248033e+10         11429.0  Google Ads  10/20/2021   \n",
       "1    CA    B1  18.34  1.342492e+10         10922.0  Google Ads   7/26/2021   \n",
       "2    WA    B2   3.42  1.150570e+10         11002.0  Google Ads    8/7/2021   \n",
       "3    CA    B2  20.28  1.426434e+10          8810.0  Google Ads  12/19/2021   \n",
       "4    TX    B1   5.56  1.290236e+10         11487.0  Google Ads   8/27/2021   \n",
       "\n",
       "   impressions  leads  link_clicks  reach                       CAP_name  \\\n",
       "0          114    1.0            8    NaN  Local Google PPC_Agency 2_CAP   \n",
       "1           36    1.0            8    NaN  Local Google PPC_Agency 3_CAP   \n",
       "2          165    1.0            2    NaN  Local Google PPC_Agency 2_CAP   \n",
       "3          161    2.0           10    NaN  Local Google PPC_Agency 2_CAP   \n",
       "4           56    1.0            3    NaN  Local Google PPC_Agency 2_CAP   \n",
       "\n",
       "   chainid  is_cap    agency   type  location_name  \n",
       "0    684.0     1.0  Agency 2  Local   B2 Roseville  \n",
       "1    622.0     1.0  Agency 3  Local  B1 - Redlands  \n",
       "2    684.0     1.0  Agency 2  Local   B2 Sammamish  \n",
       "3    684.0     1.0  Agency 2  Local      B2 Irvine  \n",
       "4    622.0     1.0  Agency 2  Local     B1 - Allen  "
      ]
     },
     "execution_count": 33,
     "metadata": {},
     "output_type": "execute_result"
    }
   ],
   "source": [
    "# Import our dependencies\n",
    "from sklearn.model_selection import train_test_split\n",
    "from sklearn.preprocessing import StandardScaler,OneHotEncoder\n",
    "import pandas as pd\n",
    "import tensorflow as tf\n",
    "import pandas as pd \n",
    "\n",
    "# Import and read the charity_data.csv.\n",
    "rawDF = pd.read_csv(\"clean_datasets/clean_df2.csv\")\n",
    "rawDF.head()"
   ]
  },
  {
   "cell_type": "code",
   "execution_count": 34,
   "id": "36b4deed",
   "metadata": {},
   "outputs": [
    {
     "name": "stdout",
     "output_type": "stream",
     "text": [
      "<class 'pandas.core.frame.DataFrame'>\n",
      "RangeIndex: 197268 entries, 0 to 197267\n",
      "Data columns (total 17 columns):\n",
      " #   Column          Non-Null Count   Dtype  \n",
      "---  ------          --------------   -----  \n",
      " 0   state           197268 non-null  object \n",
      " 1   brand           197268 non-null  object \n",
      " 2   spend           197268 non-null  float64\n",
      " 3   campaign_id     197268 non-null  float64\n",
      " 4   mapped_storeid  197268 non-null  float64\n",
      " 5   platform        197268 non-null  object \n",
      " 6   date_start      197268 non-null  object \n",
      " 7   impressions     197268 non-null  int64  \n",
      " 8   leads           197268 non-null  float64\n",
      " 9   link_clicks     197268 non-null  int64  \n",
      " 10  reach           194455 non-null  float64\n",
      " 11  CAP_name        43791 non-null   object \n",
      " 12  chainid         43791 non-null   float64\n",
      " 13  is_cap          43791 non-null   float64\n",
      " 14  agency          197268 non-null  object \n",
      " 15  type            197267 non-null  object \n",
      " 16  location_name   197268 non-null  object \n",
      "dtypes: float64(7), int64(2), object(8)\n",
      "memory usage: 25.6+ MB\n"
     ]
    }
   ],
   "source": [
    "rawDF.info()\n",
    "# columns to drop from index match: \n",
    "# 3,4,5,7,8,9,10,12,13,19,20,21,22,23,24,25,26,27,28,32,34,37,38,39,41,42,43,44,45,46,47,48,49,50,51"
   ]
  },
  {
   "cell_type": "code",
   "execution_count": 35,
   "id": "a90a1cf5",
   "metadata": {},
   "outputs": [
    {
     "name": "stdout",
     "output_type": "stream",
     "text": [
      "No.of.unique values : 3\n",
      "unique values name : ['B2', 'B1', 'B3']\n"
     ]
    }
   ],
   "source": [
    "# for loop to count understand what values are in \"brand\" column\n",
    "\n",
    "# variable to hold the count\n",
    "cnt = 0\n",
    "  \n",
    "# list to hold my B3 values\n",
    "b3Vals = []\n",
    "  \n",
    "# loop for counting the unique\n",
    "# values in height\n",
    "for i in range(0, len(rawDF['brand'])):\n",
    "    \n",
    "    if rawDF['brand'][i] not in b3Vals: \n",
    "    \n",
    "        b3Vals.append(rawDF['brand'][i])\n",
    "          \n",
    "        cnt += 1\n",
    "  \n",
    "print(\"No.of.unique values :\",\n",
    "      cnt)\n",
    "  \n",
    "print(\"unique values name :\",\n",
    "      b3Vals)"
   ]
  },
  {
   "cell_type": "code",
   "execution_count": 47,
   "id": "37b4e92a",
   "metadata": {},
   "outputs": [
    {
     "data": {
      "text/html": [
       "<div>\n",
       "<style scoped>\n",
       "    .dataframe tbody tr th:only-of-type {\n",
       "        vertical-align: middle;\n",
       "    }\n",
       "\n",
       "    .dataframe tbody tr th {\n",
       "        vertical-align: top;\n",
       "    }\n",
       "\n",
       "    .dataframe thead th {\n",
       "        text-align: right;\n",
       "    }\n",
       "</style>\n",
       "<table border=\"1\" class=\"dataframe\">\n",
       "  <thead>\n",
       "    <tr style=\"text-align: right;\">\n",
       "      <th></th>\n",
       "      <th>state</th>\n",
       "      <th>brand</th>\n",
       "      <th>spend</th>\n",
       "      <th>campaign_id</th>\n",
       "      <th>mapped_storeid</th>\n",
       "      <th>platform</th>\n",
       "      <th>date_start</th>\n",
       "      <th>impressions</th>\n",
       "      <th>leads</th>\n",
       "      <th>link_clicks</th>\n",
       "      <th>reach</th>\n",
       "      <th>CAP_name</th>\n",
       "      <th>chainid</th>\n",
       "      <th>is_cap</th>\n",
       "      <th>agency</th>\n",
       "      <th>type</th>\n",
       "      <th>location_name</th>\n",
       "    </tr>\n",
       "  </thead>\n",
       "  <tbody>\n",
       "  </tbody>\n",
       "</table>\n",
       "</div>"
      ],
      "text/plain": [
       "Empty DataFrame\n",
       "Columns: [state, brand, spend, campaign_id, mapped_storeid, platform, date_start, impressions, leads, link_clicks, reach, CAP_name, chainid, is_cap, agency, type, location_name]\n",
       "Index: []"
      ]
     },
     "execution_count": 47,
     "metadata": {},
     "output_type": "execute_result"
    }
   ],
   "source": [
    "# First objective; drop all \"B3\" rows within column \"brand\"\n",
    "\n",
    "# observe column brand\n",
    "rawDF.loc[rawDF['brand']== 'B3']\n",
    "# rawDF.loc[rawDF['brand']== 'B2']\n",
    "# rawDF.loc[rawDF['brand']== 'B1']\n",
    "# B3 starts at 163191 and ends at 197267\n",
    "# B2 starts at 0 and ends at 163190\n",
    "\n",
    "# drop 0-197267\n"
   ]
  },
  {
   "cell_type": "code",
   "execution_count": 48,
   "id": "886f27cf",
   "metadata": {},
   "outputs": [],
   "source": [
    "# Drop all B2 and B3 values from brand column:\n",
    "rawDF['brand'] = rawDF['brand'].drop(labels=range(0, 197267), axis=0)"
   ]
  },
  {
   "cell_type": "code",
   "execution_count": 45,
   "id": "e5745478",
   "metadata": {},
   "outputs": [
    {
     "data": {
      "text/html": [
       "<div>\n",
       "<style scoped>\n",
       "    .dataframe tbody tr th:only-of-type {\n",
       "        vertical-align: middle;\n",
       "    }\n",
       "\n",
       "    .dataframe tbody tr th {\n",
       "        vertical-align: top;\n",
       "    }\n",
       "\n",
       "    .dataframe thead th {\n",
       "        text-align: right;\n",
       "    }\n",
       "</style>\n",
       "<table border=\"1\" class=\"dataframe\">\n",
       "  <thead>\n",
       "    <tr style=\"text-align: right;\">\n",
       "      <th></th>\n",
       "      <th>state</th>\n",
       "      <th>brand</th>\n",
       "      <th>spend</th>\n",
       "      <th>campaign_id</th>\n",
       "      <th>mapped_storeid</th>\n",
       "      <th>platform</th>\n",
       "      <th>date_start</th>\n",
       "      <th>impressions</th>\n",
       "      <th>leads</th>\n",
       "      <th>link_clicks</th>\n",
       "      <th>reach</th>\n",
       "      <th>CAP_name</th>\n",
       "      <th>chainid</th>\n",
       "      <th>is_cap</th>\n",
       "      <th>agency</th>\n",
       "      <th>type</th>\n",
       "      <th>location_name</th>\n",
       "    </tr>\n",
       "  </thead>\n",
       "  <tbody>\n",
       "  </tbody>\n",
       "</table>\n",
       "</div>"
      ],
      "text/plain": [
       "Empty DataFrame\n",
       "Columns: [state, brand, spend, campaign_id, mapped_storeid, platform, date_start, impressions, leads, link_clicks, reach, CAP_name, chainid, is_cap, agency, type, location_name]\n",
       "Index: []"
      ]
     },
     "execution_count": 45,
     "metadata": {},
     "output_type": "execute_result"
    }
   ],
   "source": [
    "# check if any B3 values remain\n",
    "rawDF.loc[rawDF['brand']== 'B2']"
   ]
  },
  {
   "cell_type": "code",
   "execution_count": 46,
   "id": "aed93ace",
   "metadata": {},
   "outputs": [
    {
     "data": {
      "text/html": [
       "<div>\n",
       "<style scoped>\n",
       "    .dataframe tbody tr th:only-of-type {\n",
       "        vertical-align: middle;\n",
       "    }\n",
       "\n",
       "    .dataframe tbody tr th {\n",
       "        vertical-align: top;\n",
       "    }\n",
       "\n",
       "    .dataframe thead th {\n",
       "        text-align: right;\n",
       "    }\n",
       "</style>\n",
       "<table border=\"1\" class=\"dataframe\">\n",
       "  <thead>\n",
       "    <tr style=\"text-align: right;\">\n",
       "      <th></th>\n",
       "      <th>state</th>\n",
       "      <th>brand</th>\n",
       "      <th>spend</th>\n",
       "      <th>campaign_id</th>\n",
       "      <th>mapped_storeid</th>\n",
       "      <th>platform</th>\n",
       "      <th>date_start</th>\n",
       "      <th>impressions</th>\n",
       "      <th>leads</th>\n",
       "      <th>link_clicks</th>\n",
       "      <th>reach</th>\n",
       "      <th>CAP_name</th>\n",
       "      <th>chainid</th>\n",
       "      <th>is_cap</th>\n",
       "      <th>agency</th>\n",
       "      <th>type</th>\n",
       "      <th>location_name</th>\n",
       "    </tr>\n",
       "  </thead>\n",
       "  <tbody>\n",
       "    <tr>\n",
       "      <th>0</th>\n",
       "      <td>CA</td>\n",
       "      <td>NaN</td>\n",
       "      <td>7.39</td>\n",
       "      <td>1.248033e+10</td>\n",
       "      <td>11429.0</td>\n",
       "      <td>Google Ads</td>\n",
       "      <td>10/20/2021</td>\n",
       "      <td>114</td>\n",
       "      <td>1.0</td>\n",
       "      <td>8</td>\n",
       "      <td>NaN</td>\n",
       "      <td>Local Google PPC_Agency 2_CAP</td>\n",
       "      <td>684.0</td>\n",
       "      <td>1.0</td>\n",
       "      <td>Agency 2</td>\n",
       "      <td>Local</td>\n",
       "      <td>B2 Roseville</td>\n",
       "    </tr>\n",
       "    <tr>\n",
       "      <th>1</th>\n",
       "      <td>CA</td>\n",
       "      <td>NaN</td>\n",
       "      <td>18.34</td>\n",
       "      <td>1.342492e+10</td>\n",
       "      <td>10922.0</td>\n",
       "      <td>Google Ads</td>\n",
       "      <td>7/26/2021</td>\n",
       "      <td>36</td>\n",
       "      <td>1.0</td>\n",
       "      <td>8</td>\n",
       "      <td>NaN</td>\n",
       "      <td>Local Google PPC_Agency 3_CAP</td>\n",
       "      <td>622.0</td>\n",
       "      <td>1.0</td>\n",
       "      <td>Agency 3</td>\n",
       "      <td>Local</td>\n",
       "      <td>B1 - Redlands</td>\n",
       "    </tr>\n",
       "    <tr>\n",
       "      <th>2</th>\n",
       "      <td>WA</td>\n",
       "      <td>NaN</td>\n",
       "      <td>3.42</td>\n",
       "      <td>1.150570e+10</td>\n",
       "      <td>11002.0</td>\n",
       "      <td>Google Ads</td>\n",
       "      <td>8/7/2021</td>\n",
       "      <td>165</td>\n",
       "      <td>1.0</td>\n",
       "      <td>2</td>\n",
       "      <td>NaN</td>\n",
       "      <td>Local Google PPC_Agency 2_CAP</td>\n",
       "      <td>684.0</td>\n",
       "      <td>1.0</td>\n",
       "      <td>Agency 2</td>\n",
       "      <td>Local</td>\n",
       "      <td>B2 Sammamish</td>\n",
       "    </tr>\n",
       "    <tr>\n",
       "      <th>3</th>\n",
       "      <td>CA</td>\n",
       "      <td>NaN</td>\n",
       "      <td>20.28</td>\n",
       "      <td>1.426434e+10</td>\n",
       "      <td>8810.0</td>\n",
       "      <td>Google Ads</td>\n",
       "      <td>12/19/2021</td>\n",
       "      <td>161</td>\n",
       "      <td>2.0</td>\n",
       "      <td>10</td>\n",
       "      <td>NaN</td>\n",
       "      <td>Local Google PPC_Agency 2_CAP</td>\n",
       "      <td>684.0</td>\n",
       "      <td>1.0</td>\n",
       "      <td>Agency 2</td>\n",
       "      <td>Local</td>\n",
       "      <td>B2 Irvine</td>\n",
       "    </tr>\n",
       "    <tr>\n",
       "      <th>4</th>\n",
       "      <td>TX</td>\n",
       "      <td>NaN</td>\n",
       "      <td>5.56</td>\n",
       "      <td>1.290236e+10</td>\n",
       "      <td>11487.0</td>\n",
       "      <td>Google Ads</td>\n",
       "      <td>8/27/2021</td>\n",
       "      <td>56</td>\n",
       "      <td>1.0</td>\n",
       "      <td>3</td>\n",
       "      <td>NaN</td>\n",
       "      <td>Local Google PPC_Agency 2_CAP</td>\n",
       "      <td>622.0</td>\n",
       "      <td>1.0</td>\n",
       "      <td>Agency 2</td>\n",
       "      <td>Local</td>\n",
       "      <td>B1 - Allen</td>\n",
       "    </tr>\n",
       "    <tr>\n",
       "      <th>...</th>\n",
       "      <td>...</td>\n",
       "      <td>...</td>\n",
       "      <td>...</td>\n",
       "      <td>...</td>\n",
       "      <td>...</td>\n",
       "      <td>...</td>\n",
       "      <td>...</td>\n",
       "      <td>...</td>\n",
       "      <td>...</td>\n",
       "      <td>...</td>\n",
       "      <td>...</td>\n",
       "      <td>...</td>\n",
       "      <td>...</td>\n",
       "      <td>...</td>\n",
       "      <td>...</td>\n",
       "      <td>...</td>\n",
       "      <td>...</td>\n",
       "    </tr>\n",
       "    <tr>\n",
       "      <th>197263</th>\n",
       "      <td>CA</td>\n",
       "      <td>NaN</td>\n",
       "      <td>77.28</td>\n",
       "      <td>2.380000e+16</td>\n",
       "      <td>11204.0</td>\n",
       "      <td>Facebook Ads</td>\n",
       "      <td>6/29/2021</td>\n",
       "      <td>1623</td>\n",
       "      <td>0.0</td>\n",
       "      <td>16</td>\n",
       "      <td>1455.0</td>\n",
       "      <td>Local Facebook_Agency 3_CAP</td>\n",
       "      <td>642.0</td>\n",
       "      <td>1.0</td>\n",
       "      <td>Agency 3</td>\n",
       "      <td>Local</td>\n",
       "      <td>B3 - Del Mar</td>\n",
       "    </tr>\n",
       "    <tr>\n",
       "      <th>197264</th>\n",
       "      <td>CA</td>\n",
       "      <td>NaN</td>\n",
       "      <td>11.49</td>\n",
       "      <td>2.380000e+16</td>\n",
       "      <td>9376.0</td>\n",
       "      <td>Facebook Ads</td>\n",
       "      <td>6/28/2021</td>\n",
       "      <td>404</td>\n",
       "      <td>0.0</td>\n",
       "      <td>5</td>\n",
       "      <td>398.0</td>\n",
       "      <td>Local Facebook_Agency 3_CAP</td>\n",
       "      <td>642.0</td>\n",
       "      <td>1.0</td>\n",
       "      <td>Agency 3</td>\n",
       "      <td>Local</td>\n",
       "      <td>B3 - North San Jose</td>\n",
       "    </tr>\n",
       "    <tr>\n",
       "      <th>197265</th>\n",
       "      <td>CA</td>\n",
       "      <td>NaN</td>\n",
       "      <td>18.03</td>\n",
       "      <td>2.380000e+16</td>\n",
       "      <td>9376.0</td>\n",
       "      <td>Facebook Ads</td>\n",
       "      <td>6/27/2021</td>\n",
       "      <td>576</td>\n",
       "      <td>0.0</td>\n",
       "      <td>5</td>\n",
       "      <td>559.0</td>\n",
       "      <td>Local Facebook_Agency 3_CAP</td>\n",
       "      <td>642.0</td>\n",
       "      <td>1.0</td>\n",
       "      <td>Agency 3</td>\n",
       "      <td>Local</td>\n",
       "      <td>B3 - North San Jose</td>\n",
       "    </tr>\n",
       "    <tr>\n",
       "      <th>197266</th>\n",
       "      <td>CA</td>\n",
       "      <td>NaN</td>\n",
       "      <td>17.27</td>\n",
       "      <td>2.380000e+16</td>\n",
       "      <td>9376.0</td>\n",
       "      <td>Facebook Ads</td>\n",
       "      <td>6/26/2021</td>\n",
       "      <td>555</td>\n",
       "      <td>0.0</td>\n",
       "      <td>7</td>\n",
       "      <td>537.0</td>\n",
       "      <td>Local Facebook_Agency 3_CAP</td>\n",
       "      <td>642.0</td>\n",
       "      <td>1.0</td>\n",
       "      <td>Agency 3</td>\n",
       "      <td>Local</td>\n",
       "      <td>B3 - North San Jose</td>\n",
       "    </tr>\n",
       "    <tr>\n",
       "      <th>197267</th>\n",
       "      <td>CA</td>\n",
       "      <td>NaN</td>\n",
       "      <td>11.81</td>\n",
       "      <td>2.380000e+16</td>\n",
       "      <td>9376.0</td>\n",
       "      <td>Facebook Ads</td>\n",
       "      <td>6/25/2021</td>\n",
       "      <td>407</td>\n",
       "      <td>0.0</td>\n",
       "      <td>2</td>\n",
       "      <td>390.0</td>\n",
       "      <td>Local Facebook_Agency 3_CAP</td>\n",
       "      <td>642.0</td>\n",
       "      <td>1.0</td>\n",
       "      <td>Agency 3</td>\n",
       "      <td>Local</td>\n",
       "      <td>B3 - North San Jose</td>\n",
       "    </tr>\n",
       "  </tbody>\n",
       "</table>\n",
       "<p>197268 rows × 17 columns</p>\n",
       "</div>"
      ],
      "text/plain": [
       "       state brand  spend   campaign_id  mapped_storeid      platform  \\\n",
       "0         CA   NaN   7.39  1.248033e+10         11429.0    Google Ads   \n",
       "1         CA   NaN  18.34  1.342492e+10         10922.0    Google Ads   \n",
       "2         WA   NaN   3.42  1.150570e+10         11002.0    Google Ads   \n",
       "3         CA   NaN  20.28  1.426434e+10          8810.0    Google Ads   \n",
       "4         TX   NaN   5.56  1.290236e+10         11487.0    Google Ads   \n",
       "...      ...   ...    ...           ...             ...           ...   \n",
       "197263    CA   NaN  77.28  2.380000e+16         11204.0  Facebook Ads   \n",
       "197264    CA   NaN  11.49  2.380000e+16          9376.0  Facebook Ads   \n",
       "197265    CA   NaN  18.03  2.380000e+16          9376.0  Facebook Ads   \n",
       "197266    CA   NaN  17.27  2.380000e+16          9376.0  Facebook Ads   \n",
       "197267    CA   NaN  11.81  2.380000e+16          9376.0  Facebook Ads   \n",
       "\n",
       "        date_start  impressions  leads  link_clicks   reach  \\\n",
       "0       10/20/2021          114    1.0            8     NaN   \n",
       "1        7/26/2021           36    1.0            8     NaN   \n",
       "2         8/7/2021          165    1.0            2     NaN   \n",
       "3       12/19/2021          161    2.0           10     NaN   \n",
       "4        8/27/2021           56    1.0            3     NaN   \n",
       "...            ...          ...    ...          ...     ...   \n",
       "197263   6/29/2021         1623    0.0           16  1455.0   \n",
       "197264   6/28/2021          404    0.0            5   398.0   \n",
       "197265   6/27/2021          576    0.0            5   559.0   \n",
       "197266   6/26/2021          555    0.0            7   537.0   \n",
       "197267   6/25/2021          407    0.0            2   390.0   \n",
       "\n",
       "                             CAP_name  chainid  is_cap    agency   type  \\\n",
       "0       Local Google PPC_Agency 2_CAP    684.0     1.0  Agency 2  Local   \n",
       "1       Local Google PPC_Agency 3_CAP    622.0     1.0  Agency 3  Local   \n",
       "2       Local Google PPC_Agency 2_CAP    684.0     1.0  Agency 2  Local   \n",
       "3       Local Google PPC_Agency 2_CAP    684.0     1.0  Agency 2  Local   \n",
       "4       Local Google PPC_Agency 2_CAP    622.0     1.0  Agency 2  Local   \n",
       "...                               ...      ...     ...       ...    ...   \n",
       "197263    Local Facebook_Agency 3_CAP    642.0     1.0  Agency 3  Local   \n",
       "197264    Local Facebook_Agency 3_CAP    642.0     1.0  Agency 3  Local   \n",
       "197265    Local Facebook_Agency 3_CAP    642.0     1.0  Agency 3  Local   \n",
       "197266    Local Facebook_Agency 3_CAP    642.0     1.0  Agency 3  Local   \n",
       "197267    Local Facebook_Agency 3_CAP    642.0     1.0  Agency 3  Local   \n",
       "\n",
       "              location_name  \n",
       "0              B2 Roseville  \n",
       "1             B1 - Redlands  \n",
       "2              B2 Sammamish  \n",
       "3                 B2 Irvine  \n",
       "4                B1 - Allen  \n",
       "...                     ...  \n",
       "197263         B3 - Del Mar  \n",
       "197264  B3 - North San Jose  \n",
       "197265  B3 - North San Jose  \n",
       "197266  B3 - North San Jose  \n",
       "197267  B3 - North San Jose  \n",
       "\n",
       "[197268 rows x 17 columns]"
      ]
     },
     "execution_count": 46,
     "metadata": {},
     "output_type": "execute_result"
    }
   ],
   "source": [
    "rawDF"
   ]
  },
  {
   "cell_type": "code",
   "execution_count": null,
   "id": "aa717df1",
   "metadata": {},
   "outputs": [],
   "source": [
    "# filtered out B2 and B3, now.. \n",
    "# DROP predetermined \"problems\" columns by index: \n",
    "# 4, 11, 12, 15, 13, 3, 16\n",
    "rawDF.info()\n",
    "clean_df = rawDF.drop(rawDF.columns[[3,4,11,12,13,15,16]], axis=1)\n",
    "clean_df"
   ]
  },
  {
   "cell_type": "code",
   "execution_count": null,
   "id": "191895aa",
   "metadata": {},
   "outputs": [],
   "source": [
    "# check clean df\n",
    "clean_df.info()"
   ]
  },
  {
   "cell_type": "code",
   "execution_count": null,
   "id": "ea8e8336",
   "metadata": {},
   "outputs": [],
   "source": [
    "# impression may need binning\n",
    "\n",
    "# keep and edit location name if done as population size, income, or density\n",
    "# keep and edit start date if done as binned for seasons\n",
    "\n",
    "# best columns = spend, state, platform, clicks\n"
   ]
  },
  {
   "cell_type": "markdown",
   "id": "8a445cf3",
   "metadata": {},
   "source": [
    "# Rough/Quick Preprocessing Complete"
   ]
  },
  {
   "cell_type": "markdown",
   "id": "a891dae5",
   "metadata": {},
   "source": [
    "# Binning"
   ]
  },
  {
   "cell_type": "code",
   "execution_count": null,
   "id": "61f9888c",
   "metadata": {},
   "outputs": [],
   "source": [
    "# Determine the number of unique values in each column.\n",
    "# if anything > 10, suggested to inspect further if non-numeric/string value column\n",
    "clean_df.nunique()\n",
    "# output shows potential need for binning on: \n",
    "# location_name, agency, date_start, campaign_id, state"
   ]
  },
  {
   "cell_type": "code",
   "execution_count": null,
   "id": "1e0d9883",
   "metadata": {},
   "outputs": [],
   "source": [
    "# Look at state value counts for binning\n",
    "stateCnts = clean_df['state'].value_counts()\n",
    "stateCnts\n",
    "\n",
    "# add as new column to our df\n",
    "\n",
    "# It may be appropriate to EITHER: \n",
    "# 1. ONLY LOOK AT ONE STATE OF DATA\n",
    "# OR 2. CREATE BINS BY REGIONS\n",
    "# or bin by ranges"
   ]
  },
  {
   "cell_type": "code",
   "execution_count": null,
   "id": "8abf438c",
   "metadata": {},
   "outputs": [],
   "source": [
    "# Visualize the value counts of stateCnts\n",
    "stateCnts.plot.density()"
   ]
  },
  {
   "cell_type": "code",
   "execution_count": null,
   "id": "63993188",
   "metadata": {},
   "outputs": [],
   "source": [
    "clean_df.head()\n",
    "# groupby state\n",
    "# value counts from state, must match CA to number values\n",
    "# left join on state\n",
    "\n",
    "new_df = clean_df[['state', 'impressions']]\n",
    "df2 = new_df.groupby(by=['state']).count()\n",
    "df2"
   ]
  },
  {
   "cell_type": "code",
   "execution_count": null,
   "id": "142b4655",
   "metadata": {},
   "outputs": [],
   "source": [
    "# merge \n",
    "merge_df = pd.merge(clean_df, df2, on=['state'])\n",
    "merge_df"
   ]
  },
  {
   "cell_type": "code",
   "execution_count": null,
   "id": "aebb04dd",
   "metadata": {},
   "outputs": [],
   "source": [
    "# Determine which values to replace if counts are less than ...?\n",
    "\n",
    "# Tier 1: 10000+\n",
    "# Tier 2: 5000-10000\n",
    "# Tier 3: 1000-5000\n",
    "# Tier 4: <1000\n",
    "\n",
    "# pd.cut documentation here\n",
    "# not qcut b/c its equal dist.\n",
    "\n",
    "\n",
    "bins = [0, 1000, 5000, 10000, 40000]\n",
    "labels =['1', '2', '3', '4']\n",
    "\n",
    "\n",
    "merge_df['State Tiers'] = pd.cut(merge_df['impressions_y'], bins,labels=labels)\n",
    "print (merge_df)\n"
   ]
  },
  {
   "cell_type": "code",
   "execution_count": null,
   "id": "bd3ee5ba",
   "metadata": {},
   "outputs": [],
   "source": [
    "# showing t4 as a filter\n",
    "merge_df[merge_df['State Tiers'] == 'T4']"
   ]
  },
  {
   "cell_type": "code",
   "execution_count": null,
   "id": "d57231a5",
   "metadata": {},
   "outputs": [],
   "source": [
    "# drop impressions y\n",
    "merge_df.drop('impressions_y', axis=1, inplace=True)\n",
    "merge_df.head()"
   ]
  },
  {
   "cell_type": "code",
   "execution_count": null,
   "id": "0936d3b5",
   "metadata": {},
   "outputs": [],
   "source": [
    "merge_df.tail()"
   ]
  },
  {
   "cell_type": "code",
   "execution_count": null,
   "id": "a2d912a8",
   "metadata": {},
   "outputs": [],
   "source": [
    "clean_df = merge_df.rename(columns={'impressions_x': 'Impressions'})\n",
    "clean_df"
   ]
  },
  {
   "cell_type": "code",
   "execution_count": null,
   "id": "198be2ec",
   "metadata": {},
   "outputs": [],
   "source": [
    "# edit reach column \n",
    "df = clean_df[clean_df['reach'].notna()]"
   ]
  },
  {
   "cell_type": "code",
   "execution_count": null,
   "id": "d868b342",
   "metadata": {},
   "outputs": [],
   "source": [
    "# check if reach values that are null dropped\n",
    "df['reach'].isna().value_counts()"
   ]
  },
  {
   "cell_type": "code",
   "execution_count": null,
   "id": "9ad43301",
   "metadata": {},
   "outputs": [],
   "source": [
    "# check new df\n",
    "df.tail()"
   ]
  },
  {
   "cell_type": "code",
   "execution_count": null,
   "id": "fab428b9",
   "metadata": {},
   "outputs": [],
   "source": [
    "### REPLACE ADS AS 1 and 2\n",
    "### NEED TA HELP\n",
    "\n",
    "# change ads to 1 or 2 designation\n",
    "#df_updated = df['platform'] = df['platform'].astype(int)\n",
    "#df_updated = df['platform'].replace(['Facebook Ads', 'Google Ads'], ['1', '2'])"
   ]
  },
  {
   "cell_type": "code",
   "execution_count": null,
   "id": "6911903f",
   "metadata": {},
   "outputs": [],
   "source": [
    "# check if we have nan values throughout the df\n",
    "df.isnull().sum().sum()"
   ]
  },
  {
   "cell_type": "code",
   "execution_count": null,
   "id": "4f83bb13",
   "metadata": {},
   "outputs": [],
   "source": [
    "# drop all missing values\n",
    "edited_df = df.dropna(axis=0, how='any', thresh=None, subset=None, inplace=False)"
   ]
  },
  {
   "cell_type": "code",
   "execution_count": null,
   "id": "7b002270",
   "metadata": {},
   "outputs": [],
   "source": [
    "# check if missing values dropped\n",
    "edited_df.isnull().sum().sum()"
   ]
  },
  {
   "cell_type": "code",
   "execution_count": null,
   "id": "d2cda1a3",
   "metadata": {},
   "outputs": [],
   "source": [
    "# check on our df\n",
    "edited_df.sample(20)"
   ]
  },
  {
   "cell_type": "code",
   "execution_count": null,
   "id": "6993653f",
   "metadata": {},
   "outputs": [],
   "source": [
    "# gut check on state column\n",
    "# new dropped shows CA dropped from 34k to 25k datapoints!\n",
    "edited_df['state'].value_counts()"
   ]
  },
  {
   "cell_type": "code",
   "execution_count": null,
   "id": "86ce334d",
   "metadata": {},
   "outputs": [],
   "source": [
    "# Look at agency value counts for binning\n",
    "agencyCnts = edited_df['agency'].value_counts()\n",
    "agencyCnts\n",
    "\n",
    "# It may be appropriate to EITHER: \n",
    "# 1. Bin Agencies 10-12 as \"Other\"\n",
    "# OR 2. Focus on a couple of agencies against each other"
   ]
  },
  {
   "cell_type": "code",
   "execution_count": null,
   "id": "3cfbe6b1",
   "metadata": {},
   "outputs": [],
   "source": [
    "# Visualize the value counts of agencyCnts\n",
    "agencyCnts.plot.density()"
   ]
  },
  {
   "cell_type": "code",
   "execution_count": null,
   "id": "e227ea26",
   "metadata": {},
   "outputs": [],
   "source": [
    "# groupby/left join agency\n",
    "# value counts from agency\n",
    "\n",
    "dfnew = edited_df[['agency', 'Impressions']]\n",
    "dfT = dfnew.groupby(by=['agency']).count()\n",
    "dfT"
   ]
  },
  {
   "cell_type": "code",
   "execution_count": null,
   "id": "28d531b1",
   "metadata": {},
   "outputs": [],
   "source": [
    "# merge \n",
    "# use concat? \n",
    "### ISSUE: other columns not showing up\n",
    "merge_df2 = pd.merge(edited_df, dfT, on=['agency'])\n",
    "merge_df2"
   ]
  },
  {
   "cell_type": "code",
   "execution_count": null,
   "id": "6a0db335",
   "metadata": {},
   "outputs": [],
   "source": [
    "# Determine which values to replace if counts are less than ...?\n",
    "\n",
    "# Tier 1: 60000+\n",
    "# Tier 2: 10000-30000\n",
    "# Tier 3: 1000-10000\n",
    "# Tier 4: <1000\n",
    "\n",
    "# pd.cut documentation here\n",
    "# not qcut b/c its equal dist.\n",
    "\n",
    "\n",
    "bins = [0, 1000, 10000, 30000, 70000]\n",
    "labels =['1', '2', '3', '4']\n",
    "\n",
    "\n",
    "merge_df2['Agency Tiers'] = pd.cut(merge_df2['Impressions_y'], bins,labels=labels)\n",
    "print (merge_df2)\n"
   ]
  },
  {
   "cell_type": "code",
   "execution_count": null,
   "id": "14eaa818",
   "metadata": {},
   "outputs": [],
   "source": [
    "# drop impressions y\n",
    "merge_df2.drop('Impressions_y', axis=1, inplace=True)\n",
    "merge_df2.head()"
   ]
  },
  {
   "cell_type": "code",
   "execution_count": null,
   "id": "bdb2e025",
   "metadata": {},
   "outputs": [],
   "source": [
    "df3 = merge_df2.rename(columns={'Impressions_x': 'Impressions'})\n",
    "df3"
   ]
  },
  {
   "cell_type": "code",
   "execution_count": null,
   "id": "1292c825",
   "metadata": {},
   "outputs": [],
   "source": [
    "df3.sample(10)"
   ]
  },
  {
   "cell_type": "code",
   "execution_count": null,
   "id": "c949c3d5",
   "metadata": {},
   "outputs": [],
   "source": [
    "# transform leads column from # of leads to binary, yes or no on a lead success \n",
    "# check non nulls\n",
    "df3['leads'].notnull().astype('int')"
   ]
  },
  {
   "cell_type": "code",
   "execution_count": null,
   "id": "30b9cd01",
   "metadata": {},
   "outputs": [],
   "source": [
    "df3['leads'].isnull().astype('int')"
   ]
  },
  {
   "cell_type": "code",
   "execution_count": null,
   "id": "bdf8b529",
   "metadata": {},
   "outputs": [],
   "source": [
    "# change nulls == 0\n",
    "df.leads.fillna(0,inplace=True)"
   ]
  },
  {
   "cell_type": "code",
   "execution_count": null,
   "id": "71eb8cf1",
   "metadata": {},
   "outputs": [],
   "source": [
    "# change non nulls == 1 \n",
    "df3[\"leads\"]=df[\"leads\"].apply(lambda x: 1 if x!=0 else 0)"
   ]
  },
  {
   "cell_type": "code",
   "execution_count": null,
   "id": "3d1c319e",
   "metadata": {},
   "outputs": [],
   "source": [
    "df3['leads'].sample(10)"
   ]
  },
  {
   "cell_type": "code",
   "execution_count": null,
   "id": "bb5b9b33",
   "metadata": {},
   "outputs": [],
   "source": [
    "df4=df3.dropna(subset=['leads'])"
   ]
  },
  {
   "cell_type": "code",
   "execution_count": null,
   "id": "6683bc4d",
   "metadata": {},
   "outputs": [],
   "source": [
    "df4.sample(10)"
   ]
  },
  {
   "cell_type": "code",
   "execution_count": null,
   "id": "f9ac3319",
   "metadata": {},
   "outputs": [],
   "source": [
    "# export as csv\n",
    "df4.to_csv('nnML_tiers.csv')"
   ]
  },
  {
   "cell_type": "markdown",
   "id": "b35ebf2e",
   "metadata": {},
   "source": [
    "### OptBinning for leads predict on bins for state"
   ]
  },
  {
   "cell_type": "code",
   "execution_count": null,
   "id": "7e2a356c",
   "metadata": {},
   "outputs": [],
   "source": [
    "# use optbinning advanced binning\n",
    "from optbinning import OptimalBinning as ob"
   ]
  },
  {
   "cell_type": "code",
   "execution_count": null,
   "id": "d6e31614",
   "metadata": {},
   "outputs": [],
   "source": [
    "variable = \"leads\"\n",
    "x = df3['spend'].values\n",
    "y = df3.leads"
   ]
  },
  {
   "cell_type": "code",
   "execution_count": null,
   "id": "a14d4322",
   "metadata": {},
   "outputs": [],
   "source": [
    "optb = ob(name=variable, dtype=\"numerical\", solver=\"cp\")"
   ]
  },
  {
   "cell_type": "code",
   "execution_count": null,
   "id": "525a45da",
   "metadata": {},
   "outputs": [],
   "source": [
    "optb.fit(x, y)"
   ]
  },
  {
   "cell_type": "code",
   "execution_count": null,
   "id": "bbb1e331",
   "metadata": {},
   "outputs": [],
   "source": [
    "binning_table = optb.binning_table"
   ]
  },
  {
   "cell_type": "code",
   "execution_count": null,
   "id": "b73433e6",
   "metadata": {},
   "outputs": [],
   "source": [
    "type(binning_table)"
   ]
  },
  {
   "cell_type": "code",
   "execution_count": null,
   "id": "f6036a64",
   "metadata": {},
   "outputs": [],
   "source": [
    "binning_table.build()\n",
    "### What does it mean: \n",
    "# Bin: the intervals delimited by the optimal split points.\n",
    "# Count: the number of records for each bin.\n",
    "# Count (%): the percentage of records for each bin.\n",
    "# Non-event: the number of non-event records (y=0) for each bin.\n",
    "# Event: the number of event records (y=1) for each bin.\n",
    "# Event rate: the percentage of event records for each bin.\n",
    "# WoE: the Weight-of-Evidence for each bin.\n",
    "# IV: the Information Value (also known as Jeffrey’s divergence) for each bin.\n",
    "# JS: the Jensen-Shannon divergence for each bin."
   ]
  },
  {
   "cell_type": "code",
   "execution_count": null,
   "id": "2119039e",
   "metadata": {},
   "outputs": [],
   "source": [
    "binning_table.plot(metric=\"woe\")\n",
    "# woe = inversely related to event rate, weight of evidence for each bin\n",
    "# shows impression on y axis in thousands\n",
    "# woe on right \n",
    "# bins on bottom "
   ]
  },
  {
   "cell_type": "markdown",
   "id": "dc19786d",
   "metadata": {},
   "source": [
    "### Binning check on all columns"
   ]
  },
  {
   "cell_type": "code",
   "execution_count": null,
   "id": "ccb43469",
   "metadata": {},
   "outputs": [],
   "source": [
    "# use scorecard advanced binning\n",
    "# https://pypi.org/project/scorecardpy/\n",
    "import scorecardpy as sc"
   ]
  },
  {
   "cell_type": "code",
   "execution_count": null,
   "id": "95cfdcd0",
   "metadata": {},
   "outputs": [],
   "source": [
    "bins = sc.woebin(df3, y=\"leads\")"
   ]
  },
  {
   "cell_type": "code",
   "execution_count": null,
   "id": "dd003f62",
   "metadata": {},
   "outputs": [],
   "source": [
    "# plot the bins\n",
    "sc.woebin_plot(bins)\n",
    "# need to reformat to read plots easily\n",
    "\n",
    "### quick observation---Plots with highest IV value = most likley to predict successfully on leads\n",
    "# state (.05), agency (.03), spend (.002) seem most promising"
   ]
  },
  {
   "cell_type": "markdown",
   "id": "dea95a25",
   "metadata": {},
   "source": [
    "### Drop for split"
   ]
  },
  {
   "cell_type": "code",
   "execution_count": null,
   "id": "62a5e730",
   "metadata": {},
   "outputs": [],
   "source": [
    "# check current df and keep only: \n",
    "# state tiers, agency tiers, spend, Impressions, brand\n",
    "# target = leads\n",
    "model_df1 = df4.drop(columns=['state','platform', 'date_start', 'link_clicks', 'reach', 'agency'])"
   ]
  },
  {
   "cell_type": "code",
   "execution_count": null,
   "id": "1be2eb5e",
   "metadata": {},
   "outputs": [],
   "source": [
    "model_df1.info()"
   ]
  },
  {
   "cell_type": "code",
   "execution_count": null,
   "id": "2d376109",
   "metadata": {},
   "outputs": [],
   "source": [
    "# export as csv\n",
    "model_df1.to_csv('model_df1.csv')"
   ]
  },
  {
   "cell_type": "markdown",
   "id": "dfb543f6",
   "metadata": {},
   "source": [
    "### Encoding"
   ]
  },
  {
   "cell_type": "code",
   "execution_count": null,
   "id": "a4e0be3b",
   "metadata": {},
   "outputs": [],
   "source": [
    "# generagte cat variables\n",
    "# Generate our categorical variable lists\n",
    "application_cat = model_df1.dtypes[model_df1.dtypes == \"object\"].index.tolist()"
   ]
  },
  {
   "cell_type": "code",
   "execution_count": null,
   "id": "7d2ed4bb",
   "metadata": {},
   "outputs": [],
   "source": [
    "# one hot encoder\n",
    "# Create a OneHotEncoder instance\n",
    "enc = OneHotEncoder(sparse=False)\n",
    "\n",
    "# Fit and transform the OneHotEncoder using the categorical variable list\n",
    "# create new df before merging later\n",
    "encoded_df = pd.DataFrame(enc.fit_transform(model_df1[application_cat]))\n",
    "\n",
    "# Add the encoded variable names to the dataframe\n",
    "encoded_df.columns = enc.get_feature_names(application_cat)\n",
    "encoded_df.head()"
   ]
  },
  {
   "cell_type": "code",
   "execution_count": null,
   "id": "662e7388",
   "metadata": {},
   "outputs": [],
   "source": [
    "# merge dfs\n",
    "model_df1_official = model_df1.merge(encoded_df, left_index=True, right_index=True)\n",
    "model_df1_official = model_df1.drop(application_cat, 1)\n",
    "model_df1_official.head()"
   ]
  },
  {
   "cell_type": "code",
   "execution_count": null,
   "id": "b0714af8",
   "metadata": {},
   "outputs": [],
   "source": [
    "model_df1_official.to_csv('model_df1_official.csv')"
   ]
  },
  {
   "cell_type": "markdown",
   "id": "200565c8",
   "metadata": {},
   "source": [
    "# Split into train and test features (delete later)"
   ]
  },
  {
   "cell_type": "code",
   "execution_count": null,
   "id": "7d94906d",
   "metadata": {},
   "outputs": [],
   "source": [
    "# # Split our preprocessed data into our features and target arrays\n",
    "# y = model_df1_official['leads'].values\n",
    "# X = model_df1_official.drop(['leads'], 1).values\n",
    "\n",
    "# # Split the preprocessed data into a training and testing dataset\n",
    "# X_train, X_test, y_train, y_test = train_test_split(X, y, random_state=78)"
   ]
  },
  {
   "cell_type": "code",
   "execution_count": null,
   "id": "892d91bd",
   "metadata": {},
   "outputs": [],
   "source": [
    "# # Create a StandardScaler instances\n",
    "# scaler = StandardScaler()\n",
    "\n",
    "# # Fit the StandardScaler\n",
    "# X_scaler = scaler.fit(X_train)\n",
    "\n",
    "# # Scale the data\n",
    "# X_train_scaled = X_scaler.transform(X_train)\n",
    "# X_test_scaled = X_scaler.transform(X_test)"
   ]
  },
  {
   "cell_type": "markdown",
   "id": "6fa1cbb6",
   "metadata": {},
   "source": [
    "# Compile, Train, Evaluate our Model 1 - NN (Delete later)"
   ]
  },
  {
   "cell_type": "code",
   "execution_count": null,
   "id": "f05aec29",
   "metadata": {},
   "outputs": [],
   "source": [
    "# # Define the model - deep neural net, i.e., the number of input features and hidden nodes for each layer.\n",
    "# # using multi-layer perceptron (two layers)\n",
    "# numInputFeatures = len(X_train[0])\n",
    "\n",
    "# # I have 19k columns\n",
    "# # layer1 = input layer, typically equals number of input variables in data\n",
    "# layer1 = 20\n",
    "# # layer 2 = hidden layer, typically 2/3 of input layer\n",
    "# layer2 = 10\n",
    "# # layer 3 = hidden layer\n",
    "# layer3= 5\n",
    "\n",
    "# nn = tf.keras.models.Sequential()\n",
    "\n",
    "# # First hidden layer\n",
    "# nn.add(\n",
    "#     tf.keras.layers.Dense(units=layer1, \n",
    "#                           input_dim=numInputFeatures, \n",
    "#                           activation=\"relu\")\n",
    "# )\n",
    "# # Second hidden layer\n",
    "# nn.add(tf.keras.layers.Dense(units=layer2, \n",
    "#                              activation=\"relu\"))\n",
    "\n",
    "# # adding a third layer to increase accuracy \n",
    "# nn.add(tf.keras.layers.Dense(units=layer3, \n",
    "#                              activation='relu'))\n",
    "\n",
    "\n",
    "# # Output layer\n",
    "# nn.add(tf.keras.layers.Dense(units=1, activation=\"sigmoid\"))\n",
    "\n",
    "# # Check the structure of the model\n",
    "# nn.summary()"
   ]
  },
  {
   "cell_type": "code",
   "execution_count": null,
   "id": "48845696",
   "metadata": {},
   "outputs": [],
   "source": [
    "# # Compile the model\n",
    "# nn.compile(loss='binary_crossentropy', optimizer='adam', metrics=['accuracy'])\n",
    "# import os\n",
    "# from tensorflow.keras.callbacks import ModelCheckpoint\n",
    "\n",
    "# # Define the checkpoint path and filenames\n",
    "# os.makedirs(\"checkpoints/\",exist_ok=True)\n",
    "# checkpoint_path = \"checkpoints/weights.{epoch:02d}.hdf5\"\n",
    "\n",
    "# # Create a callback that saves the model's weights every epoch\n",
    "# cp_callback = ModelCheckpoint(\n",
    "#     # checkpoint directory and file structure defined above\n",
    "#     filepath=checkpoint_path,\n",
    "#     # notified when checkpoint is being saved to the directory\n",
    "#     verbose=1,\n",
    "#     # checkpoint files take small space\n",
    "#     save_weights_only=True,\n",
    "#     # checkpoints saved every epoch\n",
    "#     save_freq='epoch')"
   ]
  },
  {
   "cell_type": "code",
   "execution_count": null,
   "id": "74ea1d25",
   "metadata": {},
   "outputs": [],
   "source": [
    "# # Train the model\n",
    "# # Train the model\n",
    "# fit_model = nn.fit(X_train_scaled,y_train,epochs=100,callbacks=[cp_callback])"
   ]
  },
  {
   "cell_type": "code",
   "execution_count": null,
   "id": "0a833b93",
   "metadata": {},
   "outputs": [],
   "source": [
    "# # Evaluate the model using the test data\n",
    "# model_loss, model_accuracy = nn.evaluate(X_test_scaled,y_test,verbose=2)\n",
    "# print(f\"Loss: {model_loss}, Accuracy: {model_accuracy}\")"
   ]
  },
  {
   "cell_type": "code",
   "execution_count": null,
   "id": "14b2e3c1",
   "metadata": {},
   "outputs": [],
   "source": [
    "# # Export the model to HDF5 file\n",
    "#nn.save(\"AlphabetSoupCharity_optimization.h5\")"
   ]
  },
  {
   "cell_type": "code",
   "execution_count": null,
   "id": "a3b3604b",
   "metadata": {},
   "outputs": [],
   "source": []
  }
 ],
 "metadata": {
  "kernelspec": {
   "display_name": "PythonData",
   "language": "python",
   "name": "pythondata"
  },
  "language_info": {
   "codemirror_mode": {
    "name": "ipython",
    "version": 3
   },
   "file_extension": ".py",
   "mimetype": "text/x-python",
   "name": "python",
   "nbconvert_exporter": "python",
   "pygments_lexer": "ipython3",
   "version": "3.7.11"
  }
 },
 "nbformat": 4,
 "nbformat_minor": 5
}
