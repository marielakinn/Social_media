{
 "cells": [
  {
   "cell_type": "markdown",
   "id": "f0bf2a0c",
   "metadata": {},
   "source": [
    "### Logistic Reg Model - Binary Classifier\n"
   ]
  },
  {
   "cell_type": "code",
   "execution_count": 1,
   "id": "bfca7df4",
   "metadata": {},
   "outputs": [],
   "source": [
    "# IDEAS: \n",
    "# https://stackoverflow.com/questions/38077190/how-to-increase-the-model-accuracy-of-logistic-regression-in-scikit-python\n",
    "\n",
    "# scale the columns\n",
    "# https://www.keboola.com/blog/logistic-regression-machine-learning\n",
    "# https://www.kdnuggets.com/2020/04/data-transformation-standardization-normalization.html\n",
    "# drop features/remove multicoliniarity features\n",
    "\n",
    "# look to use class weight/class imbalances\n",
    "\n",
    "# try SVM; maybe we cannot linearly seperate yes vs no leads column?\n",
    "\n",
    "# add features???"
   ]
  },
  {
   "cell_type": "code",
   "execution_count": 2,
   "id": "24393ae9",
   "metadata": {},
   "outputs": [
    {
     "data": {
      "text/html": [
       "<div>\n",
       "<style scoped>\n",
       "    .dataframe tbody tr th:only-of-type {\n",
       "        vertical-align: middle;\n",
       "    }\n",
       "\n",
       "    .dataframe tbody tr th {\n",
       "        vertical-align: top;\n",
       "    }\n",
       "\n",
       "    .dataframe thead th {\n",
       "        text-align: right;\n",
       "    }\n",
       "</style>\n",
       "<table border=\"1\" class=\"dataframe\">\n",
       "  <thead>\n",
       "    <tr style=\"text-align: right;\">\n",
       "      <th></th>\n",
       "      <th>state</th>\n",
       "      <th>brand</th>\n",
       "      <th>spend</th>\n",
       "      <th>platform</th>\n",
       "      <th>date_start</th>\n",
       "      <th>Impressions</th>\n",
       "      <th>leads</th>\n",
       "      <th>link_clicks</th>\n",
       "      <th>reach</th>\n",
       "      <th>agency</th>\n",
       "      <th>State Tiers</th>\n",
       "      <th>Agency Tiers</th>\n",
       "    </tr>\n",
       "  </thead>\n",
       "  <tbody>\n",
       "    <tr>\n",
       "      <th>770</th>\n",
       "      <td>CA</td>\n",
       "      <td>B1</td>\n",
       "      <td>7.28</td>\n",
       "      <td>Facebook Ads</td>\n",
       "      <td>5/11/2021</td>\n",
       "      <td>427</td>\n",
       "      <td>0.0</td>\n",
       "      <td>2</td>\n",
       "      <td>403.0</td>\n",
       "      <td>Agency 4</td>\n",
       "      <td>4</td>\n",
       "      <td>4</td>\n",
       "    </tr>\n",
       "    <tr>\n",
       "      <th>771</th>\n",
       "      <td>CA</td>\n",
       "      <td>B1</td>\n",
       "      <td>13.32</td>\n",
       "      <td>Facebook Ads</td>\n",
       "      <td>6/23/2021</td>\n",
       "      <td>1042</td>\n",
       "      <td>1.0</td>\n",
       "      <td>7</td>\n",
       "      <td>962.0</td>\n",
       "      <td>Agency 4</td>\n",
       "      <td>4</td>\n",
       "      <td>4</td>\n",
       "    </tr>\n",
       "    <tr>\n",
       "      <th>772</th>\n",
       "      <td>CA</td>\n",
       "      <td>B1</td>\n",
       "      <td>10.11</td>\n",
       "      <td>Facebook Ads</td>\n",
       "      <td>6/13/2021</td>\n",
       "      <td>337</td>\n",
       "      <td>0.0</td>\n",
       "      <td>0</td>\n",
       "      <td>321.0</td>\n",
       "      <td>Agency 4</td>\n",
       "      <td>4</td>\n",
       "      <td>4</td>\n",
       "    </tr>\n",
       "    <tr>\n",
       "      <th>773</th>\n",
       "      <td>CA</td>\n",
       "      <td>B1</td>\n",
       "      <td>0.00</td>\n",
       "      <td>Facebook Ads</td>\n",
       "      <td>4/20/2021</td>\n",
       "      <td>0</td>\n",
       "      <td>1.0</td>\n",
       "      <td>0</td>\n",
       "      <td>0.0</td>\n",
       "      <td>Agency 4</td>\n",
       "      <td>4</td>\n",
       "      <td>4</td>\n",
       "    </tr>\n",
       "    <tr>\n",
       "      <th>774</th>\n",
       "      <td>CA</td>\n",
       "      <td>B1</td>\n",
       "      <td>7.35</td>\n",
       "      <td>Facebook Ads</td>\n",
       "      <td>5/11/2021</td>\n",
       "      <td>379</td>\n",
       "      <td>1.0</td>\n",
       "      <td>0</td>\n",
       "      <td>364.0</td>\n",
       "      <td>Agency 4</td>\n",
       "      <td>4</td>\n",
       "      <td>4</td>\n",
       "    </tr>\n",
       "  </tbody>\n",
       "</table>\n",
       "</div>"
      ],
      "text/plain": [
       "    state brand  spend      platform date_start  Impressions  leads  \\\n",
       "770    CA    B1   7.28  Facebook Ads  5/11/2021          427    0.0   \n",
       "771    CA    B1  13.32  Facebook Ads  6/23/2021         1042    1.0   \n",
       "772    CA    B1  10.11  Facebook Ads  6/13/2021          337    0.0   \n",
       "773    CA    B1   0.00  Facebook Ads  4/20/2021            0    1.0   \n",
       "774    CA    B1   7.35  Facebook Ads  5/11/2021          379    1.0   \n",
       "\n",
       "     link_clicks  reach    agency  State Tiers  Agency Tiers  \n",
       "770            2  403.0  Agency 4            4             4  \n",
       "771            7  962.0  Agency 4            4             4  \n",
       "772            0  321.0  Agency 4            4             4  \n",
       "773            0    0.0  Agency 4            4             4  \n",
       "774            0  364.0  Agency 4            4             4  "
      ]
     },
     "execution_count": 2,
     "metadata": {},
     "output_type": "execute_result"
    }
   ],
   "source": [
    "# Import our dependencies\n",
    "from sklearn.model_selection import train_test_split\n",
    "from sklearn.preprocessing import StandardScaler,OneHotEncoder\n",
    "import pandas as pd\n",
    "import tensorflow as tf\n",
    "import pandas as pd\n",
    "import numpy as np\n",
    "\n",
    "# Import and read the csv.\n",
    "#df = pd.read_csv('model_df1_official.csv', index_col=[0])\n",
    "# OR: \n",
    "df = pd.read_csv('nnML_tiers.csv', index_col=[0])\n",
    "df.head()"
   ]
  },
  {
   "cell_type": "code",
   "execution_count": 3,
   "id": "02f37b14",
   "metadata": {},
   "outputs": [
    {
     "name": "stdout",
     "output_type": "stream",
     "text": [
      "<class 'pandas.core.frame.DataFrame'>\n",
      "Int64Index: 157672 entries, 770 to 160484\n",
      "Data columns (total 12 columns):\n",
      " #   Column        Non-Null Count   Dtype  \n",
      "---  ------        --------------   -----  \n",
      " 0   state         157672 non-null  object \n",
      " 1   brand         157672 non-null  object \n",
      " 2   spend         157672 non-null  float64\n",
      " 3   platform      157672 non-null  object \n",
      " 4   date_start    157672 non-null  object \n",
      " 5   Impressions   157672 non-null  int64  \n",
      " 6   leads         157672 non-null  float64\n",
      " 7   link_clicks   157672 non-null  int64  \n",
      " 8   reach         157672 non-null  float64\n",
      " 9   agency        157672 non-null  object \n",
      " 10  State Tiers   157672 non-null  int64  \n",
      " 11  Agency Tiers  157672 non-null  int64  \n",
      "dtypes: float64(3), int64(4), object(5)\n",
      "memory usage: 15.6+ MB\n"
     ]
    }
   ],
   "source": [
    "df.info()"
   ]
  },
  {
   "cell_type": "code",
   "execution_count": 4,
   "id": "54594aaf",
   "metadata": {},
   "outputs": [
    {
     "data": {
      "text/html": [
       "<div>\n",
       "<style scoped>\n",
       "    .dataframe tbody tr th:only-of-type {\n",
       "        vertical-align: middle;\n",
       "    }\n",
       "\n",
       "    .dataframe tbody tr th {\n",
       "        vertical-align: top;\n",
       "    }\n",
       "\n",
       "    .dataframe thead th {\n",
       "        text-align: right;\n",
       "    }\n",
       "</style>\n",
       "<table border=\"1\" class=\"dataframe\">\n",
       "  <thead>\n",
       "    <tr style=\"text-align: right;\">\n",
       "      <th></th>\n",
       "      <th>state</th>\n",
       "      <th>brand</th>\n",
       "      <th>spend</th>\n",
       "      <th>platform</th>\n",
       "      <th>date_start</th>\n",
       "      <th>Impressions</th>\n",
       "      <th>leads</th>\n",
       "      <th>link_clicks</th>\n",
       "      <th>reach</th>\n",
       "      <th>agency</th>\n",
       "      <th>State Tiers</th>\n",
       "      <th>Agency Tiers</th>\n",
       "    </tr>\n",
       "  </thead>\n",
       "  <tbody>\n",
       "    <tr>\n",
       "      <th>862</th>\n",
       "      <td>CA</td>\n",
       "      <td>B2</td>\n",
       "      <td>8.44</td>\n",
       "      <td>Facebook Ads</td>\n",
       "      <td>2/12/2021</td>\n",
       "      <td>539</td>\n",
       "      <td>1.0</td>\n",
       "      <td>1</td>\n",
       "      <td>516.0</td>\n",
       "      <td>Agency 4</td>\n",
       "      <td>4</td>\n",
       "      <td>4</td>\n",
       "    </tr>\n",
       "    <tr>\n",
       "      <th>877</th>\n",
       "      <td>CA</td>\n",
       "      <td>B2</td>\n",
       "      <td>10.00</td>\n",
       "      <td>Facebook Ads</td>\n",
       "      <td>2/1/2021</td>\n",
       "      <td>687</td>\n",
       "      <td>1.0</td>\n",
       "      <td>3</td>\n",
       "      <td>662.0</td>\n",
       "      <td>Agency 4</td>\n",
       "      <td>4</td>\n",
       "      <td>4</td>\n",
       "    </tr>\n",
       "    <tr>\n",
       "      <th>878</th>\n",
       "      <td>CA</td>\n",
       "      <td>B2</td>\n",
       "      <td>15.77</td>\n",
       "      <td>Facebook Ads</td>\n",
       "      <td>1/11/2021</td>\n",
       "      <td>638</td>\n",
       "      <td>0.0</td>\n",
       "      <td>2</td>\n",
       "      <td>579.0</td>\n",
       "      <td>Agency 4</td>\n",
       "      <td>4</td>\n",
       "      <td>4</td>\n",
       "    </tr>\n",
       "    <tr>\n",
       "      <th>997</th>\n",
       "      <td>CA</td>\n",
       "      <td>B2</td>\n",
       "      <td>5.53</td>\n",
       "      <td>Facebook Ads</td>\n",
       "      <td>1/6/2021</td>\n",
       "      <td>418</td>\n",
       "      <td>0.0</td>\n",
       "      <td>2</td>\n",
       "      <td>411.0</td>\n",
       "      <td>Agency 4</td>\n",
       "      <td>4</td>\n",
       "      <td>4</td>\n",
       "    </tr>\n",
       "    <tr>\n",
       "      <th>1118</th>\n",
       "      <td>CA</td>\n",
       "      <td>B2</td>\n",
       "      <td>5.86</td>\n",
       "      <td>Facebook Ads</td>\n",
       "      <td>1/7/2021</td>\n",
       "      <td>317</td>\n",
       "      <td>0.0</td>\n",
       "      <td>2</td>\n",
       "      <td>293.0</td>\n",
       "      <td>Agency 4</td>\n",
       "      <td>4</td>\n",
       "      <td>4</td>\n",
       "    </tr>\n",
       "    <tr>\n",
       "      <th>...</th>\n",
       "      <td>...</td>\n",
       "      <td>...</td>\n",
       "      <td>...</td>\n",
       "      <td>...</td>\n",
       "      <td>...</td>\n",
       "      <td>...</td>\n",
       "      <td>...</td>\n",
       "      <td>...</td>\n",
       "      <td>...</td>\n",
       "      <td>...</td>\n",
       "      <td>...</td>\n",
       "      <td>...</td>\n",
       "    </tr>\n",
       "    <tr>\n",
       "      <th>159677</th>\n",
       "      <td>IL</td>\n",
       "      <td>B2</td>\n",
       "      <td>38.76</td>\n",
       "      <td>Facebook Ads</td>\n",
       "      <td>2/19/2021</td>\n",
       "      <td>1968</td>\n",
       "      <td>1.0</td>\n",
       "      <td>16</td>\n",
       "      <td>1898.0</td>\n",
       "      <td>Agency 8</td>\n",
       "      <td>3</td>\n",
       "      <td>1</td>\n",
       "    </tr>\n",
       "    <tr>\n",
       "      <th>159678</th>\n",
       "      <td>IL</td>\n",
       "      <td>B2</td>\n",
       "      <td>32.68</td>\n",
       "      <td>Facebook Ads</td>\n",
       "      <td>5/8/2021</td>\n",
       "      <td>1404</td>\n",
       "      <td>0.0</td>\n",
       "      <td>11</td>\n",
       "      <td>1358.0</td>\n",
       "      <td>Agency 8</td>\n",
       "      <td>3</td>\n",
       "      <td>1</td>\n",
       "    </tr>\n",
       "    <tr>\n",
       "      <th>159679</th>\n",
       "      <td>IL</td>\n",
       "      <td>B2</td>\n",
       "      <td>39.60</td>\n",
       "      <td>Facebook Ads</td>\n",
       "      <td>2/18/2021</td>\n",
       "      <td>1841</td>\n",
       "      <td>1.0</td>\n",
       "      <td>21</td>\n",
       "      <td>1772.0</td>\n",
       "      <td>Agency 8</td>\n",
       "      <td>3</td>\n",
       "      <td>1</td>\n",
       "    </tr>\n",
       "    <tr>\n",
       "      <th>159680</th>\n",
       "      <td>IL</td>\n",
       "      <td>B2</td>\n",
       "      <td>50.81</td>\n",
       "      <td>Facebook Ads</td>\n",
       "      <td>9/14/2021</td>\n",
       "      <td>2159</td>\n",
       "      <td>0.0</td>\n",
       "      <td>15</td>\n",
       "      <td>2072.0</td>\n",
       "      <td>Agency 8</td>\n",
       "      <td>3</td>\n",
       "      <td>1</td>\n",
       "    </tr>\n",
       "    <tr>\n",
       "      <th>159681</th>\n",
       "      <td>IL</td>\n",
       "      <td>B2</td>\n",
       "      <td>56.46</td>\n",
       "      <td>Facebook Ads</td>\n",
       "      <td>9/6/2021</td>\n",
       "      <td>2584</td>\n",
       "      <td>0.0</td>\n",
       "      <td>26</td>\n",
       "      <td>2447.0</td>\n",
       "      <td>Agency 8</td>\n",
       "      <td>3</td>\n",
       "      <td>1</td>\n",
       "    </tr>\n",
       "  </tbody>\n",
       "</table>\n",
       "<p>56896 rows × 12 columns</p>\n",
       "</div>"
      ],
      "text/plain": [
       "       state brand  spend      platform date_start  Impressions  leads  \\\n",
       "862       CA    B2   8.44  Facebook Ads  2/12/2021          539    1.0   \n",
       "877       CA    B2  10.00  Facebook Ads   2/1/2021          687    1.0   \n",
       "878       CA    B2  15.77  Facebook Ads  1/11/2021          638    0.0   \n",
       "997       CA    B2   5.53  Facebook Ads   1/6/2021          418    0.0   \n",
       "1118      CA    B2   5.86  Facebook Ads   1/7/2021          317    0.0   \n",
       "...      ...   ...    ...           ...        ...          ...    ...   \n",
       "159677    IL    B2  38.76  Facebook Ads  2/19/2021         1968    1.0   \n",
       "159678    IL    B2  32.68  Facebook Ads   5/8/2021         1404    0.0   \n",
       "159679    IL    B2  39.60  Facebook Ads  2/18/2021         1841    1.0   \n",
       "159680    IL    B2  50.81  Facebook Ads  9/14/2021         2159    0.0   \n",
       "159681    IL    B2  56.46  Facebook Ads   9/6/2021         2584    0.0   \n",
       "\n",
       "        link_clicks   reach    agency  State Tiers  Agency Tiers  \n",
       "862               1   516.0  Agency 4            4             4  \n",
       "877               3   662.0  Agency 4            4             4  \n",
       "878               2   579.0  Agency 4            4             4  \n",
       "997               2   411.0  Agency 4            4             4  \n",
       "1118              2   293.0  Agency 4            4             4  \n",
       "...             ...     ...       ...          ...           ...  \n",
       "159677           16  1898.0  Agency 8            3             1  \n",
       "159678           11  1358.0  Agency 8            3             1  \n",
       "159679           21  1772.0  Agency 8            3             1  \n",
       "159680           15  2072.0  Agency 8            3             1  \n",
       "159681           26  2447.0  Agency 8            3             1  \n",
       "\n",
       "[56896 rows x 12 columns]"
      ]
     },
     "execution_count": 4,
     "metadata": {},
     "output_type": "execute_result"
    }
   ],
   "source": [
    "# check of number of datapoints in B1 vs B2\n",
    "df.loc[df['brand']=='B2']"
   ]
  },
  {
   "cell_type": "code",
   "execution_count": 5,
   "id": "0aefccd9",
   "metadata": {},
   "outputs": [
    {
     "data": {
      "text/plain": [
       "770       CA\n",
       "771       CA\n",
       "772       CA\n",
       "773       CA\n",
       "774       CA\n",
       "          ..\n",
       "160480    ME\n",
       "160481    ME\n",
       "160482    ME\n",
       "160483    ME\n",
       "160484    ME\n",
       "Name: state, Length: 157672, dtype: object"
      ]
     },
     "execution_count": 5,
     "metadata": {},
     "output_type": "execute_result"
    }
   ],
   "source": [
    "df['state']"
   ]
  },
  {
   "cell_type": "code",
   "execution_count": 6,
   "id": "a2f1db33",
   "metadata": {},
   "outputs": [
    {
     "ename": "TypeError",
     "evalue": "'method' object is not subscriptable",
     "output_type": "error",
     "traceback": [
      "\u001b[1;31m---------------------------------------------------------------------------\u001b[0m",
      "\u001b[1;31mTypeError\u001b[0m                                 Traceback (most recent call last)",
      "\u001b[1;32m~\\AppData\\Local\\Temp/ipykernel_18672/2188581117.py\u001b[0m in \u001b[0;36m<module>\u001b[1;34m\u001b[0m\n\u001b[0;32m      1\u001b[0m \u001b[1;31m# version to look at only CA\u001b[0m\u001b[1;33m\u001b[0m\u001b[1;33m\u001b[0m\u001b[1;33m\u001b[0m\u001b[0m\n\u001b[0;32m      2\u001b[0m \u001b[1;31m# observe column brand\u001b[0m\u001b[1;33m\u001b[0m\u001b[1;33m\u001b[0m\u001b[1;33m\u001b[0m\u001b[0m\n\u001b[1;32m----> 3\u001b[1;33m \u001b[0mdf_ca_b2\u001b[0m \u001b[1;33m=\u001b[0m \u001b[0mdf\u001b[0m\u001b[1;33m.\u001b[0m\u001b[0mfilter\u001b[0m\u001b[1;33m[\u001b[0m\u001b[0mdf\u001b[0m\u001b[1;33m[\u001b[0m\u001b[1;34m'state'\u001b[0m\u001b[1;33m]\u001b[0m\u001b[1;33m==\u001b[0m \u001b[1;34m'IL'\u001b[0m\u001b[1;33m,\u001b[0m \u001b[0mdf\u001b[0m\u001b[1;33m[\u001b[0m\u001b[1;34m'brand'\u001b[0m\u001b[1;33m]\u001b[0m\u001b[1;33m==\u001b[0m \u001b[1;34m'B2'\u001b[0m\u001b[1;33m]\u001b[0m\u001b[1;33m\u001b[0m\u001b[1;33m\u001b[0m\u001b[0m\n\u001b[0m\u001b[0;32m      4\u001b[0m \u001b[1;31m# output shows CA starts (index) at 770 and ends at 146479\u001b[0m\u001b[1;33m\u001b[0m\u001b[1;33m\u001b[0m\u001b[1;33m\u001b[0m\u001b[0m\n",
      "\u001b[1;31mTypeError\u001b[0m: 'method' object is not subscriptable"
     ]
    }
   ],
   "source": [
    "# version to look at only CA\n",
    "# observe column brand\n",
    "df_ca_b2 = df.filter[df['state']== 'IL', df['brand']== 'B2']\n",
    "# output shows CA starts (index) at 770 and ends at 146479"
   ]
  },
  {
   "cell_type": "code",
   "execution_count": 57,
   "id": "27fae020",
   "metadata": {},
   "outputs": [
    {
     "data": {
      "text/html": [
       "<div>\n",
       "<style scoped>\n",
       "    .dataframe tbody tr th:only-of-type {\n",
       "        vertical-align: middle;\n",
       "    }\n",
       "\n",
       "    .dataframe tbody tr th {\n",
       "        vertical-align: top;\n",
       "    }\n",
       "\n",
       "    .dataframe thead th {\n",
       "        text-align: right;\n",
       "    }\n",
       "</style>\n",
       "<table border=\"1\" class=\"dataframe\">\n",
       "  <thead>\n",
       "    <tr style=\"text-align: right;\">\n",
       "      <th></th>\n",
       "      <th>state</th>\n",
       "      <th>brand</th>\n",
       "      <th>spend</th>\n",
       "      <th>platform</th>\n",
       "      <th>date_start</th>\n",
       "      <th>Impressions</th>\n",
       "      <th>leads</th>\n",
       "      <th>link_clicks</th>\n",
       "      <th>reach</th>\n",
       "      <th>agency</th>\n",
       "      <th>State Tiers</th>\n",
       "      <th>Agency Tiers</th>\n",
       "    </tr>\n",
       "  </thead>\n",
       "  <tbody>\n",
       "    <tr>\n",
       "      <th>66473</th>\n",
       "      <td>IL</td>\n",
       "      <td>B2</td>\n",
       "      <td>31.45</td>\n",
       "      <td>Facebook Ads</td>\n",
       "      <td>2/17/2021</td>\n",
       "      <td>1763</td>\n",
       "      <td>1.0</td>\n",
       "      <td>8</td>\n",
       "      <td>1660.0</td>\n",
       "      <td>Agency 2</td>\n",
       "      <td>3</td>\n",
       "      <td>4</td>\n",
       "    </tr>\n",
       "    <tr>\n",
       "      <th>66474</th>\n",
       "      <td>IL</td>\n",
       "      <td>B2</td>\n",
       "      <td>33.06</td>\n",
       "      <td>Facebook Ads</td>\n",
       "      <td>6/21/2021</td>\n",
       "      <td>1199</td>\n",
       "      <td>0.0</td>\n",
       "      <td>6</td>\n",
       "      <td>1065.0</td>\n",
       "      <td>Agency 2</td>\n",
       "      <td>3</td>\n",
       "      <td>4</td>\n",
       "    </tr>\n",
       "    <tr>\n",
       "      <th>66475</th>\n",
       "      <td>IL</td>\n",
       "      <td>B1</td>\n",
       "      <td>40.85</td>\n",
       "      <td>Facebook Ads</td>\n",
       "      <td>1/15/2021</td>\n",
       "      <td>2338</td>\n",
       "      <td>1.0</td>\n",
       "      <td>11</td>\n",
       "      <td>2040.0</td>\n",
       "      <td>Agency 2</td>\n",
       "      <td>3</td>\n",
       "      <td>4</td>\n",
       "    </tr>\n",
       "    <tr>\n",
       "      <th>66476</th>\n",
       "      <td>IL</td>\n",
       "      <td>B1</td>\n",
       "      <td>33.18</td>\n",
       "      <td>Facebook Ads</td>\n",
       "      <td>3/26/2021</td>\n",
       "      <td>1367</td>\n",
       "      <td>1.0</td>\n",
       "      <td>5</td>\n",
       "      <td>1228.0</td>\n",
       "      <td>Agency 2</td>\n",
       "      <td>3</td>\n",
       "      <td>4</td>\n",
       "    </tr>\n",
       "    <tr>\n",
       "      <th>66477</th>\n",
       "      <td>IL</td>\n",
       "      <td>B2</td>\n",
       "      <td>32.26</td>\n",
       "      <td>Facebook Ads</td>\n",
       "      <td>7/10/2021</td>\n",
       "      <td>1398</td>\n",
       "      <td>1.0</td>\n",
       "      <td>7</td>\n",
       "      <td>1329.0</td>\n",
       "      <td>Agency 2</td>\n",
       "      <td>3</td>\n",
       "      <td>4</td>\n",
       "    </tr>\n",
       "  </tbody>\n",
       "</table>\n",
       "</div>"
      ],
      "text/plain": [
       "      state brand  spend      platform date_start  Impressions  leads  \\\n",
       "66473    IL    B2  31.45  Facebook Ads  2/17/2021         1763    1.0   \n",
       "66474    IL    B2  33.06  Facebook Ads  6/21/2021         1199    0.0   \n",
       "66475    IL    B1  40.85  Facebook Ads  1/15/2021         2338    1.0   \n",
       "66476    IL    B1  33.18  Facebook Ads  3/26/2021         1367    1.0   \n",
       "66477    IL    B2  32.26  Facebook Ads  7/10/2021         1398    1.0   \n",
       "\n",
       "       link_clicks   reach    agency  State Tiers  Agency Tiers  \n",
       "66473            8  1660.0  Agency 2            3             4  \n",
       "66474            6  1065.0  Agency 2            3             4  \n",
       "66475           11  2040.0  Agency 2            3             4  \n",
       "66476            5  1228.0  Agency 2            3             4  \n",
       "66477            7  1329.0  Agency 2            3             4  "
      ]
     },
     "execution_count": 57,
     "metadata": {},
     "output_type": "execute_result"
    }
   ],
   "source": [
    "# Drop all CA values from state column:\n",
    "df_ca.head()"
   ]
  },
  {
   "cell_type": "code",
   "execution_count": 58,
   "id": "bcbb59c3",
   "metadata": {},
   "outputs": [],
   "source": [
    "# scaling if needed\n"
   ]
  },
  {
   "cell_type": "code",
   "execution_count": 59,
   "id": "d49a3bec",
   "metadata": {},
   "outputs": [
    {
     "data": {
      "text/html": [
       "<div>\n",
       "<style scoped>\n",
       "    .dataframe tbody tr th:only-of-type {\n",
       "        vertical-align: middle;\n",
       "    }\n",
       "\n",
       "    .dataframe tbody tr th {\n",
       "        vertical-align: top;\n",
       "    }\n",
       "\n",
       "    .dataframe thead th {\n",
       "        text-align: right;\n",
       "    }\n",
       "</style>\n",
       "<table border=\"1\" class=\"dataframe\">\n",
       "  <thead>\n",
       "    <tr style=\"text-align: right;\">\n",
       "      <th></th>\n",
       "      <th>spend</th>\n",
       "      <th>Impressions</th>\n",
       "      <th>leads</th>\n",
       "      <th>reach</th>\n",
       "      <th>State Tiers</th>\n",
       "      <th>Agency Tiers</th>\n",
       "    </tr>\n",
       "  </thead>\n",
       "  <tbody>\n",
       "    <tr>\n",
       "      <th>66473</th>\n",
       "      <td>31.45</td>\n",
       "      <td>1763</td>\n",
       "      <td>1.0</td>\n",
       "      <td>1660.0</td>\n",
       "      <td>3</td>\n",
       "      <td>4</td>\n",
       "    </tr>\n",
       "    <tr>\n",
       "      <th>66474</th>\n",
       "      <td>33.06</td>\n",
       "      <td>1199</td>\n",
       "      <td>0.0</td>\n",
       "      <td>1065.0</td>\n",
       "      <td>3</td>\n",
       "      <td>4</td>\n",
       "    </tr>\n",
       "    <tr>\n",
       "      <th>66475</th>\n",
       "      <td>40.85</td>\n",
       "      <td>2338</td>\n",
       "      <td>1.0</td>\n",
       "      <td>2040.0</td>\n",
       "      <td>3</td>\n",
       "      <td>4</td>\n",
       "    </tr>\n",
       "    <tr>\n",
       "      <th>66476</th>\n",
       "      <td>33.18</td>\n",
       "      <td>1367</td>\n",
       "      <td>1.0</td>\n",
       "      <td>1228.0</td>\n",
       "      <td>3</td>\n",
       "      <td>4</td>\n",
       "    </tr>\n",
       "    <tr>\n",
       "      <th>66477</th>\n",
       "      <td>32.26</td>\n",
       "      <td>1398</td>\n",
       "      <td>1.0</td>\n",
       "      <td>1329.0</td>\n",
       "      <td>3</td>\n",
       "      <td>4</td>\n",
       "    </tr>\n",
       "  </tbody>\n",
       "</table>\n",
       "</div>"
      ],
      "text/plain": [
       "       spend  Impressions  leads   reach  State Tiers  Agency Tiers\n",
       "66473  31.45         1763    1.0  1660.0            3             4\n",
       "66474  33.06         1199    0.0  1065.0            3             4\n",
       "66475  40.85         2338    1.0  2040.0            3             4\n",
       "66476  33.18         1367    1.0  1228.0            3             4\n",
       "66477  32.26         1398    1.0  1329.0            3             4"
      ]
     },
     "execution_count": 59,
     "metadata": {},
     "output_type": "execute_result"
    }
   ],
   "source": [
    "# df2 = df.drop(columns=['state', 'agency', 'brand', 'platform', 'date_start', 'Impressions'])\n",
    "# df2\n",
    "\n",
    "# OR ca option\n",
    "df_ca1 = df_ca.drop(columns=['state', 'agency', 'brand', 'platform', 'date_start', 'link_clicks'])\n",
    "df_ca1.head()"
   ]
  },
  {
   "cell_type": "code",
   "execution_count": 60,
   "id": "0969729b",
   "metadata": {},
   "outputs": [],
   "source": [
    "# steps: \n",
    "# create the model with LogisticRegression()\n",
    "# train the model with model.fit()\n",
    "# make predictions with model.predict()\n",
    "# validate with accuracy_score()"
   ]
  },
  {
   "cell_type": "markdown",
   "id": "1d8f2555",
   "metadata": {},
   "source": [
    "### Hyperparam check"
   ]
  },
  {
   "cell_type": "code",
   "execution_count": 61,
   "id": "d204caeb",
   "metadata": {},
   "outputs": [],
   "source": [
    "logModel = LogisticRegression()"
   ]
  },
  {
   "cell_type": "code",
   "execution_count": 62,
   "id": "324dcf0a",
   "metadata": {},
   "outputs": [],
   "source": [
    "param_grid = [\n",
    "    {'penalty': ['l1', 'l2', 'elasticnet', 'none'],\n",
    "    'C': np.logspace(-4,4,20),\n",
    "    'solver': ['lbfgs', 'newton-cg', 'liblinear', 'sag', 'saga'],\n",
    "    'max_iter': [100,1000,2500,5000]}\n",
    "]\n"
   ]
  },
  {
   "cell_type": "code",
   "execution_count": 63,
   "id": "0d0439c0",
   "metadata": {},
   "outputs": [],
   "source": [
    "# test for most optimal params \n",
    "from sklearn.model_selection import GridSearchCV\n",
    "clf = GridSearchCV(logModel, param_grid = param_grid, cv=3, verbose=True, n_jobs=-1)"
   ]
  },
  {
   "cell_type": "code",
   "execution_count": 64,
   "id": "f3b06215",
   "metadata": {},
   "outputs": [
    {
     "name": "stdout",
     "output_type": "stream",
     "text": [
      "Fitting 3 folds for each of 1600 candidates, totalling 4800 fits\n"
     ]
    },
    {
     "name": "stderr",
     "output_type": "stream",
     "text": [
      "C:\\Users\\dia78039\\Anaconda3\\envs\\PythonData\\lib\\site-packages\\sklearn\\model_selection\\_search.py:925: UserWarning: One or more of the test scores are non-finite: [       nan        nan 0.5729585  ...        nan 0.63052209 0.63052209]\n",
      "  category=UserWarning\n",
      "C:\\Users\\dia78039\\Anaconda3\\envs\\PythonData\\lib\\site-packages\\sklearn\\linear_model\\_sag.py:329: ConvergenceWarning: The max_iter was reached which means the coef_ did not converge\n",
      "  \"the coef_ did not converge\", ConvergenceWarning)\n"
     ]
    }
   ],
   "source": [
    "best_clf = clf.fit(X,y)"
   ]
  },
  {
   "cell_type": "code",
   "execution_count": 65,
   "id": "27ba9d83",
   "metadata": {},
   "outputs": [
    {
     "data": {
      "text/plain": [
       "LogisticRegression(C=0.0001, penalty='l1', solver='saga')"
      ]
     },
     "execution_count": 65,
     "metadata": {},
     "output_type": "execute_result"
    }
   ],
   "source": [
    "best_clf.best_estimator_\n",
    "# shows that I need a penalty of l1, solver type saga, and c value of .0001"
   ]
  },
  {
   "cell_type": "markdown",
   "id": "46a059b4",
   "metadata": {},
   "source": [
    "### Seperate features, x and target, y"
   ]
  },
  {
   "cell_type": "code",
   "execution_count": 66,
   "id": "85f50d24",
   "metadata": {},
   "outputs": [],
   "source": [
    "# y = df2[\"leads\"]\n",
    "# X = df2.drop(columns=\"leads\")\n",
    "\n",
    "# or CA option\n",
    "y = df_ca1[\"leads\"]\n",
    "X = df_ca1.drop(columns=\"leads\")"
   ]
  },
  {
   "cell_type": "markdown",
   "id": "200565c8",
   "metadata": {},
   "source": [
    "### Split into train and test features"
   ]
  },
  {
   "cell_type": "code",
   "execution_count": 67,
   "id": "7d94906d",
   "metadata": {},
   "outputs": [
    {
     "data": {
      "text/plain": [
       "(5776, 5)"
      ]
     },
     "execution_count": 67,
     "metadata": {},
     "output_type": "execute_result"
    }
   ],
   "source": [
    "X_train, X_test, y_train, y_test = train_test_split(X, \n",
    "                                                    y, \n",
    "                                                    random_state=1, \n",
    "                                                    stratify=y)\n",
    "X_train.shape"
   ]
  },
  {
   "cell_type": "markdown",
   "id": "068c93b2",
   "metadata": {},
   "source": [
    "### Create Log Reg Model "
   ]
  },
  {
   "cell_type": "code",
   "execution_count": 68,
   "id": "4557dbbe",
   "metadata": {},
   "outputs": [],
   "source": [
    "# edit the params as needed\n",
    "# https://scikit-learn.org/stable/modules/generated/sklearn.linear_model.LogisticRegression.html\n",
    "from sklearn.linear_model import LogisticRegression\n",
    "classifier = LogisticRegression(solver='saga',\n",
    "                                C=0.0001,\n",
    "                                max_iter=500,\n",
    "                                random_state=1,\n",
    "                                class_weight='balanced',\n",
    "                               multi_class='auto', \n",
    "                               penalty='l1')"
   ]
  },
  {
   "cell_type": "markdown",
   "id": "39228d9a",
   "metadata": {},
   "source": [
    "### Fit/train or model using training data"
   ]
  },
  {
   "cell_type": "code",
   "execution_count": 69,
   "id": "d697df84",
   "metadata": {},
   "outputs": [
    {
     "data": {
      "text/plain": [
       "LogisticRegression(C=0.0001, class_weight='balanced', max_iter=500,\n",
       "                   penalty='l1', random_state=1, solver='saga')"
      ]
     },
     "execution_count": 69,
     "metadata": {},
     "output_type": "execute_result"
    }
   ],
   "source": [
    "classifier.fit(X_train, y_train)"
   ]
  },
  {
   "cell_type": "code",
   "execution_count": 48,
   "id": "66725ad6",
   "metadata": {},
   "outputs": [],
   "source": [
    "### Feature Importance"
   ]
  },
  {
   "cell_type": "code",
   "execution_count": 70,
   "id": "757af85a",
   "metadata": {},
   "outputs": [
    {
     "name": "stdout",
     "output_type": "stream",
     "text": [
      "[[0.00000000e+00 7.06176134e-06 0.00000000e+00 0.00000000e+00\n",
      "  0.00000000e+00]]\n"
     ]
    }
   ],
   "source": [
    "# get importance\n",
    "# https://machinelearningmastery.com/calculate-feature-importance-with-python/\n",
    "importance = classifier.coef_\n",
    "print(importance)"
   ]
  },
  {
   "cell_type": "code",
   "execution_count": 71,
   "id": "0d5564d7",
   "metadata": {},
   "outputs": [],
   "source": [
    "# # summarize feature importance\n",
    "# for i,v in enumerate(importance):\n",
    "#     print('Feature: %0d, Score: %.5f' % (i,v))"
   ]
  },
  {
   "cell_type": "code",
   "execution_count": 72,
   "id": "73802c06",
   "metadata": {},
   "outputs": [],
   "source": [
    "# # plot feature importance\n",
    "# pyplot.bar([x for x in range(len(importance))], importance)\n",
    "# pyplot.show()"
   ]
  },
  {
   "cell_type": "markdown",
   "id": "9ae45273",
   "metadata": {},
   "source": [
    "### Make predictions"
   ]
  },
  {
   "cell_type": "code",
   "execution_count": 73,
   "id": "64a2f57b",
   "metadata": {},
   "outputs": [
    {
     "data": {
      "text/html": [
       "<div>\n",
       "<style scoped>\n",
       "    .dataframe tbody tr th:only-of-type {\n",
       "        vertical-align: middle;\n",
       "    }\n",
       "\n",
       "    .dataframe tbody tr th {\n",
       "        vertical-align: top;\n",
       "    }\n",
       "\n",
       "    .dataframe thead th {\n",
       "        text-align: right;\n",
       "    }\n",
       "</style>\n",
       "<table border=\"1\" class=\"dataframe\">\n",
       "  <thead>\n",
       "    <tr style=\"text-align: right;\">\n",
       "      <th></th>\n",
       "      <th>Prediction</th>\n",
       "      <th>Actual</th>\n",
       "    </tr>\n",
       "  </thead>\n",
       "  <tbody>\n",
       "    <tr>\n",
       "      <th>0</th>\n",
       "      <td>1.0</td>\n",
       "      <td>0.0</td>\n",
       "    </tr>\n",
       "    <tr>\n",
       "      <th>1</th>\n",
       "      <td>0.0</td>\n",
       "      <td>1.0</td>\n",
       "    </tr>\n",
       "    <tr>\n",
       "      <th>2</th>\n",
       "      <td>1.0</td>\n",
       "      <td>0.0</td>\n",
       "    </tr>\n",
       "    <tr>\n",
       "      <th>3</th>\n",
       "      <td>1.0</td>\n",
       "      <td>1.0</td>\n",
       "    </tr>\n",
       "    <tr>\n",
       "      <th>4</th>\n",
       "      <td>1.0</td>\n",
       "      <td>1.0</td>\n",
       "    </tr>\n",
       "    <tr>\n",
       "      <th>5</th>\n",
       "      <td>1.0</td>\n",
       "      <td>1.0</td>\n",
       "    </tr>\n",
       "    <tr>\n",
       "      <th>6</th>\n",
       "      <td>1.0</td>\n",
       "      <td>1.0</td>\n",
       "    </tr>\n",
       "    <tr>\n",
       "      <th>7</th>\n",
       "      <td>1.0</td>\n",
       "      <td>0.0</td>\n",
       "    </tr>\n",
       "    <tr>\n",
       "      <th>8</th>\n",
       "      <td>1.0</td>\n",
       "      <td>1.0</td>\n",
       "    </tr>\n",
       "    <tr>\n",
       "      <th>9</th>\n",
       "      <td>1.0</td>\n",
       "      <td>1.0</td>\n",
       "    </tr>\n",
       "    <tr>\n",
       "      <th>10</th>\n",
       "      <td>1.0</td>\n",
       "      <td>1.0</td>\n",
       "    </tr>\n",
       "    <tr>\n",
       "      <th>11</th>\n",
       "      <td>1.0</td>\n",
       "      <td>1.0</td>\n",
       "    </tr>\n",
       "    <tr>\n",
       "      <th>12</th>\n",
       "      <td>1.0</td>\n",
       "      <td>0.0</td>\n",
       "    </tr>\n",
       "    <tr>\n",
       "      <th>13</th>\n",
       "      <td>1.0</td>\n",
       "      <td>0.0</td>\n",
       "    </tr>\n",
       "    <tr>\n",
       "      <th>14</th>\n",
       "      <td>1.0</td>\n",
       "      <td>1.0</td>\n",
       "    </tr>\n",
       "    <tr>\n",
       "      <th>15</th>\n",
       "      <td>1.0</td>\n",
       "      <td>0.0</td>\n",
       "    </tr>\n",
       "    <tr>\n",
       "      <th>16</th>\n",
       "      <td>1.0</td>\n",
       "      <td>0.0</td>\n",
       "    </tr>\n",
       "    <tr>\n",
       "      <th>17</th>\n",
       "      <td>1.0</td>\n",
       "      <td>1.0</td>\n",
       "    </tr>\n",
       "    <tr>\n",
       "      <th>18</th>\n",
       "      <td>0.0</td>\n",
       "      <td>0.0</td>\n",
       "    </tr>\n",
       "    <tr>\n",
       "      <th>19</th>\n",
       "      <td>1.0</td>\n",
       "      <td>1.0</td>\n",
       "    </tr>\n",
       "  </tbody>\n",
       "</table>\n",
       "</div>"
      ],
      "text/plain": [
       "    Prediction  Actual\n",
       "0          1.0     0.0\n",
       "1          0.0     1.0\n",
       "2          1.0     0.0\n",
       "3          1.0     1.0\n",
       "4          1.0     1.0\n",
       "5          1.0     1.0\n",
       "6          1.0     1.0\n",
       "7          1.0     0.0\n",
       "8          1.0     1.0\n",
       "9          1.0     1.0\n",
       "10         1.0     1.0\n",
       "11         1.0     1.0\n",
       "12         1.0     0.0\n",
       "13         1.0     0.0\n",
       "14         1.0     1.0\n",
       "15         1.0     0.0\n",
       "16         1.0     0.0\n",
       "17         1.0     1.0\n",
       "18         0.0     0.0\n",
       "19         1.0     1.0"
      ]
     },
     "execution_count": 73,
     "metadata": {},
     "output_type": "execute_result"
    }
   ],
   "source": [
    "y_pred = classifier.predict(X_test)\n",
    "results = pd.DataFrame({\"Prediction\": y_pred, \"Actual\": y_test}).reset_index(drop=True)\n",
    "results.head(20)"
   ]
  },
  {
   "cell_type": "markdown",
   "id": "4396dba5",
   "metadata": {},
   "source": [
    "### Validate"
   ]
  },
  {
   "cell_type": "code",
   "execution_count": 74,
   "id": "81d09a64",
   "metadata": {},
   "outputs": [
    {
     "name": "stdout",
     "output_type": "stream",
     "text": [
      "0.49065420560747663\n"
     ]
    }
   ],
   "source": [
    "# accuracy score\n",
    "from sklearn.metrics import accuracy_score\n",
    "print(accuracy_score(y_test, y_pred))"
   ]
  },
  {
   "cell_type": "code",
   "execution_count": 75,
   "id": "ba5987c5",
   "metadata": {},
   "outputs": [
    {
     "name": "stdout",
     "output_type": "stream",
     "text": [
      "[[129 868]\n",
      " [113 816]]\n"
     ]
    }
   ],
   "source": [
    "# confusion matrix\n",
    "from sklearn.metrics import confusion_matrix, classification_report\n",
    "matrix = confusion_matrix(y_test, y_pred)\n",
    "print(matrix)\n",
    "# TP = 0\n",
    "# FP = 0\n",
    "# FN = 17,460\n",
    "# TN = 21,958\n",
    "\n",
    "# precision = TP/(TP+FP), in this case a precision of 0 means what?\n",
    "# sensitivity = TP/(TP+FN), in this case a score of 0 means what? = recall"
   ]
  },
  {
   "cell_type": "code",
   "execution_count": 76,
   "id": "6a1cc14f",
   "metadata": {},
   "outputs": [
    {
     "name": "stdout",
     "output_type": "stream",
     "text": [
      "              precision    recall  f1-score   support\n",
      "\n",
      "         0.0       0.53      0.13      0.21       997\n",
      "         1.0       0.48      0.88      0.62       929\n",
      "\n",
      "    accuracy                           0.49      1926\n",
      "   macro avg       0.51      0.50      0.42      1926\n",
      "weighted avg       0.51      0.49      0.41      1926\n",
      "\n"
     ]
    }
   ],
   "source": [
    "# classification report\n",
    "report = classification_report(y_test, y_pred)\n",
    "print(report)\n",
    "\n",
    "### note: \n",
    "# ytest are the outcomes, either yes or no on leads column target \n",
    "# y_pred are the predictions\n",
    "# do we read the accuracy score as 56% on predictions as a lead? \n",
    "# F1 = harmonic mean, takes sensitivity and precision = .72 here means what?"
   ]
  },
  {
   "cell_type": "code",
   "execution_count": null,
   "id": "53943f52",
   "metadata": {},
   "outputs": [],
   "source": []
  },
  {
   "cell_type": "code",
   "execution_count": null,
   "id": "50ef9835",
   "metadata": {},
   "outputs": [],
   "source": []
  }
 ],
 "metadata": {
  "kernelspec": {
   "display_name": "PythonData",
   "language": "python",
   "name": "pythondata"
  },
  "language_info": {
   "codemirror_mode": {
    "name": "ipython",
    "version": 3
   },
   "file_extension": ".py",
   "mimetype": "text/x-python",
   "name": "python",
   "nbconvert_exporter": "python",
   "pygments_lexer": "ipython3",
   "version": "3.7.11"
  }
 },
 "nbformat": 4,
 "nbformat_minor": 5
}
