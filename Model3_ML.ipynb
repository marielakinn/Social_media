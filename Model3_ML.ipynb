{
 "cells": [
  {
   "cell_type": "markdown",
   "id": "f0bf2a0c",
   "metadata": {},
   "source": [
    "### Logistic Reg Model - Binary Classifier\n"
   ]
  },
  {
   "cell_type": "code",
   "execution_count": 1,
   "id": "bfca7df4",
   "metadata": {},
   "outputs": [],
   "source": [
    "# IDEAS: \n",
    "# https://stackoverflow.com/questions/38077190/how-to-increase-the-model-accuracy-of-logistic-regression-in-scikit-python\n",
    "\n",
    "# scale the columns\n",
    "# https://www.keboola.com/blog/logistic-regression-machine-learning\n",
    "# https://www.kdnuggets.com/2020/04/data-transformation-standardization-normalization.html\n",
    "# drop features/remove multicoliniarity features\n",
    "\n",
    "# look to use class weight/class imbalances\n",
    "\n",
    "# try SVM; maybe we cannot linearly seperate yes vs no leads column?\n",
    "\n",
    "# add features???"
   ]
  },
  {
   "cell_type": "code",
   "execution_count": 143,
   "id": "24393ae9",
   "metadata": {},
   "outputs": [
    {
     "data": {
      "text/html": [
       "<div>\n",
       "<style scoped>\n",
       "    .dataframe tbody tr th:only-of-type {\n",
       "        vertical-align: middle;\n",
       "    }\n",
       "\n",
       "    .dataframe tbody tr th {\n",
       "        vertical-align: top;\n",
       "    }\n",
       "\n",
       "    .dataframe thead th {\n",
       "        text-align: right;\n",
       "    }\n",
       "</style>\n",
       "<table border=\"1\" class=\"dataframe\">\n",
       "  <thead>\n",
       "    <tr style=\"text-align: right;\">\n",
       "      <th></th>\n",
       "      <th>state</th>\n",
       "      <th>brand</th>\n",
       "      <th>spend</th>\n",
       "      <th>platform</th>\n",
       "      <th>date_start</th>\n",
       "      <th>Impressions</th>\n",
       "      <th>leads</th>\n",
       "      <th>link_clicks</th>\n",
       "      <th>reach</th>\n",
       "      <th>agency</th>\n",
       "      <th>State Tiers</th>\n",
       "      <th>Agency Tiers</th>\n",
       "    </tr>\n",
       "  </thead>\n",
       "  <tbody>\n",
       "    <tr>\n",
       "      <th>770</th>\n",
       "      <td>CA</td>\n",
       "      <td>B1</td>\n",
       "      <td>7.28</td>\n",
       "      <td>Facebook Ads</td>\n",
       "      <td>5/11/2021</td>\n",
       "      <td>427</td>\n",
       "      <td>0.0</td>\n",
       "      <td>2</td>\n",
       "      <td>403.0</td>\n",
       "      <td>Agency 4</td>\n",
       "      <td>4</td>\n",
       "      <td>4</td>\n",
       "    </tr>\n",
       "    <tr>\n",
       "      <th>771</th>\n",
       "      <td>CA</td>\n",
       "      <td>B1</td>\n",
       "      <td>13.32</td>\n",
       "      <td>Facebook Ads</td>\n",
       "      <td>6/23/2021</td>\n",
       "      <td>1042</td>\n",
       "      <td>1.0</td>\n",
       "      <td>7</td>\n",
       "      <td>962.0</td>\n",
       "      <td>Agency 4</td>\n",
       "      <td>4</td>\n",
       "      <td>4</td>\n",
       "    </tr>\n",
       "    <tr>\n",
       "      <th>772</th>\n",
       "      <td>CA</td>\n",
       "      <td>B1</td>\n",
       "      <td>10.11</td>\n",
       "      <td>Facebook Ads</td>\n",
       "      <td>6/13/2021</td>\n",
       "      <td>337</td>\n",
       "      <td>0.0</td>\n",
       "      <td>0</td>\n",
       "      <td>321.0</td>\n",
       "      <td>Agency 4</td>\n",
       "      <td>4</td>\n",
       "      <td>4</td>\n",
       "    </tr>\n",
       "    <tr>\n",
       "      <th>773</th>\n",
       "      <td>CA</td>\n",
       "      <td>B1</td>\n",
       "      <td>0.00</td>\n",
       "      <td>Facebook Ads</td>\n",
       "      <td>4/20/2021</td>\n",
       "      <td>0</td>\n",
       "      <td>1.0</td>\n",
       "      <td>0</td>\n",
       "      <td>0.0</td>\n",
       "      <td>Agency 4</td>\n",
       "      <td>4</td>\n",
       "      <td>4</td>\n",
       "    </tr>\n",
       "    <tr>\n",
       "      <th>774</th>\n",
       "      <td>CA</td>\n",
       "      <td>B1</td>\n",
       "      <td>7.35</td>\n",
       "      <td>Facebook Ads</td>\n",
       "      <td>5/11/2021</td>\n",
       "      <td>379</td>\n",
       "      <td>1.0</td>\n",
       "      <td>0</td>\n",
       "      <td>364.0</td>\n",
       "      <td>Agency 4</td>\n",
       "      <td>4</td>\n",
       "      <td>4</td>\n",
       "    </tr>\n",
       "  </tbody>\n",
       "</table>\n",
       "</div>"
      ],
      "text/plain": [
       "    state brand  spend      platform date_start  Impressions  leads  \\\n",
       "770    CA    B1   7.28  Facebook Ads  5/11/2021          427    0.0   \n",
       "771    CA    B1  13.32  Facebook Ads  6/23/2021         1042    1.0   \n",
       "772    CA    B1  10.11  Facebook Ads  6/13/2021          337    0.0   \n",
       "773    CA    B1   0.00  Facebook Ads  4/20/2021            0    1.0   \n",
       "774    CA    B1   7.35  Facebook Ads  5/11/2021          379    1.0   \n",
       "\n",
       "     link_clicks  reach    agency  State Tiers  Agency Tiers  \n",
       "770            2  403.0  Agency 4            4             4  \n",
       "771            7  962.0  Agency 4            4             4  \n",
       "772            0  321.0  Agency 4            4             4  \n",
       "773            0    0.0  Agency 4            4             4  \n",
       "774            0  364.0  Agency 4            4             4  "
      ]
     },
     "execution_count": 143,
     "metadata": {},
     "output_type": "execute_result"
    }
   ],
   "source": [
    "# Import our dependencies\n",
    "from sklearn.model_selection import train_test_split\n",
    "from sklearn.preprocessing import StandardScaler,OneHotEncoder\n",
    "import pandas as pd\n",
    "import tensorflow as tf\n",
    "import pandas as pd\n",
    "import numpy as np\n",
    "\n",
    "# Import and read the csv.\n",
    "#df = pd.read_csv('model_df1_official.csv', index_col=[0])\n",
    "# OR: \n",
    "df = pd.read_csv('nnML_tiers.csv', index_col=[0])\n",
    "df.head()"
   ]
  },
  {
   "cell_type": "code",
   "execution_count": 144,
   "id": "02f37b14",
   "metadata": {},
   "outputs": [
    {
     "name": "stdout",
     "output_type": "stream",
     "text": [
      "<class 'pandas.core.frame.DataFrame'>\n",
      "Int64Index: 157672 entries, 770 to 160484\n",
      "Data columns (total 12 columns):\n",
      " #   Column        Non-Null Count   Dtype  \n",
      "---  ------        --------------   -----  \n",
      " 0   state         157672 non-null  object \n",
      " 1   brand         157672 non-null  object \n",
      " 2   spend         157672 non-null  float64\n",
      " 3   platform      157672 non-null  object \n",
      " 4   date_start    157672 non-null  object \n",
      " 5   Impressions   157672 non-null  int64  \n",
      " 6   leads         157672 non-null  float64\n",
      " 7   link_clicks   157672 non-null  int64  \n",
      " 8   reach         157672 non-null  float64\n",
      " 9   agency        157672 non-null  object \n",
      " 10  State Tiers   157672 non-null  int64  \n",
      " 11  Agency Tiers  157672 non-null  int64  \n",
      "dtypes: float64(3), int64(4), object(5)\n",
      "memory usage: 15.6+ MB\n"
     ]
    }
   ],
   "source": [
    "df.info()"
   ]
  },
  {
   "cell_type": "code",
   "execution_count": 145,
   "id": "73596509",
   "metadata": {},
   "outputs": [
    {
     "data": {
      "text/plain": [
       "770       CA\n",
       "771       CA\n",
       "772       CA\n",
       "773       CA\n",
       "774       CA\n",
       "          ..\n",
       "160480    ME\n",
       "160481    ME\n",
       "160482    ME\n",
       "160483    ME\n",
       "160484    ME\n",
       "Name: state, Length: 157672, dtype: object"
      ]
     },
     "execution_count": 145,
     "metadata": {},
     "output_type": "execute_result"
    }
   ],
   "source": [
    "df['state']"
   ]
  },
  {
   "cell_type": "code",
   "execution_count": 146,
   "id": "1b8a0187",
   "metadata": {},
   "outputs": [],
   "source": [
    "# version to look at only CA\n",
    "# observe column brand\n",
    "df_ca = df.loc[df['state']== 'VA']\n",
    "# output shows CA starts (index) at 770 and ends at 146479"
   ]
  },
  {
   "cell_type": "code",
   "execution_count": 147,
   "id": "3de52da3",
   "metadata": {},
   "outputs": [
    {
     "data": {
      "text/html": [
       "<div>\n",
       "<style scoped>\n",
       "    .dataframe tbody tr th:only-of-type {\n",
       "        vertical-align: middle;\n",
       "    }\n",
       "\n",
       "    .dataframe tbody tr th {\n",
       "        vertical-align: top;\n",
       "    }\n",
       "\n",
       "    .dataframe thead th {\n",
       "        text-align: right;\n",
       "    }\n",
       "</style>\n",
       "<table border=\"1\" class=\"dataframe\">\n",
       "  <thead>\n",
       "    <tr style=\"text-align: right;\">\n",
       "      <th></th>\n",
       "      <th>state</th>\n",
       "      <th>brand</th>\n",
       "      <th>spend</th>\n",
       "      <th>platform</th>\n",
       "      <th>date_start</th>\n",
       "      <th>Impressions</th>\n",
       "      <th>leads</th>\n",
       "      <th>link_clicks</th>\n",
       "      <th>reach</th>\n",
       "      <th>agency</th>\n",
       "      <th>State Tiers</th>\n",
       "      <th>Agency Tiers</th>\n",
       "    </tr>\n",
       "  </thead>\n",
       "  <tbody>\n",
       "    <tr>\n",
       "      <th>11751</th>\n",
       "      <td>VA</td>\n",
       "      <td>B1</td>\n",
       "      <td>17.43</td>\n",
       "      <td>Facebook Ads</td>\n",
       "      <td>12/20/2021</td>\n",
       "      <td>1275</td>\n",
       "      <td>1.0</td>\n",
       "      <td>2</td>\n",
       "      <td>1197.0</td>\n",
       "      <td>Agency 4</td>\n",
       "      <td>3</td>\n",
       "      <td>4</td>\n",
       "    </tr>\n",
       "    <tr>\n",
       "      <th>11752</th>\n",
       "      <td>VA</td>\n",
       "      <td>B2</td>\n",
       "      <td>3.89</td>\n",
       "      <td>Facebook Ads</td>\n",
       "      <td>9/7/2021</td>\n",
       "      <td>194</td>\n",
       "      <td>1.0</td>\n",
       "      <td>0</td>\n",
       "      <td>187.0</td>\n",
       "      <td>Agency 4</td>\n",
       "      <td>3</td>\n",
       "      <td>4</td>\n",
       "    </tr>\n",
       "    <tr>\n",
       "      <th>11753</th>\n",
       "      <td>VA</td>\n",
       "      <td>B2</td>\n",
       "      <td>4.00</td>\n",
       "      <td>Facebook Ads</td>\n",
       "      <td>7/21/2021</td>\n",
       "      <td>142</td>\n",
       "      <td>1.0</td>\n",
       "      <td>1</td>\n",
       "      <td>141.0</td>\n",
       "      <td>Agency 4</td>\n",
       "      <td>3</td>\n",
       "      <td>4</td>\n",
       "    </tr>\n",
       "    <tr>\n",
       "      <th>11754</th>\n",
       "      <td>VA</td>\n",
       "      <td>B2</td>\n",
       "      <td>29.31</td>\n",
       "      <td>Facebook Ads</td>\n",
       "      <td>9/29/2021</td>\n",
       "      <td>1779</td>\n",
       "      <td>1.0</td>\n",
       "      <td>4</td>\n",
       "      <td>1696.0</td>\n",
       "      <td>Agency 4</td>\n",
       "      <td>3</td>\n",
       "      <td>4</td>\n",
       "    </tr>\n",
       "    <tr>\n",
       "      <th>11755</th>\n",
       "      <td>VA</td>\n",
       "      <td>B2</td>\n",
       "      <td>5.28</td>\n",
       "      <td>Facebook Ads</td>\n",
       "      <td>8/5/2021</td>\n",
       "      <td>332</td>\n",
       "      <td>1.0</td>\n",
       "      <td>0</td>\n",
       "      <td>328.0</td>\n",
       "      <td>Agency 4</td>\n",
       "      <td>3</td>\n",
       "      <td>4</td>\n",
       "    </tr>\n",
       "  </tbody>\n",
       "</table>\n",
       "</div>"
      ],
      "text/plain": [
       "      state brand  spend      platform  date_start  Impressions  leads  \\\n",
       "11751    VA    B1  17.43  Facebook Ads  12/20/2021         1275    1.0   \n",
       "11752    VA    B2   3.89  Facebook Ads    9/7/2021          194    1.0   \n",
       "11753    VA    B2   4.00  Facebook Ads   7/21/2021          142    1.0   \n",
       "11754    VA    B2  29.31  Facebook Ads   9/29/2021         1779    1.0   \n",
       "11755    VA    B2   5.28  Facebook Ads    8/5/2021          332    1.0   \n",
       "\n",
       "       link_clicks   reach    agency  State Tiers  Agency Tiers  \n",
       "11751            2  1197.0  Agency 4            3             4  \n",
       "11752            0   187.0  Agency 4            3             4  \n",
       "11753            1   141.0  Agency 4            3             4  \n",
       "11754            4  1696.0  Agency 4            3             4  \n",
       "11755            0   328.0  Agency 4            3             4  "
      ]
     },
     "execution_count": 147,
     "metadata": {},
     "output_type": "execute_result"
    }
   ],
   "source": [
    "# Drop all CA values from state column:\n",
    "df_ca.head()"
   ]
  },
  {
   "cell_type": "code",
   "execution_count": 154,
   "id": "d49a3bec",
   "metadata": {},
   "outputs": [
    {
     "data": {
      "text/html": [
       "<div>\n",
       "<style scoped>\n",
       "    .dataframe tbody tr th:only-of-type {\n",
       "        vertical-align: middle;\n",
       "    }\n",
       "\n",
       "    .dataframe tbody tr th {\n",
       "        vertical-align: top;\n",
       "    }\n",
       "\n",
       "    .dataframe thead th {\n",
       "        text-align: right;\n",
       "    }\n",
       "</style>\n",
       "<table border=\"1\" class=\"dataframe\">\n",
       "  <thead>\n",
       "    <tr style=\"text-align: right;\">\n",
       "      <th></th>\n",
       "      <th>spend</th>\n",
       "      <th>Impressions</th>\n",
       "      <th>leads</th>\n",
       "      <th>reach</th>\n",
       "      <th>State Tiers</th>\n",
       "      <th>Agency Tiers</th>\n",
       "    </tr>\n",
       "  </thead>\n",
       "  <tbody>\n",
       "    <tr>\n",
       "      <th>11751</th>\n",
       "      <td>17.43</td>\n",
       "      <td>1275</td>\n",
       "      <td>1.0</td>\n",
       "      <td>1197.0</td>\n",
       "      <td>3</td>\n",
       "      <td>4</td>\n",
       "    </tr>\n",
       "    <tr>\n",
       "      <th>11752</th>\n",
       "      <td>3.89</td>\n",
       "      <td>194</td>\n",
       "      <td>1.0</td>\n",
       "      <td>187.0</td>\n",
       "      <td>3</td>\n",
       "      <td>4</td>\n",
       "    </tr>\n",
       "    <tr>\n",
       "      <th>11753</th>\n",
       "      <td>4.00</td>\n",
       "      <td>142</td>\n",
       "      <td>1.0</td>\n",
       "      <td>141.0</td>\n",
       "      <td>3</td>\n",
       "      <td>4</td>\n",
       "    </tr>\n",
       "    <tr>\n",
       "      <th>11754</th>\n",
       "      <td>29.31</td>\n",
       "      <td>1779</td>\n",
       "      <td>1.0</td>\n",
       "      <td>1696.0</td>\n",
       "      <td>3</td>\n",
       "      <td>4</td>\n",
       "    </tr>\n",
       "    <tr>\n",
       "      <th>11755</th>\n",
       "      <td>5.28</td>\n",
       "      <td>332</td>\n",
       "      <td>1.0</td>\n",
       "      <td>328.0</td>\n",
       "      <td>3</td>\n",
       "      <td>4</td>\n",
       "    </tr>\n",
       "  </tbody>\n",
       "</table>\n",
       "</div>"
      ],
      "text/plain": [
       "       spend  Impressions  leads   reach  State Tiers  Agency Tiers\n",
       "11751  17.43         1275    1.0  1197.0            3             4\n",
       "11752   3.89          194    1.0   187.0            3             4\n",
       "11753   4.00          142    1.0   141.0            3             4\n",
       "11754  29.31         1779    1.0  1696.0            3             4\n",
       "11755   5.28          332    1.0   328.0            3             4"
      ]
     },
     "execution_count": 154,
     "metadata": {},
     "output_type": "execute_result"
    }
   ],
   "source": [
    "# df2 = df.drop(columns=['state', 'agency', 'brand', 'platform', 'date_start', 'Impressions'])\n",
    "# df2\n",
    "\n",
    "# OR ca option\n",
    "df_ca1 = df_ca.drop(columns=['state', 'agency', 'brand', 'platform', 'date_start', 'link_clicks'])\n",
    "df_ca1.head()"
   ]
  },
  {
   "cell_type": "code",
   "execution_count": 155,
   "id": "0969729b",
   "metadata": {},
   "outputs": [],
   "source": [
    "# steps: \n",
    "# create the model with LogisticRegression()\n",
    "# train the model with model.fit()\n",
    "# make predictions with model.predict()\n",
    "# validate with accuracy_score()"
   ]
  },
  {
   "cell_type": "markdown",
   "id": "28d509c1",
   "metadata": {},
   "source": [
    "### Hyperparam check"
   ]
  },
  {
   "cell_type": "code",
   "execution_count": 156,
   "id": "0baf3c4b",
   "metadata": {},
   "outputs": [],
   "source": [
    "logModel = LogisticRegression()"
   ]
  },
  {
   "cell_type": "code",
   "execution_count": 157,
   "id": "a978d550",
   "metadata": {},
   "outputs": [],
   "source": [
    "param_grid = [\n",
    "    {'penalty': ['l1', 'l2', 'elasticnet', 'none'],\n",
    "    'C': np.logspace(-4,4,20),\n",
    "    'solver': ['lbfgs', 'newton-cg', 'liblinear', 'sag', 'saga'],\n",
    "    'max_iter': [100,1000,2500,5000]}\n",
    "]\n"
   ]
  },
  {
   "cell_type": "code",
   "execution_count": 158,
   "id": "8aeb9b5b",
   "metadata": {},
   "outputs": [],
   "source": [
    "# test for most optimal params \n",
    "from sklearn.model_selection import GridSearchCV\n",
    "clf = GridSearchCV(logModel, param_grid = param_grid, cv=3, verbose=True, n_jobs=-1)"
   ]
  },
  {
   "cell_type": "code",
   "execution_count": 159,
   "id": "1ecc0eee",
   "metadata": {},
   "outputs": [
    {
     "name": "stdout",
     "output_type": "stream",
     "text": [
      "Fitting 3 folds for each of 1600 candidates, totalling 4800 fits\n"
     ]
    },
    {
     "name": "stderr",
     "output_type": "stream",
     "text": [
      "C:\\Users\\dia78039\\Anaconda3\\envs\\PythonData\\lib\\site-packages\\sklearn\\model_selection\\_search.py:925: UserWarning: One or more of the test scores are non-finite: [       nan        nan 0.62068509 ...        nan 0.62675259 0.62675259]\n",
      "  category=UserWarning\n"
     ]
    }
   ],
   "source": [
    "best_clf = clf.fit(X,y)"
   ]
  },
  {
   "cell_type": "code",
   "execution_count": 160,
   "id": "4d60b204",
   "metadata": {},
   "outputs": [
    {
     "data": {
      "text/plain": [
       "LogisticRegression(C=0.0001, penalty='l1', solver='saga')"
      ]
     },
     "execution_count": 160,
     "metadata": {},
     "output_type": "execute_result"
    }
   ],
   "source": [
    "best_clf.best_estimator_\n",
    "# shows that I need a penalty of l1, solver type saga, and c value of .0001"
   ]
  },
  {
   "cell_type": "markdown",
   "id": "46a059b4",
   "metadata": {},
   "source": [
    "### Seperate features, x and target, y"
   ]
  },
  {
   "cell_type": "code",
   "execution_count": 161,
   "id": "85f50d24",
   "metadata": {},
   "outputs": [],
   "source": [
    "# y = df2[\"leads\"]\n",
    "# X = df2.drop(columns=\"leads\")\n",
    "\n",
    "# or CA option\n",
    "y = df_ca1[\"leads\"]\n",
    "X = df_ca1.drop(columns=\"leads\")"
   ]
  },
  {
   "cell_type": "markdown",
   "id": "200565c8",
   "metadata": {},
   "source": [
    "### Split into train and test features"
   ]
  },
  {
   "cell_type": "code",
   "execution_count": 162,
   "id": "7d94906d",
   "metadata": {},
   "outputs": [
    {
     "data": {
      "text/plain": [
       "(1979, 5)"
      ]
     },
     "execution_count": 162,
     "metadata": {},
     "output_type": "execute_result"
    }
   ],
   "source": [
    "X_train, X_test, y_train, y_test = train_test_split(X, \n",
    "                                                    y, \n",
    "                                                    random_state=1, \n",
    "                                                    stratify=y)\n",
    "X_train.shape"
   ]
  },
  {
   "cell_type": "markdown",
   "id": "068c93b2",
   "metadata": {},
   "source": [
    "### Create Log Reg Model "
   ]
  },
  {
   "cell_type": "code",
   "execution_count": 163,
   "id": "4557dbbe",
   "metadata": {},
   "outputs": [],
   "source": [
    "# edit the params as needed\n",
    "# https://scikit-learn.org/stable/modules/generated/sklearn.linear_model.LogisticRegression.html\n",
    "from sklearn.linear_model import LogisticRegression\n",
    "classifier = LogisticRegression(solver='saga',\n",
    "                                C=0.0001,\n",
    "                                max_iter=500,\n",
    "                                random_state=1,\n",
    "                                class_weight='balanced',\n",
    "                               multi_class='auto', \n",
    "                               penalty='l1')"
   ]
  },
  {
   "cell_type": "markdown",
   "id": "39228d9a",
   "metadata": {},
   "source": [
    "### Fit/train or model using training data"
   ]
  },
  {
   "cell_type": "code",
   "execution_count": 164,
   "id": "d697df84",
   "metadata": {},
   "outputs": [
    {
     "data": {
      "text/plain": [
       "LogisticRegression(C=0.0001, class_weight='balanced', max_iter=500,\n",
       "                   penalty='l1', random_state=1, solver='saga')"
      ]
     },
     "execution_count": 164,
     "metadata": {},
     "output_type": "execute_result"
    }
   ],
   "source": [
    "classifier.fit(X_train, y_train)"
   ]
  },
  {
   "cell_type": "markdown",
   "id": "9ae45273",
   "metadata": {},
   "source": [
    "### Make predictions"
   ]
  },
  {
   "cell_type": "code",
   "execution_count": 165,
   "id": "64a2f57b",
   "metadata": {},
   "outputs": [
    {
     "data": {
      "text/html": [
       "<div>\n",
       "<style scoped>\n",
       "    .dataframe tbody tr th:only-of-type {\n",
       "        vertical-align: middle;\n",
       "    }\n",
       "\n",
       "    .dataframe tbody tr th {\n",
       "        vertical-align: top;\n",
       "    }\n",
       "\n",
       "    .dataframe thead th {\n",
       "        text-align: right;\n",
       "    }\n",
       "</style>\n",
       "<table border=\"1\" class=\"dataframe\">\n",
       "  <thead>\n",
       "    <tr style=\"text-align: right;\">\n",
       "      <th></th>\n",
       "      <th>Prediction</th>\n",
       "      <th>Actual</th>\n",
       "    </tr>\n",
       "  </thead>\n",
       "  <tbody>\n",
       "    <tr>\n",
       "      <th>0</th>\n",
       "      <td>1.0</td>\n",
       "      <td>0.0</td>\n",
       "    </tr>\n",
       "    <tr>\n",
       "      <th>1</th>\n",
       "      <td>1.0</td>\n",
       "      <td>1.0</td>\n",
       "    </tr>\n",
       "    <tr>\n",
       "      <th>2</th>\n",
       "      <td>1.0</td>\n",
       "      <td>1.0</td>\n",
       "    </tr>\n",
       "    <tr>\n",
       "      <th>3</th>\n",
       "      <td>1.0</td>\n",
       "      <td>1.0</td>\n",
       "    </tr>\n",
       "    <tr>\n",
       "      <th>4</th>\n",
       "      <td>1.0</td>\n",
       "      <td>1.0</td>\n",
       "    </tr>\n",
       "    <tr>\n",
       "      <th>5</th>\n",
       "      <td>1.0</td>\n",
       "      <td>1.0</td>\n",
       "    </tr>\n",
       "    <tr>\n",
       "      <th>6</th>\n",
       "      <td>1.0</td>\n",
       "      <td>0.0</td>\n",
       "    </tr>\n",
       "    <tr>\n",
       "      <th>7</th>\n",
       "      <td>1.0</td>\n",
       "      <td>1.0</td>\n",
       "    </tr>\n",
       "    <tr>\n",
       "      <th>8</th>\n",
       "      <td>1.0</td>\n",
       "      <td>0.0</td>\n",
       "    </tr>\n",
       "    <tr>\n",
       "      <th>9</th>\n",
       "      <td>1.0</td>\n",
       "      <td>1.0</td>\n",
       "    </tr>\n",
       "    <tr>\n",
       "      <th>10</th>\n",
       "      <td>0.0</td>\n",
       "      <td>1.0</td>\n",
       "    </tr>\n",
       "    <tr>\n",
       "      <th>11</th>\n",
       "      <td>1.0</td>\n",
       "      <td>0.0</td>\n",
       "    </tr>\n",
       "    <tr>\n",
       "      <th>12</th>\n",
       "      <td>1.0</td>\n",
       "      <td>1.0</td>\n",
       "    </tr>\n",
       "    <tr>\n",
       "      <th>13</th>\n",
       "      <td>1.0</td>\n",
       "      <td>1.0</td>\n",
       "    </tr>\n",
       "    <tr>\n",
       "      <th>14</th>\n",
       "      <td>1.0</td>\n",
       "      <td>0.0</td>\n",
       "    </tr>\n",
       "    <tr>\n",
       "      <th>15</th>\n",
       "      <td>1.0</td>\n",
       "      <td>1.0</td>\n",
       "    </tr>\n",
       "    <tr>\n",
       "      <th>16</th>\n",
       "      <td>1.0</td>\n",
       "      <td>1.0</td>\n",
       "    </tr>\n",
       "    <tr>\n",
       "      <th>17</th>\n",
       "      <td>1.0</td>\n",
       "      <td>0.0</td>\n",
       "    </tr>\n",
       "    <tr>\n",
       "      <th>18</th>\n",
       "      <td>1.0</td>\n",
       "      <td>1.0</td>\n",
       "    </tr>\n",
       "    <tr>\n",
       "      <th>19</th>\n",
       "      <td>1.0</td>\n",
       "      <td>1.0</td>\n",
       "    </tr>\n",
       "  </tbody>\n",
       "</table>\n",
       "</div>"
      ],
      "text/plain": [
       "    Prediction  Actual\n",
       "0          1.0     0.0\n",
       "1          1.0     1.0\n",
       "2          1.0     1.0\n",
       "3          1.0     1.0\n",
       "4          1.0     1.0\n",
       "5          1.0     1.0\n",
       "6          1.0     0.0\n",
       "7          1.0     1.0\n",
       "8          1.0     0.0\n",
       "9          1.0     1.0\n",
       "10         0.0     1.0\n",
       "11         1.0     0.0\n",
       "12         1.0     1.0\n",
       "13         1.0     1.0\n",
       "14         1.0     0.0\n",
       "15         1.0     1.0\n",
       "16         1.0     1.0\n",
       "17         1.0     0.0\n",
       "18         1.0     1.0\n",
       "19         1.0     1.0"
      ]
     },
     "execution_count": 165,
     "metadata": {},
     "output_type": "execute_result"
    }
   ],
   "source": [
    "y_pred = classifier.predict(X_test)\n",
    "results = pd.DataFrame({\"Prediction\": y_pred, \"Actual\": y_test}).reset_index(drop=True)\n",
    "results.head(20)"
   ]
  },
  {
   "cell_type": "markdown",
   "id": "4396dba5",
   "metadata": {},
   "source": [
    "### Validate"
   ]
  },
  {
   "cell_type": "code",
   "execution_count": 166,
   "id": "81d09a64",
   "metadata": {},
   "outputs": [
    {
     "name": "stdout",
     "output_type": "stream",
     "text": [
      "0.6242424242424243\n"
     ]
    }
   ],
   "source": [
    "# accuracy score\n",
    "from sklearn.metrics import accuracy_score\n",
    "print(accuracy_score(y_test, y_pred))"
   ]
  },
  {
   "cell_type": "code",
   "execution_count": 167,
   "id": "ba5987c5",
   "metadata": {},
   "outputs": [
    {
     "name": "stdout",
     "output_type": "stream",
     "text": [
      "[[ 18 228]\n",
      " [ 20 394]]\n"
     ]
    }
   ],
   "source": [
    "# confusion matrix\n",
    "from sklearn.metrics import confusion_matrix, classification_report\n",
    "matrix = confusion_matrix(y_test, y_pred)\n",
    "print(matrix)\n",
    "# TP = 0\n",
    "# FP = 0\n",
    "# FN = 17,460\n",
    "# TN = 21,958\n",
    "\n",
    "# precision = TP/(TP+FP), in this case a precision of 0 means what?\n",
    "# sensitivity = TP/(TP+FN), in this case a score of 0 means what? = recall"
   ]
  },
  {
   "cell_type": "code",
   "execution_count": 168,
   "id": "6a1cc14f",
   "metadata": {},
   "outputs": [
    {
     "name": "stdout",
     "output_type": "stream",
     "text": [
      "              precision    recall  f1-score   support\n",
      "\n",
      "         0.0       0.47      0.07      0.13       246\n",
      "         1.0       0.63      0.95      0.76       414\n",
      "\n",
      "    accuracy                           0.62       660\n",
      "   macro avg       0.55      0.51      0.44       660\n",
      "weighted avg       0.57      0.62      0.52       660\n",
      "\n"
     ]
    }
   ],
   "source": [
    "# classification report\n",
    "report = classification_report(y_test, y_pred)\n",
    "print(report)\n",
    "\n",
    "### note: \n",
    "# ytest are the outcomes, either yes or no on leads column target \n",
    "# y_pred are the predictions\n",
    "# do we read the accuracy score as 56% on predictions as a lead? \n",
    "# F1 = harmonic mean, takes sensitivity and precision = .72 here means what?"
   ]
  }
 ],
 "metadata": {
  "kernelspec": {
   "display_name": "PythonData",
   "language": "python",
   "name": "pythondata"
  },
  "language_info": {
   "codemirror_mode": {
    "name": "ipython",
    "version": 3
   },
   "file_extension": ".py",
   "mimetype": "text/x-python",
   "name": "python",
   "nbconvert_exporter": "python",
   "pygments_lexer": "ipython3",
   "version": "3.7.11"
  }
 },
 "nbformat": 4,
 "nbformat_minor": 5
}
