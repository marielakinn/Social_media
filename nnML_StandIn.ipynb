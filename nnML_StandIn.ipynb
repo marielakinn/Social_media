{
 "cells": [
  {
   "cell_type": "markdown",
   "id": "f0bf2a0c",
   "metadata": {},
   "source": [
    "# Preprocessing the Data for a Neural Network\n"
   ]
  },
  {
   "cell_type": "code",
   "execution_count": 2,
   "id": "24393ae9",
   "metadata": {},
   "outputs": [
    {
     "name": "stderr",
     "output_type": "stream",
     "text": [
      "C:\\Users\\dia78039\\Anaconda3\\envs\\PythonData\\lib\\site-packages\\IPython\\core\\interactiveshell.py:3444: DtypeWarning: Columns (11) have mixed types.Specify dtype option on import or set low_memory=False.\n",
      "  exec(code_obj, self.user_global_ns, self.user_ns)\n"
     ]
    },
    {
     "data": {
      "text/html": [
       "<div>\n",
       "<style scoped>\n",
       "    .dataframe tbody tr th:only-of-type {\n",
       "        vertical-align: middle;\n",
       "    }\n",
       "\n",
       "    .dataframe tbody tr th {\n",
       "        vertical-align: top;\n",
       "    }\n",
       "\n",
       "    .dataframe thead th {\n",
       "        text-align: right;\n",
       "    }\n",
       "</style>\n",
       "<table border=\"1\" class=\"dataframe\">\n",
       "  <thead>\n",
       "    <tr style=\"text-align: right;\">\n",
       "      <th></th>\n",
       "      <th>state</th>\n",
       "      <th>brand</th>\n",
       "      <th>spend</th>\n",
       "      <th>campaign_id</th>\n",
       "      <th>mapped_storeid</th>\n",
       "      <th>platform</th>\n",
       "      <th>date_start</th>\n",
       "      <th>impressions</th>\n",
       "      <th>leads</th>\n",
       "      <th>link_clicks</th>\n",
       "      <th>reach</th>\n",
       "      <th>CAP_name</th>\n",
       "      <th>chainid</th>\n",
       "      <th>is_cap</th>\n",
       "      <th>agency</th>\n",
       "      <th>type</th>\n",
       "      <th>location_name</th>\n",
       "    </tr>\n",
       "  </thead>\n",
       "  <tbody>\n",
       "    <tr>\n",
       "      <th>0</th>\n",
       "      <td>CA</td>\n",
       "      <td>B2</td>\n",
       "      <td>7.39</td>\n",
       "      <td>1.248033e+10</td>\n",
       "      <td>11429.0</td>\n",
       "      <td>Google Ads</td>\n",
       "      <td>10/20/2021</td>\n",
       "      <td>114</td>\n",
       "      <td>1.0</td>\n",
       "      <td>8</td>\n",
       "      <td>NaN</td>\n",
       "      <td>Local Google PPC_Agency 2_CAP</td>\n",
       "      <td>684.0</td>\n",
       "      <td>1.0</td>\n",
       "      <td>Agency 2</td>\n",
       "      <td>Local</td>\n",
       "      <td>B2 Roseville</td>\n",
       "    </tr>\n",
       "    <tr>\n",
       "      <th>1</th>\n",
       "      <td>CA</td>\n",
       "      <td>B1</td>\n",
       "      <td>18.34</td>\n",
       "      <td>1.342492e+10</td>\n",
       "      <td>10922.0</td>\n",
       "      <td>Google Ads</td>\n",
       "      <td>7/26/2021</td>\n",
       "      <td>36</td>\n",
       "      <td>1.0</td>\n",
       "      <td>8</td>\n",
       "      <td>NaN</td>\n",
       "      <td>Local Google PPC_Agency 3_CAP</td>\n",
       "      <td>622.0</td>\n",
       "      <td>1.0</td>\n",
       "      <td>Agency 3</td>\n",
       "      <td>Local</td>\n",
       "      <td>B1 - Redlands</td>\n",
       "    </tr>\n",
       "    <tr>\n",
       "      <th>2</th>\n",
       "      <td>WA</td>\n",
       "      <td>B2</td>\n",
       "      <td>3.42</td>\n",
       "      <td>1.150570e+10</td>\n",
       "      <td>11002.0</td>\n",
       "      <td>Google Ads</td>\n",
       "      <td>8/7/2021</td>\n",
       "      <td>165</td>\n",
       "      <td>1.0</td>\n",
       "      <td>2</td>\n",
       "      <td>NaN</td>\n",
       "      <td>Local Google PPC_Agency 2_CAP</td>\n",
       "      <td>684.0</td>\n",
       "      <td>1.0</td>\n",
       "      <td>Agency 2</td>\n",
       "      <td>Local</td>\n",
       "      <td>B2 Sammamish</td>\n",
       "    </tr>\n",
       "    <tr>\n",
       "      <th>3</th>\n",
       "      <td>CA</td>\n",
       "      <td>B2</td>\n",
       "      <td>20.28</td>\n",
       "      <td>1.426434e+10</td>\n",
       "      <td>8810.0</td>\n",
       "      <td>Google Ads</td>\n",
       "      <td>12/19/2021</td>\n",
       "      <td>161</td>\n",
       "      <td>2.0</td>\n",
       "      <td>10</td>\n",
       "      <td>NaN</td>\n",
       "      <td>Local Google PPC_Agency 2_CAP</td>\n",
       "      <td>684.0</td>\n",
       "      <td>1.0</td>\n",
       "      <td>Agency 2</td>\n",
       "      <td>Local</td>\n",
       "      <td>B2 Irvine</td>\n",
       "    </tr>\n",
       "    <tr>\n",
       "      <th>4</th>\n",
       "      <td>TX</td>\n",
       "      <td>B1</td>\n",
       "      <td>5.56</td>\n",
       "      <td>1.290236e+10</td>\n",
       "      <td>11487.0</td>\n",
       "      <td>Google Ads</td>\n",
       "      <td>8/27/2021</td>\n",
       "      <td>56</td>\n",
       "      <td>1.0</td>\n",
       "      <td>3</td>\n",
       "      <td>NaN</td>\n",
       "      <td>Local Google PPC_Agency 2_CAP</td>\n",
       "      <td>622.0</td>\n",
       "      <td>1.0</td>\n",
       "      <td>Agency 2</td>\n",
       "      <td>Local</td>\n",
       "      <td>B1 - Allen</td>\n",
       "    </tr>\n",
       "  </tbody>\n",
       "</table>\n",
       "</div>"
      ],
      "text/plain": [
       "  state brand  spend   campaign_id  mapped_storeid    platform  date_start  \\\n",
       "0    CA    B2   7.39  1.248033e+10         11429.0  Google Ads  10/20/2021   \n",
       "1    CA    B1  18.34  1.342492e+10         10922.0  Google Ads   7/26/2021   \n",
       "2    WA    B2   3.42  1.150570e+10         11002.0  Google Ads    8/7/2021   \n",
       "3    CA    B2  20.28  1.426434e+10          8810.0  Google Ads  12/19/2021   \n",
       "4    TX    B1   5.56  1.290236e+10         11487.0  Google Ads   8/27/2021   \n",
       "\n",
       "   impressions  leads  link_clicks  reach                       CAP_name  \\\n",
       "0          114    1.0            8    NaN  Local Google PPC_Agency 2_CAP   \n",
       "1           36    1.0            8    NaN  Local Google PPC_Agency 3_CAP   \n",
       "2          165    1.0            2    NaN  Local Google PPC_Agency 2_CAP   \n",
       "3          161    2.0           10    NaN  Local Google PPC_Agency 2_CAP   \n",
       "4           56    1.0            3    NaN  Local Google PPC_Agency 2_CAP   \n",
       "\n",
       "   chainid  is_cap    agency   type  location_name  \n",
       "0    684.0     1.0  Agency 2  Local   B2 Roseville  \n",
       "1    622.0     1.0  Agency 3  Local  B1 - Redlands  \n",
       "2    684.0     1.0  Agency 2  Local   B2 Sammamish  \n",
       "3    684.0     1.0  Agency 2  Local      B2 Irvine  \n",
       "4    622.0     1.0  Agency 2  Local     B1 - Allen  "
      ]
     },
     "execution_count": 2,
     "metadata": {},
     "output_type": "execute_result"
    }
   ],
   "source": [
    "# Import our dependencies\n",
    "from sklearn.model_selection import train_test_split\n",
    "from sklearn.preprocessing import StandardScaler,OneHotEncoder\n",
    "import pandas as pd\n",
    "import tensorflow as tf\n",
    "import pandas as pd \n",
    "\n",
    "# Import and read the charity_data.csv.\n",
    "rawDF = pd.read_csv(\"clean_datasets/clean_df2.csv\")\n",
    "rawDF.head()"
   ]
  },
  {
   "cell_type": "code",
   "execution_count": 3,
   "id": "36b4deed",
   "metadata": {},
   "outputs": [
    {
     "name": "stdout",
     "output_type": "stream",
     "text": [
      "<class 'pandas.core.frame.DataFrame'>\n",
      "RangeIndex: 197268 entries, 0 to 197267\n",
      "Data columns (total 17 columns):\n",
      " #   Column          Non-Null Count   Dtype  \n",
      "---  ------          --------------   -----  \n",
      " 0   state           197268 non-null  object \n",
      " 1   brand           197268 non-null  object \n",
      " 2   spend           197268 non-null  float64\n",
      " 3   campaign_id     197268 non-null  float64\n",
      " 4   mapped_storeid  197268 non-null  float64\n",
      " 5   platform        197268 non-null  object \n",
      " 6   date_start      197268 non-null  object \n",
      " 7   impressions     197268 non-null  int64  \n",
      " 8   leads           197268 non-null  float64\n",
      " 9   link_clicks     197268 non-null  int64  \n",
      " 10  reach           194455 non-null  float64\n",
      " 11  CAP_name        43791 non-null   object \n",
      " 12  chainid         43791 non-null   float64\n",
      " 13  is_cap          43791 non-null   float64\n",
      " 14  agency          197268 non-null  object \n",
      " 15  type            197267 non-null  object \n",
      " 16  location_name   197268 non-null  object \n",
      "dtypes: float64(7), int64(2), object(8)\n",
      "memory usage: 25.6+ MB\n"
     ]
    }
   ],
   "source": [
    "rawDF.info()\n",
    "# columns to drop from index match: \n",
    "# 3,4,5,7,8,9,10,12,13,19,20,21,22,23,24,25,26,27,28,32,34,37,38,39,41,42,43,44,45,46,47,48,49,50,51"
   ]
  },
  {
   "cell_type": "code",
   "execution_count": 4,
   "id": "a90a1cf5",
   "metadata": {},
   "outputs": [
    {
     "name": "stdout",
     "output_type": "stream",
     "text": [
      "No.of.unique values : 3\n",
      "unique values name : ['B2', 'B1', 'B3']\n"
     ]
    }
   ],
   "source": [
    "# for loop to count understand what values are in \"brand\" column\n",
    "\n",
    "# variable to hold the count\n",
    "cnt = 0\n",
    "  \n",
    "# list to hold my B3 values\n",
    "b3Vals = []\n",
    "  \n",
    "# loop for counting the unique\n",
    "# values in height\n",
    "for i in range(0, len(rawDF['brand'])):\n",
    "    \n",
    "    if rawDF['brand'][i] not in b3Vals: \n",
    "    \n",
    "        b3Vals.append(rawDF['brand'][i])\n",
    "          \n",
    "        cnt += 1\n",
    "  \n",
    "print(\"No.of.unique values :\",\n",
    "      cnt)\n",
    "  \n",
    "print(\"unique values name :\",\n",
    "      b3Vals)"
   ]
  },
  {
   "cell_type": "code",
   "execution_count": 5,
   "id": "37b4e92a",
   "metadata": {},
   "outputs": [
    {
     "data": {
      "text/html": [
       "<div>\n",
       "<style scoped>\n",
       "    .dataframe tbody tr th:only-of-type {\n",
       "        vertical-align: middle;\n",
       "    }\n",
       "\n",
       "    .dataframe tbody tr th {\n",
       "        vertical-align: top;\n",
       "    }\n",
       "\n",
       "    .dataframe thead th {\n",
       "        text-align: right;\n",
       "    }\n",
       "</style>\n",
       "<table border=\"1\" class=\"dataframe\">\n",
       "  <thead>\n",
       "    <tr style=\"text-align: right;\">\n",
       "      <th></th>\n",
       "      <th>state</th>\n",
       "      <th>brand</th>\n",
       "      <th>spend</th>\n",
       "      <th>campaign_id</th>\n",
       "      <th>mapped_storeid</th>\n",
       "      <th>platform</th>\n",
       "      <th>date_start</th>\n",
       "      <th>impressions</th>\n",
       "      <th>leads</th>\n",
       "      <th>link_clicks</th>\n",
       "      <th>reach</th>\n",
       "      <th>CAP_name</th>\n",
       "      <th>chainid</th>\n",
       "      <th>is_cap</th>\n",
       "      <th>agency</th>\n",
       "      <th>type</th>\n",
       "      <th>location_name</th>\n",
       "    </tr>\n",
       "  </thead>\n",
       "  <tbody>\n",
       "    <tr>\n",
       "      <th>163191</th>\n",
       "      <td>CA</td>\n",
       "      <td>B3</td>\n",
       "      <td>11.76</td>\n",
       "      <td>1.245405e+10</td>\n",
       "      <td>6864.0</td>\n",
       "      <td>Google Ads</td>\n",
       "      <td>11/19/2021</td>\n",
       "      <td>32</td>\n",
       "      <td>0.0</td>\n",
       "      <td>5</td>\n",
       "      <td>NaN</td>\n",
       "      <td>NaN</td>\n",
       "      <td>NaN</td>\n",
       "      <td>NaN</td>\n",
       "      <td>Agency 3</td>\n",
       "      <td>Local</td>\n",
       "      <td>B3 - Tustin</td>\n",
       "    </tr>\n",
       "    <tr>\n",
       "      <th>163192</th>\n",
       "      <td>CA</td>\n",
       "      <td>B3</td>\n",
       "      <td>17.63</td>\n",
       "      <td>1.245405e+10</td>\n",
       "      <td>6864.0</td>\n",
       "      <td>Google Ads</td>\n",
       "      <td>12/14/2021</td>\n",
       "      <td>31</td>\n",
       "      <td>1.0</td>\n",
       "      <td>3</td>\n",
       "      <td>NaN</td>\n",
       "      <td>NaN</td>\n",
       "      <td>NaN</td>\n",
       "      <td>NaN</td>\n",
       "      <td>Agency 3</td>\n",
       "      <td>Local</td>\n",
       "      <td>B3 - Tustin</td>\n",
       "    </tr>\n",
       "    <tr>\n",
       "      <th>163193</th>\n",
       "      <td>CA</td>\n",
       "      <td>B3</td>\n",
       "      <td>13.68</td>\n",
       "      <td>1.245405e+10</td>\n",
       "      <td>6864.0</td>\n",
       "      <td>Google Ads</td>\n",
       "      <td>4/9/2021</td>\n",
       "      <td>34</td>\n",
       "      <td>1.0</td>\n",
       "      <td>3</td>\n",
       "      <td>NaN</td>\n",
       "      <td>NaN</td>\n",
       "      <td>NaN</td>\n",
       "      <td>NaN</td>\n",
       "      <td>Agency 3</td>\n",
       "      <td>Local</td>\n",
       "      <td>B3 - Tustin</td>\n",
       "    </tr>\n",
       "    <tr>\n",
       "      <th>163194</th>\n",
       "      <td>CA</td>\n",
       "      <td>B3</td>\n",
       "      <td>17.54</td>\n",
       "      <td>1.245405e+10</td>\n",
       "      <td>6864.0</td>\n",
       "      <td>Google Ads</td>\n",
       "      <td>10/19/2021</td>\n",
       "      <td>38</td>\n",
       "      <td>1.0</td>\n",
       "      <td>10</td>\n",
       "      <td>NaN</td>\n",
       "      <td>NaN</td>\n",
       "      <td>NaN</td>\n",
       "      <td>NaN</td>\n",
       "      <td>Agency 3</td>\n",
       "      <td>Local</td>\n",
       "      <td>B3 - Tustin</td>\n",
       "    </tr>\n",
       "    <tr>\n",
       "      <th>163195</th>\n",
       "      <td>CA</td>\n",
       "      <td>B3</td>\n",
       "      <td>10.64</td>\n",
       "      <td>1.245405e+10</td>\n",
       "      <td>6864.0</td>\n",
       "      <td>Google Ads</td>\n",
       "      <td>10/1/2021</td>\n",
       "      <td>51</td>\n",
       "      <td>1.0</td>\n",
       "      <td>12</td>\n",
       "      <td>NaN</td>\n",
       "      <td>NaN</td>\n",
       "      <td>NaN</td>\n",
       "      <td>NaN</td>\n",
       "      <td>Agency 3</td>\n",
       "      <td>Local</td>\n",
       "      <td>B3 - Tustin</td>\n",
       "    </tr>\n",
       "    <tr>\n",
       "      <th>...</th>\n",
       "      <td>...</td>\n",
       "      <td>...</td>\n",
       "      <td>...</td>\n",
       "      <td>...</td>\n",
       "      <td>...</td>\n",
       "      <td>...</td>\n",
       "      <td>...</td>\n",
       "      <td>...</td>\n",
       "      <td>...</td>\n",
       "      <td>...</td>\n",
       "      <td>...</td>\n",
       "      <td>...</td>\n",
       "      <td>...</td>\n",
       "      <td>...</td>\n",
       "      <td>...</td>\n",
       "      <td>...</td>\n",
       "      <td>...</td>\n",
       "    </tr>\n",
       "    <tr>\n",
       "      <th>197263</th>\n",
       "      <td>CA</td>\n",
       "      <td>B3</td>\n",
       "      <td>77.28</td>\n",
       "      <td>2.380000e+16</td>\n",
       "      <td>11204.0</td>\n",
       "      <td>Facebook Ads</td>\n",
       "      <td>6/29/2021</td>\n",
       "      <td>1623</td>\n",
       "      <td>0.0</td>\n",
       "      <td>16</td>\n",
       "      <td>1455.0</td>\n",
       "      <td>Local Facebook_Agency 3_CAP</td>\n",
       "      <td>642.0</td>\n",
       "      <td>1.0</td>\n",
       "      <td>Agency 3</td>\n",
       "      <td>Local</td>\n",
       "      <td>B3 - Del Mar</td>\n",
       "    </tr>\n",
       "    <tr>\n",
       "      <th>197264</th>\n",
       "      <td>CA</td>\n",
       "      <td>B3</td>\n",
       "      <td>11.49</td>\n",
       "      <td>2.380000e+16</td>\n",
       "      <td>9376.0</td>\n",
       "      <td>Facebook Ads</td>\n",
       "      <td>6/28/2021</td>\n",
       "      <td>404</td>\n",
       "      <td>0.0</td>\n",
       "      <td>5</td>\n",
       "      <td>398.0</td>\n",
       "      <td>Local Facebook_Agency 3_CAP</td>\n",
       "      <td>642.0</td>\n",
       "      <td>1.0</td>\n",
       "      <td>Agency 3</td>\n",
       "      <td>Local</td>\n",
       "      <td>B3 - North San Jose</td>\n",
       "    </tr>\n",
       "    <tr>\n",
       "      <th>197265</th>\n",
       "      <td>CA</td>\n",
       "      <td>B3</td>\n",
       "      <td>18.03</td>\n",
       "      <td>2.380000e+16</td>\n",
       "      <td>9376.0</td>\n",
       "      <td>Facebook Ads</td>\n",
       "      <td>6/27/2021</td>\n",
       "      <td>576</td>\n",
       "      <td>0.0</td>\n",
       "      <td>5</td>\n",
       "      <td>559.0</td>\n",
       "      <td>Local Facebook_Agency 3_CAP</td>\n",
       "      <td>642.0</td>\n",
       "      <td>1.0</td>\n",
       "      <td>Agency 3</td>\n",
       "      <td>Local</td>\n",
       "      <td>B3 - North San Jose</td>\n",
       "    </tr>\n",
       "    <tr>\n",
       "      <th>197266</th>\n",
       "      <td>CA</td>\n",
       "      <td>B3</td>\n",
       "      <td>17.27</td>\n",
       "      <td>2.380000e+16</td>\n",
       "      <td>9376.0</td>\n",
       "      <td>Facebook Ads</td>\n",
       "      <td>6/26/2021</td>\n",
       "      <td>555</td>\n",
       "      <td>0.0</td>\n",
       "      <td>7</td>\n",
       "      <td>537.0</td>\n",
       "      <td>Local Facebook_Agency 3_CAP</td>\n",
       "      <td>642.0</td>\n",
       "      <td>1.0</td>\n",
       "      <td>Agency 3</td>\n",
       "      <td>Local</td>\n",
       "      <td>B3 - North San Jose</td>\n",
       "    </tr>\n",
       "    <tr>\n",
       "      <th>197267</th>\n",
       "      <td>CA</td>\n",
       "      <td>B3</td>\n",
       "      <td>11.81</td>\n",
       "      <td>2.380000e+16</td>\n",
       "      <td>9376.0</td>\n",
       "      <td>Facebook Ads</td>\n",
       "      <td>6/25/2021</td>\n",
       "      <td>407</td>\n",
       "      <td>0.0</td>\n",
       "      <td>2</td>\n",
       "      <td>390.0</td>\n",
       "      <td>Local Facebook_Agency 3_CAP</td>\n",
       "      <td>642.0</td>\n",
       "      <td>1.0</td>\n",
       "      <td>Agency 3</td>\n",
       "      <td>Local</td>\n",
       "      <td>B3 - North San Jose</td>\n",
       "    </tr>\n",
       "  </tbody>\n",
       "</table>\n",
       "<p>34077 rows × 17 columns</p>\n",
       "</div>"
      ],
      "text/plain": [
       "       state brand  spend   campaign_id  mapped_storeid      platform  \\\n",
       "163191    CA    B3  11.76  1.245405e+10          6864.0    Google Ads   \n",
       "163192    CA    B3  17.63  1.245405e+10          6864.0    Google Ads   \n",
       "163193    CA    B3  13.68  1.245405e+10          6864.0    Google Ads   \n",
       "163194    CA    B3  17.54  1.245405e+10          6864.0    Google Ads   \n",
       "163195    CA    B3  10.64  1.245405e+10          6864.0    Google Ads   \n",
       "...      ...   ...    ...           ...             ...           ...   \n",
       "197263    CA    B3  77.28  2.380000e+16         11204.0  Facebook Ads   \n",
       "197264    CA    B3  11.49  2.380000e+16          9376.0  Facebook Ads   \n",
       "197265    CA    B3  18.03  2.380000e+16          9376.0  Facebook Ads   \n",
       "197266    CA    B3  17.27  2.380000e+16          9376.0  Facebook Ads   \n",
       "197267    CA    B3  11.81  2.380000e+16          9376.0  Facebook Ads   \n",
       "\n",
       "        date_start  impressions  leads  link_clicks   reach  \\\n",
       "163191  11/19/2021           32    0.0            5     NaN   \n",
       "163192  12/14/2021           31    1.0            3     NaN   \n",
       "163193    4/9/2021           34    1.0            3     NaN   \n",
       "163194  10/19/2021           38    1.0           10     NaN   \n",
       "163195   10/1/2021           51    1.0           12     NaN   \n",
       "...            ...          ...    ...          ...     ...   \n",
       "197263   6/29/2021         1623    0.0           16  1455.0   \n",
       "197264   6/28/2021          404    0.0            5   398.0   \n",
       "197265   6/27/2021          576    0.0            5   559.0   \n",
       "197266   6/26/2021          555    0.0            7   537.0   \n",
       "197267   6/25/2021          407    0.0            2   390.0   \n",
       "\n",
       "                           CAP_name  chainid  is_cap    agency   type  \\\n",
       "163191                          NaN      NaN     NaN  Agency 3  Local   \n",
       "163192                          NaN      NaN     NaN  Agency 3  Local   \n",
       "163193                          NaN      NaN     NaN  Agency 3  Local   \n",
       "163194                          NaN      NaN     NaN  Agency 3  Local   \n",
       "163195                          NaN      NaN     NaN  Agency 3  Local   \n",
       "...                             ...      ...     ...       ...    ...   \n",
       "197263  Local Facebook_Agency 3_CAP    642.0     1.0  Agency 3  Local   \n",
       "197264  Local Facebook_Agency 3_CAP    642.0     1.0  Agency 3  Local   \n",
       "197265  Local Facebook_Agency 3_CAP    642.0     1.0  Agency 3  Local   \n",
       "197266  Local Facebook_Agency 3_CAP    642.0     1.0  Agency 3  Local   \n",
       "197267  Local Facebook_Agency 3_CAP    642.0     1.0  Agency 3  Local   \n",
       "\n",
       "              location_name  \n",
       "163191          B3 - Tustin  \n",
       "163192          B3 - Tustin  \n",
       "163193          B3 - Tustin  \n",
       "163194          B3 - Tustin  \n",
       "163195          B3 - Tustin  \n",
       "...                     ...  \n",
       "197263         B3 - Del Mar  \n",
       "197264  B3 - North San Jose  \n",
       "197265  B3 - North San Jose  \n",
       "197266  B3 - North San Jose  \n",
       "197267  B3 - North San Jose  \n",
       "\n",
       "[34077 rows x 17 columns]"
      ]
     },
     "execution_count": 5,
     "metadata": {},
     "output_type": "execute_result"
    }
   ],
   "source": [
    "# First objective; drop all \"B3\" rows within column \"brand\"\n",
    "\n",
    "# observe column brand\n",
    "rawDF.loc[rawDF['brand']== 'B3']\n",
    "# output shows B3 starts (index) at 163191 and ends at 197267\n"
   ]
  },
  {
   "cell_type": "code",
   "execution_count": 8,
   "id": "886f27cf",
   "metadata": {},
   "outputs": [],
   "source": [
    "# Drop all B3 values from brand column:\n",
    "rawDF['brand'] = rawDF['brand'].drop(labels=range(163191, 197268), axis=0)"
   ]
  },
  {
   "cell_type": "code",
   "execution_count": 9,
   "id": "e5745478",
   "metadata": {},
   "outputs": [
    {
     "data": {
      "text/html": [
       "<div>\n",
       "<style scoped>\n",
       "    .dataframe tbody tr th:only-of-type {\n",
       "        vertical-align: middle;\n",
       "    }\n",
       "\n",
       "    .dataframe tbody tr th {\n",
       "        vertical-align: top;\n",
       "    }\n",
       "\n",
       "    .dataframe thead th {\n",
       "        text-align: right;\n",
       "    }\n",
       "</style>\n",
       "<table border=\"1\" class=\"dataframe\">\n",
       "  <thead>\n",
       "    <tr style=\"text-align: right;\">\n",
       "      <th></th>\n",
       "      <th>state</th>\n",
       "      <th>brand</th>\n",
       "      <th>spend</th>\n",
       "      <th>campaign_id</th>\n",
       "      <th>mapped_storeid</th>\n",
       "      <th>platform</th>\n",
       "      <th>date_start</th>\n",
       "      <th>impressions</th>\n",
       "      <th>leads</th>\n",
       "      <th>link_clicks</th>\n",
       "      <th>reach</th>\n",
       "      <th>CAP_name</th>\n",
       "      <th>chainid</th>\n",
       "      <th>is_cap</th>\n",
       "      <th>agency</th>\n",
       "      <th>type</th>\n",
       "      <th>location_name</th>\n",
       "    </tr>\n",
       "  </thead>\n",
       "  <tbody>\n",
       "  </tbody>\n",
       "</table>\n",
       "</div>"
      ],
      "text/plain": [
       "Empty DataFrame\n",
       "Columns: [state, brand, spend, campaign_id, mapped_storeid, platform, date_start, impressions, leads, link_clicks, reach, CAP_name, chainid, is_cap, agency, type, location_name]\n",
       "Index: []"
      ]
     },
     "execution_count": 9,
     "metadata": {},
     "output_type": "execute_result"
    }
   ],
   "source": [
    "# check if any B3 values remain\n",
    "rawDF.loc[rawDF['brand']== 'B3']"
   ]
  },
  {
   "cell_type": "code",
   "execution_count": 12,
   "id": "aa717df1",
   "metadata": {},
   "outputs": [
    {
     "name": "stdout",
     "output_type": "stream",
     "text": [
      "<class 'pandas.core.frame.DataFrame'>\n",
      "RangeIndex: 197268 entries, 0 to 197267\n",
      "Data columns (total 17 columns):\n",
      " #   Column          Non-Null Count   Dtype  \n",
      "---  ------          --------------   -----  \n",
      " 0   state           197268 non-null  object \n",
      " 1   brand           163191 non-null  object \n",
      " 2   spend           197268 non-null  float64\n",
      " 3   campaign_id     197268 non-null  float64\n",
      " 4   mapped_storeid  197268 non-null  float64\n",
      " 5   platform        197268 non-null  object \n",
      " 6   date_start      197268 non-null  object \n",
      " 7   impressions     197268 non-null  int64  \n",
      " 8   leads           197268 non-null  float64\n",
      " 9   link_clicks     197268 non-null  int64  \n",
      " 10  reach           194455 non-null  float64\n",
      " 11  CAP_name        43791 non-null   object \n",
      " 12  chainid         43791 non-null   float64\n",
      " 13  is_cap          43791 non-null   float64\n",
      " 14  agency          197268 non-null  object \n",
      " 15  type            197267 non-null  object \n",
      " 16  location_name   197268 non-null  object \n",
      "dtypes: float64(7), int64(2), object(8)\n",
      "memory usage: 25.6+ MB\n"
     ]
    },
    {
     "data": {
      "text/html": [
       "<div>\n",
       "<style scoped>\n",
       "    .dataframe tbody tr th:only-of-type {\n",
       "        vertical-align: middle;\n",
       "    }\n",
       "\n",
       "    .dataframe tbody tr th {\n",
       "        vertical-align: top;\n",
       "    }\n",
       "\n",
       "    .dataframe thead th {\n",
       "        text-align: right;\n",
       "    }\n",
       "</style>\n",
       "<table border=\"1\" class=\"dataframe\">\n",
       "  <thead>\n",
       "    <tr style=\"text-align: right;\">\n",
       "      <th></th>\n",
       "      <th>state</th>\n",
       "      <th>brand</th>\n",
       "      <th>spend</th>\n",
       "      <th>campaign_id</th>\n",
       "      <th>platform</th>\n",
       "      <th>date_start</th>\n",
       "      <th>impressions</th>\n",
       "      <th>leads</th>\n",
       "      <th>link_clicks</th>\n",
       "      <th>reach</th>\n",
       "      <th>is_cap</th>\n",
       "      <th>agency</th>\n",
       "      <th>location_name</th>\n",
       "    </tr>\n",
       "  </thead>\n",
       "  <tbody>\n",
       "    <tr>\n",
       "      <th>0</th>\n",
       "      <td>CA</td>\n",
       "      <td>B2</td>\n",
       "      <td>7.39</td>\n",
       "      <td>1.248033e+10</td>\n",
       "      <td>Google Ads</td>\n",
       "      <td>10/20/2021</td>\n",
       "      <td>114</td>\n",
       "      <td>1.0</td>\n",
       "      <td>8</td>\n",
       "      <td>NaN</td>\n",
       "      <td>1.0</td>\n",
       "      <td>Agency 2</td>\n",
       "      <td>B2 Roseville</td>\n",
       "    </tr>\n",
       "    <tr>\n",
       "      <th>1</th>\n",
       "      <td>CA</td>\n",
       "      <td>B1</td>\n",
       "      <td>18.34</td>\n",
       "      <td>1.342492e+10</td>\n",
       "      <td>Google Ads</td>\n",
       "      <td>7/26/2021</td>\n",
       "      <td>36</td>\n",
       "      <td>1.0</td>\n",
       "      <td>8</td>\n",
       "      <td>NaN</td>\n",
       "      <td>1.0</td>\n",
       "      <td>Agency 3</td>\n",
       "      <td>B1 - Redlands</td>\n",
       "    </tr>\n",
       "    <tr>\n",
       "      <th>2</th>\n",
       "      <td>WA</td>\n",
       "      <td>B2</td>\n",
       "      <td>3.42</td>\n",
       "      <td>1.150570e+10</td>\n",
       "      <td>Google Ads</td>\n",
       "      <td>8/7/2021</td>\n",
       "      <td>165</td>\n",
       "      <td>1.0</td>\n",
       "      <td>2</td>\n",
       "      <td>NaN</td>\n",
       "      <td>1.0</td>\n",
       "      <td>Agency 2</td>\n",
       "      <td>B2 Sammamish</td>\n",
       "    </tr>\n",
       "    <tr>\n",
       "      <th>3</th>\n",
       "      <td>CA</td>\n",
       "      <td>B2</td>\n",
       "      <td>20.28</td>\n",
       "      <td>1.426434e+10</td>\n",
       "      <td>Google Ads</td>\n",
       "      <td>12/19/2021</td>\n",
       "      <td>161</td>\n",
       "      <td>2.0</td>\n",
       "      <td>10</td>\n",
       "      <td>NaN</td>\n",
       "      <td>1.0</td>\n",
       "      <td>Agency 2</td>\n",
       "      <td>B2 Irvine</td>\n",
       "    </tr>\n",
       "    <tr>\n",
       "      <th>4</th>\n",
       "      <td>TX</td>\n",
       "      <td>B1</td>\n",
       "      <td>5.56</td>\n",
       "      <td>1.290236e+10</td>\n",
       "      <td>Google Ads</td>\n",
       "      <td>8/27/2021</td>\n",
       "      <td>56</td>\n",
       "      <td>1.0</td>\n",
       "      <td>3</td>\n",
       "      <td>NaN</td>\n",
       "      <td>1.0</td>\n",
       "      <td>Agency 2</td>\n",
       "      <td>B1 - Allen</td>\n",
       "    </tr>\n",
       "    <tr>\n",
       "      <th>...</th>\n",
       "      <td>...</td>\n",
       "      <td>...</td>\n",
       "      <td>...</td>\n",
       "      <td>...</td>\n",
       "      <td>...</td>\n",
       "      <td>...</td>\n",
       "      <td>...</td>\n",
       "      <td>...</td>\n",
       "      <td>...</td>\n",
       "      <td>...</td>\n",
       "      <td>...</td>\n",
       "      <td>...</td>\n",
       "      <td>...</td>\n",
       "    </tr>\n",
       "    <tr>\n",
       "      <th>197263</th>\n",
       "      <td>CA</td>\n",
       "      <td>NaN</td>\n",
       "      <td>77.28</td>\n",
       "      <td>2.380000e+16</td>\n",
       "      <td>Facebook Ads</td>\n",
       "      <td>6/29/2021</td>\n",
       "      <td>1623</td>\n",
       "      <td>0.0</td>\n",
       "      <td>16</td>\n",
       "      <td>1455.0</td>\n",
       "      <td>1.0</td>\n",
       "      <td>Agency 3</td>\n",
       "      <td>B3 - Del Mar</td>\n",
       "    </tr>\n",
       "    <tr>\n",
       "      <th>197264</th>\n",
       "      <td>CA</td>\n",
       "      <td>NaN</td>\n",
       "      <td>11.49</td>\n",
       "      <td>2.380000e+16</td>\n",
       "      <td>Facebook Ads</td>\n",
       "      <td>6/28/2021</td>\n",
       "      <td>404</td>\n",
       "      <td>0.0</td>\n",
       "      <td>5</td>\n",
       "      <td>398.0</td>\n",
       "      <td>1.0</td>\n",
       "      <td>Agency 3</td>\n",
       "      <td>B3 - North San Jose</td>\n",
       "    </tr>\n",
       "    <tr>\n",
       "      <th>197265</th>\n",
       "      <td>CA</td>\n",
       "      <td>NaN</td>\n",
       "      <td>18.03</td>\n",
       "      <td>2.380000e+16</td>\n",
       "      <td>Facebook Ads</td>\n",
       "      <td>6/27/2021</td>\n",
       "      <td>576</td>\n",
       "      <td>0.0</td>\n",
       "      <td>5</td>\n",
       "      <td>559.0</td>\n",
       "      <td>1.0</td>\n",
       "      <td>Agency 3</td>\n",
       "      <td>B3 - North San Jose</td>\n",
       "    </tr>\n",
       "    <tr>\n",
       "      <th>197266</th>\n",
       "      <td>CA</td>\n",
       "      <td>NaN</td>\n",
       "      <td>17.27</td>\n",
       "      <td>2.380000e+16</td>\n",
       "      <td>Facebook Ads</td>\n",
       "      <td>6/26/2021</td>\n",
       "      <td>555</td>\n",
       "      <td>0.0</td>\n",
       "      <td>7</td>\n",
       "      <td>537.0</td>\n",
       "      <td>1.0</td>\n",
       "      <td>Agency 3</td>\n",
       "      <td>B3 - North San Jose</td>\n",
       "    </tr>\n",
       "    <tr>\n",
       "      <th>197267</th>\n",
       "      <td>CA</td>\n",
       "      <td>NaN</td>\n",
       "      <td>11.81</td>\n",
       "      <td>2.380000e+16</td>\n",
       "      <td>Facebook Ads</td>\n",
       "      <td>6/25/2021</td>\n",
       "      <td>407</td>\n",
       "      <td>0.0</td>\n",
       "      <td>2</td>\n",
       "      <td>390.0</td>\n",
       "      <td>1.0</td>\n",
       "      <td>Agency 3</td>\n",
       "      <td>B3 - North San Jose</td>\n",
       "    </tr>\n",
       "  </tbody>\n",
       "</table>\n",
       "<p>197268 rows × 13 columns</p>\n",
       "</div>"
      ],
      "text/plain": [
       "       state brand  spend   campaign_id      platform  date_start  \\\n",
       "0         CA    B2   7.39  1.248033e+10    Google Ads  10/20/2021   \n",
       "1         CA    B1  18.34  1.342492e+10    Google Ads   7/26/2021   \n",
       "2         WA    B2   3.42  1.150570e+10    Google Ads    8/7/2021   \n",
       "3         CA    B2  20.28  1.426434e+10    Google Ads  12/19/2021   \n",
       "4         TX    B1   5.56  1.290236e+10    Google Ads   8/27/2021   \n",
       "...      ...   ...    ...           ...           ...         ...   \n",
       "197263    CA   NaN  77.28  2.380000e+16  Facebook Ads   6/29/2021   \n",
       "197264    CA   NaN  11.49  2.380000e+16  Facebook Ads   6/28/2021   \n",
       "197265    CA   NaN  18.03  2.380000e+16  Facebook Ads   6/27/2021   \n",
       "197266    CA   NaN  17.27  2.380000e+16  Facebook Ads   6/26/2021   \n",
       "197267    CA   NaN  11.81  2.380000e+16  Facebook Ads   6/25/2021   \n",
       "\n",
       "        impressions  leads  link_clicks   reach  is_cap    agency  \\\n",
       "0               114    1.0            8     NaN     1.0  Agency 2   \n",
       "1                36    1.0            8     NaN     1.0  Agency 3   \n",
       "2               165    1.0            2     NaN     1.0  Agency 2   \n",
       "3               161    2.0           10     NaN     1.0  Agency 2   \n",
       "4                56    1.0            3     NaN     1.0  Agency 2   \n",
       "...             ...    ...          ...     ...     ...       ...   \n",
       "197263         1623    0.0           16  1455.0     1.0  Agency 3   \n",
       "197264          404    0.0            5   398.0     1.0  Agency 3   \n",
       "197265          576    0.0            5   559.0     1.0  Agency 3   \n",
       "197266          555    0.0            7   537.0     1.0  Agency 3   \n",
       "197267          407    0.0            2   390.0     1.0  Agency 3   \n",
       "\n",
       "              location_name  \n",
       "0              B2 Roseville  \n",
       "1             B1 - Redlands  \n",
       "2              B2 Sammamish  \n",
       "3                 B2 Irvine  \n",
       "4                B1 - Allen  \n",
       "...                     ...  \n",
       "197263         B3 - Del Mar  \n",
       "197264  B3 - North San Jose  \n",
       "197265  B3 - North San Jose  \n",
       "197266  B3 - North San Jose  \n",
       "197267  B3 - North San Jose  \n",
       "\n",
       "[197268 rows x 13 columns]"
      ]
     },
     "execution_count": 12,
     "metadata": {},
     "output_type": "execute_result"
    }
   ],
   "source": [
    "# filtered out B3, now.. \n",
    "# DROP predetermined \"problems\" columns by index: \n",
    "# 4, 11, 12, 15\n",
    "rawDF.info()\n",
    "clean_df = rawDF.drop(rawDF.columns[[4,11,12,15]], axis=1)\n",
    "clean_df"
   ]
  },
  {
   "cell_type": "code",
   "execution_count": 15,
   "id": "191895aa",
   "metadata": {},
   "outputs": [
    {
     "name": "stdout",
     "output_type": "stream",
     "text": [
      "<class 'pandas.core.frame.DataFrame'>\n",
      "RangeIndex: 197268 entries, 0 to 197267\n",
      "Data columns (total 13 columns):\n",
      " #   Column         Non-Null Count   Dtype  \n",
      "---  ------         --------------   -----  \n",
      " 0   state          197268 non-null  object \n",
      " 1   brand          163191 non-null  object \n",
      " 2   spend          197268 non-null  float64\n",
      " 3   campaign_id    197268 non-null  float64\n",
      " 4   platform       197268 non-null  object \n",
      " 5   date_start     197268 non-null  object \n",
      " 6   impressions    197268 non-null  int64  \n",
      " 7   leads          197268 non-null  float64\n",
      " 8   link_clicks    197268 non-null  int64  \n",
      " 9   reach          194455 non-null  float64\n",
      " 10  is_cap         43791 non-null   float64\n",
      " 11  agency         197268 non-null  object \n",
      " 12  location_name  197268 non-null  object \n",
      "dtypes: float64(5), int64(2), object(6)\n",
      "memory usage: 19.6+ MB\n"
     ]
    }
   ],
   "source": [
    "# check clean df\n",
    "clean_df.info()"
   ]
  },
  {
   "cell_type": "code",
   "execution_count": null,
   "id": "c905d5ea",
   "metadata": {},
   "outputs": [],
   "source": [
    "# impression may need binning\n",
    "\n",
    "# drop campaign id, is cap\n",
    "\n",
    "# keep and edit location name if done as population size\n",
    "# keep and edit start date if done as binned for seasons\n",
    "\n",
    "# best columns = spend, state, platform, clicks\n"
   ]
  },
  {
   "cell_type": "markdown",
   "id": "8a445cf3",
   "metadata": {},
   "source": [
    "# Rough/Quick Preprocessing Complete"
   ]
  },
  {
   "cell_type": "markdown",
   "id": "a891dae5",
   "metadata": {},
   "source": [
    "# Binning"
   ]
  },
  {
   "cell_type": "code",
   "execution_count": 14,
   "id": "61f9888c",
   "metadata": {},
   "outputs": [
    {
     "data": {
      "text/plain": [
       "state              44\n",
       "brand               2\n",
       "spend            9464\n",
       "campaign_id        58\n",
       "platform            2\n",
       "date_start        365\n",
       "impressions      5870\n",
       "leads              36\n",
       "link_clicks       183\n",
       "reach            5452\n",
       "is_cap              1\n",
       "agency             11\n",
       "location_name     472\n",
       "dtype: int64"
      ]
     },
     "execution_count": 14,
     "metadata": {},
     "output_type": "execute_result"
    }
   ],
   "source": [
    "# Determine the number of unique values in each column.\n",
    "# if anything > 10, suggested to inspect further if non-numeric/string value column\n",
    "clean_df.nunique()\n",
    "# output shows potential need for binning on: \n",
    "# location_name, agency, date_start, campaign_id, state"
   ]
  },
  {
   "cell_type": "code",
   "execution_count": null,
   "id": "7da1db79",
   "metadata": {},
   "outputs": [],
   "source": [
    "# use optbinning import \n"
   ]
  },
  {
   "cell_type": "code",
   "execution_count": 16,
   "id": "1e0d9883",
   "metadata": {},
   "outputs": [
    {
     "data": {
      "text/plain": [
       "CA    34208\n",
       "TX    22380\n",
       "FL    11681\n",
       "OH     9765\n",
       "CO     9524\n",
       "IL     8673\n",
       "TN     8096\n",
       "MO     7571\n",
       "NC     6283\n",
       "MI     6187\n",
       "NJ     6142\n",
       "VA     5987\n",
       "GA     5387\n",
       "PA     5336\n",
       "AZ     5178\n",
       "WA     4625\n",
       "MN     4091\n",
       "NY     3763\n",
       "MA     2783\n",
       "OR     2611\n",
       "WI     2415\n",
       "CT     2384\n",
       "IN     2377\n",
       "KS     2066\n",
       "UT     2005\n",
       "IA     1918\n",
       "OK     1695\n",
       "LA     1603\n",
       "KY     1382\n",
       "NM     1074\n",
       "SC      930\n",
       "MD      913\n",
       "RI      908\n",
       "MS      873\n",
       "NV      751\n",
       "ME      747\n",
       "ID      651\n",
       "NE      433\n",
       "ND      387\n",
       "AR      368\n",
       "VT      331\n",
       "AL      290\n",
       "DC      250\n",
       "SD      246\n",
       "Name: state, dtype: int64"
      ]
     },
     "execution_count": 16,
     "metadata": {},
     "output_type": "execute_result"
    }
   ],
   "source": [
    "# Look at state value counts for binning\n",
    "stateCnts = clean_df['state'].value_counts()\n",
    "stateCnts\n",
    "\n",
    "# It may be appropriate to EITHER: \n",
    "# 1. ONLY LOOK AT ONE STATE OF DATA\n",
    "# OR 2. CREATE BINS BY REGIONS"
   ]
  },
  {
   "cell_type": "code",
   "execution_count": 17,
   "id": "8abf438c",
   "metadata": {},
   "outputs": [
    {
     "data": {
      "text/plain": [
       "<AxesSubplot:ylabel='Density'>"
      ]
     },
     "execution_count": 17,
     "metadata": {},
     "output_type": "execute_result"
    },
    {
     "data": {
      "image/png": "[encoded data removed]",
      "text/plain": [
       "<Figure size 432x288 with 1 Axes>"
      ]
     },
     "metadata": {
      "needs_background": "light"
     },
     "output_type": "display_data"
    }
   ],
   "source": [
    "# Visualize the value counts of stateCnts\n",
    "stateCnts.plot.density()"
   ]
  },
  {
   "cell_type": "code",
   "execution_count": 27,
   "id": "aebb04dd",
   "metadata": {},
   "outputs": [
    {
     "data": {
      "text/plain": [
       "CA       34208\n",
       "TX       22380\n",
       "FL       11681\n",
       "OH        9765\n",
       "CO        9524\n",
       "IL        8673\n",
       "TN        8096\n",
       "Other     8078\n",
       "MO        7571\n",
       "NC        6283\n",
       "MI        6187\n",
       "NJ        6142\n",
       "VA        5987\n",
       "GA        5387\n",
       "PA        5336\n",
       "AZ        5178\n",
       "WA        4625\n",
       "MN        4091\n",
       "NY        3763\n",
       "MA        2783\n",
       "OR        2611\n",
       "WI        2415\n",
       "CT        2384\n",
       "IN        2377\n",
       "KS        2066\n",
       "UT        2005\n",
       "IA        1918\n",
       "OK        1695\n",
       "LA        1603\n",
       "KY        1382\n",
       "NM        1074\n",
       "Name: state, dtype: int64"
      ]
     },
     "execution_count": 27,
     "metadata": {},
     "output_type": "execute_result"
    }
   ],
   "source": [
    "# Determine which values to replace if counts are less than ...?\n",
    "# setting at 1000 since I saw SC less than 930 values\n",
    "\n",
    "stateCnts_Other = stateCnts[stateCnts < 1000].index.tolist()\n",
    "\n",
    "# Replace in dataframe\n",
    "for app in stateCnts_Other:\n",
    "    clean_df['state'] = clean_df['state'].replace(app,\"Other\")\n",
    "    \n",
    "# Check to make sure binning was successful\n",
    "clean_df['state'].value_counts()"
   ]
  },
  {
   "cell_type": "code",
   "execution_count": 28,
   "id": "86ce334d",
   "metadata": {},
   "outputs": [
    {
     "data": {
      "text/plain": [
       "Agency 3     81515\n",
       "Agency 4     46424\n",
       "Agency 2     42153\n",
       "Agency 6     11383\n",
       "Agency 8      5664\n",
       "Agency 7      4090\n",
       "Agency 5      3831\n",
       "Agency 9      1645\n",
       "Agency 10      557\n",
       "Agency 11        5\n",
       "Agency 12        1\n",
       "Name: agency, dtype: int64"
      ]
     },
     "execution_count": 28,
     "metadata": {},
     "output_type": "execute_result"
    }
   ],
   "source": [
    "# Look at agency value counts for binning\n",
    "agencyCnts = clean_df['agency'].value_counts()\n",
    "agencyCnts\n",
    "\n",
    "# It may be appropriate to EITHER: \n",
    "# 1. Bin Agencies 10-12 as \"Other\"\n",
    "# OR 2. Focus on a couple of agencies against each other"
   ]
  },
  {
   "cell_type": "code",
   "execution_count": 29,
   "id": "3cfbe6b1",
   "metadata": {},
   "outputs": [
    {
     "data": {
      "text/plain": [
       "<AxesSubplot:ylabel='Density'>"
      ]
     },
     "execution_count": 29,
     "metadata": {},
     "output_type": "execute_result"
    },
    {
     "data": {
      "image/png": "[encoded data removed]",
      "text/plain": [
       "<Figure size 432x288 with 1 Axes>"
      ]
     },
     "metadata": {
      "needs_background": "light"
     },
     "output_type": "display_data"
    }
   ],
   "source": [
    "# Visualize the value counts of agencyCnts\n",
    "agencyCnts.plot.density()"
   ]
  },
  {
   "cell_type": "code",
   "execution_count": 34,
   "id": "e227ea26",
   "metadata": {},
   "outputs": [
    {
     "data": {
      "text/plain": [
       "Agency 3    81515\n",
       "Agency 4    46424\n",
       "Agency 2    42153\n",
       "Other       15793\n",
       "Agency 6    11383\n",
       "Name: agency, dtype: int64"
      ]
     },
     "execution_count": 34,
     "metadata": {},
     "output_type": "execute_result"
    }
   ],
   "source": [
    "# Determine which values to replace if counts are less than ...?\n",
    "# setting at 6000 since I want to focus on agency 3, 4, 2, 6\n",
    "\n",
    "agencyCnts_Other = agencyCnts[agencyCnts < 6000].index.tolist()\n",
    "\n",
    "# Replace in dataframe\n",
    "for app in agencyCnts_Other:\n",
    "    clean_df['agency'] = clean_df['agency'].replace(app,\"Other\")\n",
    "    \n",
    "# Check to make sure binning was successful\n",
    "clean_df['agency'].value_counts()"
   ]
  },
  {
   "cell_type": "code",
   "execution_count": 20,
   "id": "aeae9688",
   "metadata": {},
   "outputs": [
    {
     "data": {
      "text/plain": [
       "B1 - Troy                1254\n",
       "B1 - Polaris             1252\n",
       "B1 - Rockwall            1190\n",
       "B1 - Los Gatos           1179\n",
       "B1 - Lubbock             1140\n",
       "                         ... \n",
       "B1 - West Kendall          11\n",
       "B3 - South Tampa           11\n",
       "B3 - Westlake Village       5\n",
       "B1 - Raleigh Midtown        5\n",
       "B3 - Lubbock                5\n",
       "Name: location_name, Length: 472, dtype: int64"
      ]
     },
     "execution_count": 20,
     "metadata": {},
     "output_type": "execute_result"
    }
   ],
   "source": [
    "# Look at location_name value counts for binning\n",
    "location_nameCnts = clean_df['location_name'].value_counts()\n",
    "location_nameCnts\n",
    "\n",
    "# It may be appropriate to EITHER: \n",
    "# 1. locations indicated as B3, ignored/binned as other"
   ]
  },
  {
   "cell_type": "code",
   "execution_count": 21,
   "id": "70eee255",
   "metadata": {},
   "outputs": [
    {
     "data": {
      "text/plain": [
       "<AxesSubplot:ylabel='Density'>"
      ]
     },
     "execution_count": 21,
     "metadata": {},
     "output_type": "execute_result"
    },
    {
     "data": {
      "image/png": "[encoded data removed]",
      "text/plain": [
       "<Figure size 432x288 with 1 Axes>"
      ]
     },
     "metadata": {
      "needs_background": "light"
     },
     "output_type": "display_data"
    }
   ],
   "source": [
    "location_nameCnts.plot.density()"
   ]
  },
  {
   "cell_type": "code",
   "execution_count": 37,
   "id": "3c7e3db5",
   "metadata": {},
   "outputs": [
    {
     "data": {
      "text/plain": [
       "Other                    171916\n",
       "B1 - Troy                  1254\n",
       "B1 - Polaris               1252\n",
       "B1 - Rockwall              1190\n",
       "B1 - Los Gatos             1179\n",
       "B1 - Lubbock               1140\n",
       "B1 - Richmond Heights      1130\n",
       "B1 - Creve Coeur           1127\n",
       "B1 - Easton                1110\n",
       "B1 - Fritz Farm            1104\n",
       "B1 - Hyde Park             1100\n",
       "B1 - Leawood               1098\n",
       "B1 - Scottsdale 101        1097\n",
       "B1 - Bearden               1097\n",
       "B1 - West Nash             1084\n",
       "B1 - Redmond TC            1083\n",
       "B1 - Houston Heights       1076\n",
       "B1 - McCormick Ranch       1062\n",
       "B1 - Kenwood               1041\n",
       "B1 - Fort Collins          1032\n",
       "B1 - Robinson              1031\n",
       "B1 - The Gulch             1030\n",
       "B1 - Winston Salem         1027\n",
       "B1 - Kildeer               1008\n",
       "Name: location_name, dtype: int64"
      ]
     },
     "execution_count": 37,
     "metadata": {},
     "output_type": "execute_result"
    }
   ],
   "source": [
    "# Determine which values to replace if counts are less than ...?\n",
    "# setting at 1000 since I want to focus on cities with more than 1000 data points\n",
    "\n",
    "location_nameCnts_Other = location_nameCnts[location_nameCnts < 1000].index.tolist()\n",
    "\n",
    "# Replace in dataframe\n",
    "for app in location_nameCnts_Other:\n",
    "    clean_df['location_name'] = clean_df['location_name'].replace(app,\"Other\")\n",
    "    \n",
    "# Check to make sure binning was successful\n",
    "clean_df['location_name'].value_counts()"
   ]
  },
  {
   "cell_type": "code",
   "execution_count": 22,
   "id": "2687786d",
   "metadata": {},
   "outputs": [
    {
     "data": {
      "text/plain": [
       "4/23/2021    739\n",
       "4/22/2021    729\n",
       "4/24/2021    724\n",
       "4/25/2021    722\n",
       "4/21/2021    721\n",
       "            ... \n",
       "1/18/2021    348\n",
       "1/31/2021    347\n",
       "1/17/2021    340\n",
       "1/3/2021     322\n",
       "1/2/2021     313\n",
       "Name: date_start, Length: 365, dtype: int64"
      ]
     },
     "execution_count": 22,
     "metadata": {},
     "output_type": "execute_result"
    }
   ],
   "source": [
    "# Look at date_start value counts for binning\n",
    "date_startCnts = clean_df['date_start'].value_counts()\n",
    "date_startCnts\n",
    "\n",
    "# It may be appropriate to EITHER: \n",
    "# 1. bin start dates 1/18/21 and before as other"
   ]
  },
  {
   "cell_type": "code",
   "execution_count": 23,
   "id": "5ef6ea41",
   "metadata": {},
   "outputs": [
    {
     "data": {
      "text/plain": [
       "<AxesSubplot:ylabel='Density'>"
      ]
     },
     "execution_count": 23,
     "metadata": {},
     "output_type": "execute_result"
    },
    {
     "data": {
      "image/png": "[encoded data removed]",
      "text/plain": [
       "<Figure size 432x288 with 1 Axes>"
      ]
     },
     "metadata": {
      "needs_background": "light"
     },
     "output_type": "display_data"
    }
   ],
   "source": [
    "date_startCnts.plot.density()"
   ]
  },
  {
   "cell_type": "code",
   "execution_count": 38,
   "id": "9186b7d7",
   "metadata": {},
   "outputs": [
    {
     "data": {
      "text/plain": [
       "Other        1670\n",
       "4/23/2021     739\n",
       "4/22/2021     729\n",
       "4/24/2021     724\n",
       "4/25/2021     722\n",
       "             ... \n",
       "2/4/2021      359\n",
       "2/6/2021      357\n",
       "2/7/2021      355\n",
       "1/30/2021     352\n",
       "1/1/2021      351\n",
       "Name: date_start, Length: 361, dtype: int64"
      ]
     },
     "execution_count": 38,
     "metadata": {},
     "output_type": "execute_result"
    }
   ],
   "source": [
    "# Determine which values to replace if counts are less than ...?\n",
    "# setting at 350 to make other for 1/18/2021 or before\n",
    "\n",
    "date_startCnts_Other = date_startCnts[date_startCnts < 350].index.tolist()\n",
    "\n",
    "# Replace in dataframe\n",
    "for app in date_startCnts_Other:\n",
    "    clean_df['date_start'] = clean_df['date_start'].replace(app,\"Other\")\n",
    "    \n",
    "# Check to make sure binning was successful\n",
    "clean_df['date_start'].value_counts()"
   ]
  },
  {
   "cell_type": "code",
   "execution_count": 24,
   "id": "8c7421bd",
   "metadata": {},
   "outputs": [
    {
     "data": {
      "text/plain": [
       "2.380000e+16    191635\n",
       "2.390000e+16       912\n",
       "6.220000e+12       478\n",
       "6.240000e+12       458\n",
       "6.250000e+12       451\n",
       "6.230000e+12       332\n",
       "1.248033e+10       164\n",
       "6.210000e+12       157\n",
       "1.342492e+10       156\n",
       "1.051919e+10       152\n",
       "1.132644e+10       142\n",
       "1.176240e+10       141\n",
       "1.101654e+10       114\n",
       "1.262135e+10       109\n",
       "1.245405e+10       107\n",
       "1.290236e+10       105\n",
       "8.671577e+09       104\n",
       "1.426462e+10        97\n",
       "1.426434e+10        96\n",
       "1.281866e+10        95\n",
       "1.425457e+10        95\n",
       "1.089396e+10        82\n",
       "1.457369e+10        75\n",
       "1.292047e+10        70\n",
       "1.353365e+10        65\n",
       "1.408462e+10        64\n",
       "1.307231e+10        59\n",
       "1.363449e+10        50\n",
       "1.426384e+10        49\n",
       "1.486476e+10        45\n",
       "1.483325e+10        40\n",
       "1.433742e+10        39\n",
       "1.522565e+10        36\n",
       "1.489613e+10        34\n",
       "1.511714e+10        34\n",
       "1.493365e+10        33\n",
       "6.260000e+12        32\n",
       "1.447983e+10        30\n",
       "1.502780e+10        30\n",
       "1.492585e+10        30\n",
       "1.522224e+10        30\n",
       "1.475648e+10        29\n",
       "1.441913e+10        29\n",
       "1.426442e+10        28\n",
       "1.475358e+10        28\n",
       "1.522881e+10        22\n",
       "1.426510e+10        21\n",
       "1.517657e+10        15\n",
       "1.542853e+10        13\n",
       "1.514203e+10        11\n",
       "1.150570e+10         9\n",
       "1.426328e+10         8\n",
       "1.503390e+10         7\n",
       "1.542594e+10         5\n",
       "1.564624e+10         4\n",
       "1.545740e+10         4\n",
       "1.541446e+10         4\n",
       "1.425779e+10         4\n",
       "Name: campaign_id, dtype: int64"
      ]
     },
     "execution_count": 24,
     "metadata": {},
     "output_type": "execute_result"
    }
   ],
   "source": [
    "# Look at campaign_id value counts for binning\n",
    "campaign_idCnts = clean_df['campaign_id'].value_counts()\n",
    "campaign_idCnts\n",
    "\n",
    "# It may be appropriate to EITHER: \n",
    "# 1. bin Ids around 100 or less"
   ]
  },
  {
   "cell_type": "code",
   "execution_count": 25,
   "id": "85015e83",
   "metadata": {},
   "outputs": [
    {
     "data": {
      "text/plain": [
       "<AxesSubplot:ylabel='Density'>"
      ]
     },
     "execution_count": 25,
     "metadata": {},
     "output_type": "execute_result"
    },
    {
     "data": {
      "image/png": "[encoded data removed]",
      "text/plain": [
       "<Figure size 432x288 with 1 Axes>"
      ]
     },
     "metadata": {
      "needs_background": "light"
     },
     "output_type": "display_data"
    }
   ],
   "source": [
    "campaign_idCnts.plot.density()"
   ]
  },
  {
   "cell_type": "code",
   "execution_count": 41,
   "id": "d5c15d56",
   "metadata": {},
   "outputs": [
    {
     "data": {
      "text/plain": [
       "2.38e+16           191635\n",
       "Other                3334\n",
       "2.39e+16              912\n",
       "6220000000000.0       478\n",
       "6240000000000.0       458\n",
       "6250000000000.0       451\n",
       "Name: campaign_id, dtype: int64"
      ]
     },
     "execution_count": 41,
     "metadata": {},
     "output_type": "execute_result"
    }
   ],
   "source": [
    "# Determine which values to replace if counts are less than ...?\n",
    "# setting at 100 to make other \n",
    "\n",
    "campaign_idCnts_Other = campaign_idCnts[campaign_idCnts < 350].index.tolist()\n",
    "\n",
    "# Replace in dataframe\n",
    "for app in campaign_idCnts_Other:\n",
    "    clean_df['campaign_id'] = clean_df['campaign_id'].replace(app,\"Other\")\n",
    "    \n",
    "# Check to make sure binning was successful\n",
    "clean_df['campaign_id'].value_counts()"
   ]
  },
  {
   "cell_type": "code",
   "execution_count": null,
   "id": "a4e0be3b",
   "metadata": {},
   "outputs": [],
   "source": [
    "# generagte cat variables"
   ]
  },
  {
   "cell_type": "code",
   "execution_count": null,
   "id": "7d2ed4bb",
   "metadata": {},
   "outputs": [],
   "source": [
    "# one hot encoder"
   ]
  },
  {
   "cell_type": "code",
   "execution_count": null,
   "id": "662e7388",
   "metadata": {},
   "outputs": [],
   "source": [
    "# merge dfs"
   ]
  },
  {
   "cell_type": "markdown",
   "id": "200565c8",
   "metadata": {},
   "source": [
    "# Split into train and test features"
   ]
  },
  {
   "cell_type": "code",
   "execution_count": null,
   "id": "7d94906d",
   "metadata": {},
   "outputs": [],
   "source": [
    "# "
   ]
  },
  {
   "cell_type": "markdown",
   "id": "6fa1cbb6",
   "metadata": {},
   "source": [
    "# Compile, Train, Evaluate our Model"
   ]
  },
  {
   "cell_type": "code",
   "execution_count": null,
   "id": "f05aec29",
   "metadata": {},
   "outputs": [],
   "source": []
  }
 ],
 "metadata": {
  "kernelspec": {
   "display_name": "PythonData",
   "language": "python",
   "name": "pythondata"
  },
  "language_info": {
   "codemirror_mode": {
    "name": "ipython",
    "version": 3
   },
   "file_extension": ".py",
   "mimetype": "text/x-python",
   "name": "python",
   "nbconvert_exporter": "python",
   "pygments_lexer": "ipython3",
   "version": "3.7.11"
  }
 },
 "nbformat": 4,
 "nbformat_minor": 5
}
